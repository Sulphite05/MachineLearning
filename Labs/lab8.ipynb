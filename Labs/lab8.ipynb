{
  "nbformat": 4,
  "nbformat_minor": 0,
  "metadata": {
    "colab": {
      "provenance": []
    },
    "kernelspec": {
      "name": "python3",
      "display_name": "Python 3"
    },
    "language_info": {
      "name": "python"
    }
  },
  "cells": [
    {
      "cell_type": "code",
      "execution_count": 6,
      "metadata": {
        "id": "UWLt5CBUUg2e",
        "colab": {
          "base_uri": "https://localhost:8080/"
        },
        "outputId": "65e2796b-f0a6-4cfe-f886-52478bc99c61"
      },
      "outputs": [
        {
          "output_type": "stream",
          "name": "stdout",
          "text": [
            "Accuracy: 1.0\n",
            "Precision: 1.0\n",
            "Recall score: 1.0\n",
            "F1 score: 1.0\n"
          ]
        }
      ],
      "source": [
        "# Q2.\n",
        "from ucimlrepo import fetch_ucirepo\n",
        "from sklearn.model_selection import train_test_split\n",
        "from sklearn.tree import DecisionTreeClassifier\n",
        "from sklearn.metrics import accuracy_score, recall_score, precision_score, f1_score\n",
        "import pandas as pd\n",
        "\n",
        "iris = fetch_ucirepo(id=53)\n",
        "\n",
        "iris_X = iris.data.features\n",
        "iris_y = iris.data.targets\n",
        "\n",
        "X_train_iris, X_test_iris, y_train_iris, y_test_iris = train_test_split(iris_X, iris_y, test_size=0.2, random_state=42)\n",
        "dt_iris = DecisionTreeClassifier().fit(X_train_iris, y_train_iris)\n",
        "y_pred_iris = dt_iris.predict(X_test_iris)\n",
        "\n",
        "print(\"Accuracy:\", accuracy_score(y_test_iris, y_pred_iris))\n",
        "print(\"Precision:\", precision_score(y_test_iris, y_pred_iris, average='micro'))\n",
        "print(\"Recall score:\", recall_score(y_test_iris, y_pred_iris, average='micro'))\n",
        "print(\"F1 score:\", f1_score(y_test_iris, y_pred_iris, average='micro'))"
      ]
    },
    {
      "cell_type": "code",
      "source": [
        "!pip install ucimlrepo"
      ],
      "metadata": {
        "colab": {
          "base_uri": "https://localhost:8080/"
        },
        "id": "7PCmpbKnz_WR",
        "outputId": "8a964095-9fb3-412c-a0be-9628b46bdb62"
      },
      "execution_count": null,
      "outputs": [
        {
          "output_type": "stream",
          "name": "stdout",
          "text": [
            "Collecting ucimlrepo\n",
            "  Downloading ucimlrepo-0.0.7-py3-none-any.whl.metadata (5.5 kB)\n",
            "Requirement already satisfied: pandas>=1.0.0 in /usr/local/lib/python3.11/dist-packages (from ucimlrepo) (2.2.2)\n",
            "Requirement already satisfied: certifi>=2020.12.5 in /usr/local/lib/python3.11/dist-packages (from ucimlrepo) (2025.4.26)\n",
            "Requirement already satisfied: numpy>=1.23.2 in /usr/local/lib/python3.11/dist-packages (from pandas>=1.0.0->ucimlrepo) (2.0.2)\n",
            "Requirement already satisfied: python-dateutil>=2.8.2 in /usr/local/lib/python3.11/dist-packages (from pandas>=1.0.0->ucimlrepo) (2.9.0.post0)\n",
            "Requirement already satisfied: pytz>=2020.1 in /usr/local/lib/python3.11/dist-packages (from pandas>=1.0.0->ucimlrepo) (2025.2)\n",
            "Requirement already satisfied: tzdata>=2022.7 in /usr/local/lib/python3.11/dist-packages (from pandas>=1.0.0->ucimlrepo) (2025.2)\n",
            "Requirement already satisfied: six>=1.5 in /usr/local/lib/python3.11/dist-packages (from python-dateutil>=2.8.2->pandas>=1.0.0->ucimlrepo) (1.17.0)\n",
            "Downloading ucimlrepo-0.0.7-py3-none-any.whl (8.0 kB)\n",
            "Installing collected packages: ucimlrepo\n",
            "Successfully installed ucimlrepo-0.0.7\n"
          ]
        }
      ]
    },
    {
      "cell_type": "code",
      "source": [
        "wine = fetch_ucirepo(id=109)\n",
        "\n",
        "wine_X = wine.data.features\n",
        "wine_y = wine.data.targets\n",
        "\n",
        "X_train_wine, X_test_wine, y_train_wine, y_test_wine = train_test_split(wine_X, wine_y, test_size=0.2, random_state=42)\n",
        "dt_wine = DecisionTreeClassifier().fit(X_train_wine, y_train_wine)\n",
        "y_pred_wine = dt_wine.predict(X_test_wine)\n",
        "\n",
        "print(\"Accuracy:\", accuracy_score(y_test_wine, y_pred_wine))\n",
        "print(\"Precision:\", precision_score(y_test_wine, y_pred_wine, average='micro'))\n",
        "print(\"Recall score:\", recall_score(y_test_wine, y_pred_wine, average='micro'))\n",
        "print(\"F1 score:\", f1_score(y_test_wine, y_pred_wine, average='micro'))"
      ],
      "metadata": {
        "colab": {
          "base_uri": "https://localhost:8080/"
        },
        "id": "by2B36fSX9wW",
        "outputId": "38dd5b37-2568-4186-9dc9-798a5b1d4610"
      },
      "execution_count": 7,
      "outputs": [
        {
          "output_type": "stream",
          "name": "stdout",
          "text": [
            "Accuracy: 0.9444444444444444\n",
            "Precision: 0.9444444444444444\n",
            "Recall score: 0.9444444444444444\n",
            "F1 score: 0.9444444444444444\n"
          ]
        }
      ]
    },
    {
      "cell_type": "code",
      "source": [
        "# Q3.\n",
        "\n",
        "dt_iris_3 = DecisionTreeClassifier(max_depth=3).fit(X_train_iris, y_train_iris)\n",
        "y_pred_iris = dt_iris_3.predict(X_test_iris)\n",
        "\n",
        "print(\"Accuracy:\", accuracy_score(y_test_iris, y_pred_iris))\n",
        "print(\"Precision:\", precision_score(y_test_iris, y_pred_iris, average='micro'))\n",
        "print(\"Recall score:\", recall_score(y_test_iris, y_pred_iris, average='micro'))\n",
        "print(\"F1 score:\", f1_score(y_test_iris, y_pred_iris, average='micro'))\n",
        "\n",
        "dt_iris_4 = DecisionTreeClassifier(max_depth=4).fit(X_train_iris, y_train_iris)\n",
        "y_pred_iris = dt_iris_4.predict(X_test_iris)\n",
        "\n",
        "print(\"\\nAccuracy:\", accuracy_score(y_test_iris, y_pred_iris))\n",
        "print(\"Precision:\", precision_score(y_test_iris, y_pred_iris, average='micro'))\n",
        "print(\"Recall score:\", recall_score(y_test_iris, y_pred_iris, average='micro'))\n",
        "print(\"F1 score:\", f1_score(y_test_iris, y_pred_iris, average='micro'))\n",
        "\n",
        "\n",
        "dt_iris_5 = DecisionTreeClassifier(max_depth=5).fit(X_train_iris, y_train_iris)\n",
        "y_pred_iris = dt_iris_5.predict(X_test_iris)\n",
        "\n",
        "print(\"\\nAccuracy:\", accuracy_score(y_test_iris, y_pred_iris))\n",
        "print(\"Precision:\", precision_score(y_test_iris, y_pred_iris, average='micro'))\n",
        "print(\"Recall score:\", recall_score(y_test_iris, y_pred_iris, average='micro'))\n",
        "print(\"F1 score:\", f1_score(y_test_iris, y_pred_iris, average='micro'))\n"
      ],
      "metadata": {
        "colab": {
          "base_uri": "https://localhost:8080/"
        },
        "id": "8JS9UJ_7XFUK",
        "outputId": "c349768a-cad9-4031-fc9a-ff5e7a9cef07"
      },
      "execution_count": 8,
      "outputs": [
        {
          "output_type": "stream",
          "name": "stdout",
          "text": [
            "Accuracy: 1.0\n",
            "Precision: 1.0\n",
            "Recall score: 1.0\n",
            "F1 score: 1.0\n",
            "\n",
            "Accuracy: 1.0\n",
            "Precision: 1.0\n",
            "Recall score: 1.0\n",
            "F1 score: 1.0\n",
            "\n",
            "Accuracy: 1.0\n",
            "Precision: 1.0\n",
            "Recall score: 1.0\n",
            "F1 score: 1.0\n"
          ]
        }
      ]
    },
    {
      "cell_type": "code",
      "source": [
        "dt_wine_3 = DecisionTreeClassifier(max_depth=3).fit(X_train_wine, y_train_wine)\n",
        "y_pred_wine = dt_wine_3.predict(X_test_wine)\n",
        "\n",
        "print(\"Accuracy:\", accuracy_score(y_test_wine, y_pred_wine))\n",
        "print(\"Precision:\", precision_score(y_test_wine, y_pred_wine, average='micro'))\n",
        "print(\"Recall score:\", recall_score(y_test_wine, y_pred_wine, average='micro'))\n",
        "print(\"F1 score:\", f1_score(y_test_wine, y_pred_wine, average='micro'))\n",
        "\n",
        "dt_wine_4 = DecisionTreeClassifier(max_depth=4).fit(X_train_wine, y_train_wine)\n",
        "y_pred_wine = dt_wine_4.predict(X_test_wine)\n",
        "\n",
        "print(\"\\nAccuracy:\", accuracy_score(y_test_wine, y_pred_wine))\n",
        "print(\"Precision:\", precision_score(y_test_wine, y_pred_wine, average='micro'))\n",
        "print(\"Recall score:\", recall_score(y_test_wine, y_pred_wine, average='micro'))\n",
        "print(\"F1 score:\", f1_score(y_test_wine, y_pred_wine, average='micro'))\n",
        "\n",
        "dt_wine_5 = DecisionTreeClassifier(max_depth=5).fit(X_train_wine, y_train_wine)\n",
        "y_pred_wine = dt_wine_5.predict(X_test_wine)\n",
        "\n",
        "print(\"\\nAccuracy:\", accuracy_score(y_test_wine, y_pred_wine))\n",
        "print(\"Precision:\", precision_score(y_test_wine, y_pred_wine, average='micro'))\n",
        "print(\"Recall score:\", recall_score(y_test_wine, y_pred_wine, average='micro'))\n",
        "print(\"F1 score:\", f1_score(y_test_wine, y_pred_wine, average='micro'))"
      ],
      "metadata": {
        "colab": {
          "base_uri": "https://localhost:8080/"
        },
        "id": "OmlhjRrucKSC",
        "outputId": "6098700c-ef98-48fa-899f-9e8c4b2f7f5c"
      },
      "execution_count": 9,
      "outputs": [
        {
          "output_type": "stream",
          "name": "stdout",
          "text": [
            "Accuracy: 0.9444444444444444\n",
            "Precision: 0.9444444444444444\n",
            "Recall score: 0.9444444444444444\n",
            "F1 score: 0.9444444444444444\n",
            "\n",
            "Accuracy: 0.9444444444444444\n",
            "Precision: 0.9444444444444444\n",
            "Recall score: 0.9444444444444444\n",
            "F1 score: 0.9444444444444444\n",
            "\n",
            "Accuracy: 0.9444444444444444\n",
            "Precision: 0.9444444444444444\n",
            "Recall score: 0.9444444444444444\n",
            "F1 score: 0.9444444444444444\n"
          ]
        }
      ]
    },
    {
      "cell_type": "code",
      "source": [
        "# Q5.\n",
        "from sklearn.tree import DecisionTreeRegressor\n",
        "from sklearn.linear_model import LinearRegression\n",
        "from sklearn.svm import SVR\n",
        "from sklearn.metrics import r2_score, mean_squared_error\n",
        "\n",
        "wave = fetch_ucirepo(id=107)\n",
        "\n",
        "wave_X = wave.data.features\n",
        "wave_y = wave.data.targets\n",
        "\n",
        "X_train_wave, X_test_wave, y_train_wave, y_test_wave = train_test_split(wave_X, wave_y, test_size=0.4, random_state=42)\n",
        "dt_wave = DecisionTreeRegressor().fit(X_train_wave, y_train_wave)\n",
        "y_pred_wave = dt_wave.predict(X_test_wave)\n",
        "\n",
        "print(\"Decision Tree Classifier\")\n",
        "print(\"R2 score:\", r2_score(y_test_wave, y_pred_wave))\n",
        "print(\"Mean squared error:\", mean_squared_error(y_test_wave, y_pred_wave))\n",
        "\n",
        "lr_wave = LinearRegression().fit(X_train_wave, y_train_wave)\n",
        "y_pred_wave = lr_wave.predict(X_test_wave)\n",
        "\n",
        "print(\"\\nLinear Regression\")\n",
        "print(\"R2 score:\", r2_score(y_test_wave, y_pred_wave))\n",
        "print(\"Mean squared error:\", mean_squared_error(y_test_wave, y_pred_wave))"
      ],
      "metadata": {
        "colab": {
          "base_uri": "https://localhost:8080/"
        },
        "id": "-G-Pm5jFcUj4",
        "outputId": "52c97bd4-4540-4977-a0d4-fa7e8486896c"
      },
      "execution_count": 19,
      "outputs": [
        {
          "output_type": "stream",
          "name": "stdout",
          "text": [
            "Decision Tree Classifier\n",
            "R2 score: 0.21133937314028772\n",
            "Mean squared error: 0.5185\n",
            "\n",
            "Linear Regression\n",
            "R2 score: 0.4557906096413009\n",
            "Mean squared error: 0.35778706238263697\n"
          ]
        }
      ]
    },
    {
      "cell_type": "code",
      "source": [
        "import kagglehub\n",
        "\n",
        "path = kagglehub.dataset_download(\"shubhankartiwari/ram-prices\")\n",
        "ram = pd.read_csv(path + '/ram_price.csv')\n",
        "\n",
        "ram_X = ram[['date']]\n",
        "ram_y = ram[['price']]\n",
        "\n",
        "X_train_ram, X_test_ram, y_train_ram, y_test_ram = train_test_split(ram_X, ram_y, test_size=0.4, random_state=42)\n",
        "dt_ram = DecisionTreeRegressor().fit(X_train_ram, y_train_ram)\n",
        "y_pred_ram = dt_ram.predict(X_test_ram)\n",
        "\n",
        "print(\"Decision Tree Classifier\")\n",
        "print(\"R2 score:\", r2_score(y_test_ram, y_pred_ram))\n",
        "print(\"Mean squared error:\", mean_squared_error(y_test_ram, y_pred_ram))\n",
        "\n",
        "lr_ram = LinearRegression().fit(X_train_ram, y_train_ram)\n",
        "y_pred_ram = lr_ram.predict(X_test_ram)\n",
        "\n",
        "print(\"\\nLinear Regression\")\n",
        "print(\"R2 score:\", r2_score(y_test_ram, y_pred_ram))\n",
        "print(\"Mean squared error:\", mean_squared_error(y_test_ram, y_pred_ram))"
      ],
      "metadata": {
        "colab": {
          "base_uri": "https://localhost:8080/"
        },
        "id": "c-qOZT7B0muM",
        "outputId": "e75acbfe-153d-41d2-e55b-a3bd17bbca1c"
      },
      "execution_count": 22,
      "outputs": [
        {
          "output_type": "stream",
          "name": "stdout",
          "text": [
            "Decision Tree Classifier\n",
            "R2 score: 0.05558392172125837\n",
            "Mean squared error: 51493594243.03619\n",
            "\n",
            "Linear Regression\n",
            "R2 score: -1648.7834578037334\n",
            "Mean squared error: 89953233451776.27\n"
          ]
        }
      ]
    },
    {
      "cell_type": "code",
      "source": [
        "import kagglehub\n",
        "\n",
        "path = kagglehub.dataset_download(\"schirmerchad/bostonhoustingmlnd\")\n",
        "boston = pd.read_csv(path + '/housing.csv')\n",
        "\n",
        "boston_X = boston.drop(columns=['RM'])\n",
        "boston_y = boston[['RM']]\n",
        "X_train_boston, X_test_boston, y_train_boston, y_test_boston = train_test_split(boston_X, boston_y, test_size=0.4, random_state=42)\n",
        "dt_boston = DecisionTreeRegressor().fit(X_train_boston, y_train_boston)\n",
        "y_pred_boston = dt_boston.predict(X_test_boston)\n",
        "\n",
        "print(\"Decision Tree Classifier\")\n",
        "print(\"R2 score:\", r2_score(y_test_boston, y_pred_boston))\n",
        "print(\"Mean squared error:\", mean_squared_error(y_test_boston, y_pred_boston))\n",
        "\n",
        "lr_boston = LinearRegression().fit(X_train_boston, y_train_boston)\n",
        "y_pred_boston = lr_boston.predict(X_test_boston)\n",
        "\n",
        "print(\"\\nLinear Regression\")\n",
        "print(\"R2 score:\", r2_score(y_test_boston, y_pred_boston))\n",
        "print(\"Mean squared error:\", mean_squared_error(y_test_boston, y_pred_boston))"
      ],
      "metadata": {
        "colab": {
          "base_uri": "https://localhost:8080/"
        },
        "id": "o74vsPgF0nkH",
        "outputId": "3a73db13-18bb-4a2a-a7d2-c0c83056b450"
      },
      "execution_count": 21,
      "outputs": [
        {
          "output_type": "stream",
          "name": "stdout",
          "text": [
            "Decision Tree Classifier\n",
            "R2 score: 0.2859713974119289\n",
            "Mean squared error: 0.28228863265306126\n",
            "\n",
            "Linear Regression\n",
            "R2 score: 0.4488398346419592\n",
            "Mean squared error: 0.21789918343301362\n"
          ]
        }
      ]
    },
    {
      "cell_type": "code",
      "source": [
        "# Q6.\n",
        "dt_wave3 = DecisionTreeRegressor(max_depth=3).fit(X_train_wave, y_train_wave)\n",
        "y_pred_wave = dt_wave3.predict(X_test_wave)\n",
        "print(\"Mean squared error:\", mean_squared_error(y_test_wave, y_pred_wave))\n",
        "\n",
        "dt_wave4 = DecisionTreeRegressor(max_depth=4).fit(X_train_wave, y_train_wave)\n",
        "y_pred_wave = dt_wave4.predict(X_test_wave)\n",
        "print(\"Mean squared error:\", mean_squared_error(y_test_wave, y_pred_wave))\n",
        "\n",
        "dt_wave5 = DecisionTreeRegressor(max_depth=5).fit(X_train_wave, y_train_wave)\n",
        "y_pred_wave = dt_wave5.predict(X_test_wave)\n",
        "print(\"Mean squared error:\", mean_squared_error(y_test_wave, y_pred_wave))\n"
      ],
      "metadata": {
        "colab": {
          "base_uri": "https://localhost:8080/"
        },
        "outputId": "eb18b618-e5cd-45e7-d2f4-5c6180214e48",
        "id": "KvbfFv6tG5NP"
      },
      "execution_count": 13,
      "outputs": [
        {
          "output_type": "stream",
          "name": "stdout",
          "text": [
            "Mean squared error: 0.3819481186763758\n",
            "Mean squared error: 0.352551558348305\n",
            "Mean squared error: 0.3406972209441293\n"
          ]
        }
      ]
    },
    {
      "cell_type": "code",
      "source": [
        "dt_ram3 = DecisionTreeRegressor(max_depth=3).fit(X_train_ram, y_train_ram)\n",
        "y_pred_ram = dt_ram3.predict(X_test_ram)\n",
        "print(\"Mean squared error:\", mean_squared_error(y_test_ram, y_pred_ram))\n",
        "\n",
        "dt_ram4 = DecisionTreeRegressor(max_depth=4).fit(X_train_ram, y_train_ram)\n",
        "y_pred_ram = dt_ram4.predict(X_test_ram)\n",
        "print(\"Mean squared error:\", mean_squared_error(y_test_ram, y_pred_ram))\n",
        "\n",
        "dt_ram5 = DecisionTreeRegressor(max_depth=5).fit(X_train_ram, y_train_ram)\n",
        "y_pred_ram = dt_ram5.predict(X_test_ram)\n",
        "print(\"Mean squared error:\", mean_squared_error(y_test_ram, y_pred_ram))\n"
      ],
      "metadata": {
        "colab": {
          "base_uri": "https://localhost:8080/"
        },
        "outputId": "3d28c718-5c44-4dbe-d0a9-5b415b412210",
        "id": "cFmb1oBuG5NQ"
      },
      "execution_count": 14,
      "outputs": [
        {
          "output_type": "stream",
          "name": "stdout",
          "text": [
            "Mean squared error: 53717133106.44582\n",
            "Mean squared error: 53768206308.26022\n",
            "Mean squared error: 51536865890.19556\n"
          ]
        }
      ]
    },
    {
      "cell_type": "code",
      "source": [
        "dt_boston3 = DecisionTreeRegressor(max_depth = 3).fit(X_train_boston, y_train_boston)\n",
        "y_pred_boston = dt_boston3.predict(X_test_boston)\n",
        "print(\"Mean squared error:\", mean_squared_error(y_test_boston, y_pred_boston))\n",
        "\n",
        "dt_boston4 = DecisionTreeRegressor(max_depth = 4).fit(X_train_boston, y_train_boston)\n",
        "y_pred_boston = dt_boston4.predict(X_test_boston)\n",
        "print(\"Mean squared error:\", mean_squared_error(y_test_boston, y_pred_boston))\n",
        "\n",
        "dt_boston5 = DecisionTreeRegressor(max_depth = 5).fit(X_train_boston, y_train_boston)\n",
        "y_pred_boston = dt_boston5.predict(X_test_boston)\n",
        "print(\"Mean squared error:\", mean_squared_error(y_test_boston, y_pred_boston))\n"
      ],
      "metadata": {
        "colab": {
          "base_uri": "https://localhost:8080/"
        },
        "outputId": "db9c5770-ec25-473f-a45a-eceb5ea36755",
        "id": "Wi7SexQRG5NQ"
      },
      "execution_count": 15,
      "outputs": [
        {
          "output_type": "stream",
          "name": "stdout",
          "text": [
            "Mean squared error: 0.19985733374255815\n",
            "Mean squared error: 0.19519393232344862\n",
            "Mean squared error: 0.19584387486853141\n"
          ]
        }
      ]
    },
    {
      "cell_type": "code",
      "source": [],
      "metadata": {
        "id": "4O5SKLiJKHrG"
      },
      "execution_count": 15,
      "outputs": []
    }
  ]
}