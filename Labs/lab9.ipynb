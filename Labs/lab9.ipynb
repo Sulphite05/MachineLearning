{
 "cells": [
  {
   "cell_type": "markdown",
   "metadata": {},
   "source": [
    "## Imports"
   ]
  },
  {
   "cell_type": "code",
   "execution_count": 1,
   "metadata": {},
   "outputs": [],
   "source": [
    "import numpy as np\n",
    "import pandas as pd\n",
    "import matplotlib.pyplot as plt \n",
    "\n",
    "from sklearn import metrics \n",
    "from sklearn.metrics import confusion_matrix, classification_report "
   ]
  },
  {
   "cell_type": "markdown",
   "metadata": {},
   "source": [
    "## The IRIS Dataset"
   ]
  },
  {
   "cell_type": "markdown",
   "metadata": {},
   "source": [
    "- Collected by British biologist and statistician Ronald Fisher in 1936.\n",
    "- Commonly used for classification examples - predict the species of iris flower based on measurements.\n",
    "- It includes three iris species with 50 samples each as well as some properties about each flower. \n",
    "- One flower species is linearly separable from the other two, but the other two are not linearly separable from each other.\n",
    "- The dataset consists of 150 samples of iris flowers, divided into 3 species with 50 samples each.\n",
    "- Species: Iris setosa, Iris versicolor, Iris virginica\n",
    "- Each sample has 4 numerical features: SepalLengthCm, SepalWidthCm, PetalLengthCm, PetalWidthCm\n",
    "- The target variable is the species of the iris flower, encoded as integers: Iris setosa (0), Iris versicolor (1), Iris virginica (2)"
   ]
  },
  {
   "cell_type": "markdown",
   "metadata": {},
   "source": [
    "## Loading Dataset"
   ]
  },
  {
   "cell_type": "code",
   "execution_count": 2,
   "metadata": {},
   "outputs": [],
   "source": [
    "from sklearn import datasets \n",
    "\n",
    "# Load data with only two classes and two features \n",
    "iris = datasets.load_iris()  "
   ]
  },
  {
   "cell_type": "code",
   "execution_count": 3,
   "metadata": {},
   "outputs": [
    {
     "data": {
      "text/plain": [
       "array([[5.1, 3.5, 1.4, 0.2],\n",
       "       [4.9, 3. , 1.4, 0.2],\n",
       "       [4.7, 3.2, 1.3, 0.2],\n",
       "       [4.6, 3.1, 1.5, 0.2],\n",
       "       [5. , 3.6, 1.4, 0.2],\n",
       "       [5.4, 3.9, 1.7, 0.4],\n",
       "       [4.6, 3.4, 1.4, 0.3],\n",
       "       [5. , 3.4, 1.5, 0.2],\n",
       "       [4.4, 2.9, 1.4, 0.2],\n",
       "       [4.9, 3.1, 1.5, 0.1],\n",
       "       [5.4, 3.7, 1.5, 0.2],\n",
       "       [4.8, 3.4, 1.6, 0.2],\n",
       "       [4.8, 3. , 1.4, 0.1],\n",
       "       [4.3, 3. , 1.1, 0.1],\n",
       "       [5.8, 4. , 1.2, 0.2],\n",
       "       [5.7, 4.4, 1.5, 0.4],\n",
       "       [5.4, 3.9, 1.3, 0.4],\n",
       "       [5.1, 3.5, 1.4, 0.3],\n",
       "       [5.7, 3.8, 1.7, 0.3],\n",
       "       [5.1, 3.8, 1.5, 0.3],\n",
       "       [5.4, 3.4, 1.7, 0.2],\n",
       "       [5.1, 3.7, 1.5, 0.4],\n",
       "       [4.6, 3.6, 1. , 0.2],\n",
       "       [5.1, 3.3, 1.7, 0.5],\n",
       "       [4.8, 3.4, 1.9, 0.2],\n",
       "       [5. , 3. , 1.6, 0.2],\n",
       "       [5. , 3.4, 1.6, 0.4],\n",
       "       [5.2, 3.5, 1.5, 0.2],\n",
       "       [5.2, 3.4, 1.4, 0.2],\n",
       "       [4.7, 3.2, 1.6, 0.2],\n",
       "       [4.8, 3.1, 1.6, 0.2],\n",
       "       [5.4, 3.4, 1.5, 0.4],\n",
       "       [5.2, 4.1, 1.5, 0.1],\n",
       "       [5.5, 4.2, 1.4, 0.2],\n",
       "       [4.9, 3.1, 1.5, 0.2],\n",
       "       [5. , 3.2, 1.2, 0.2],\n",
       "       [5.5, 3.5, 1.3, 0.2],\n",
       "       [4.9, 3.6, 1.4, 0.1],\n",
       "       [4.4, 3. , 1.3, 0.2],\n",
       "       [5.1, 3.4, 1.5, 0.2],\n",
       "       [5. , 3.5, 1.3, 0.3],\n",
       "       [4.5, 2.3, 1.3, 0.3],\n",
       "       [4.4, 3.2, 1.3, 0.2],\n",
       "       [5. , 3.5, 1.6, 0.6],\n",
       "       [5.1, 3.8, 1.9, 0.4],\n",
       "       [4.8, 3. , 1.4, 0.3],\n",
       "       [5.1, 3.8, 1.6, 0.2],\n",
       "       [4.6, 3.2, 1.4, 0.2],\n",
       "       [5.3, 3.7, 1.5, 0.2],\n",
       "       [5. , 3.3, 1.4, 0.2],\n",
       "       [7. , 3.2, 4.7, 1.4],\n",
       "       [6.4, 3.2, 4.5, 1.5],\n",
       "       [6.9, 3.1, 4.9, 1.5],\n",
       "       [5.5, 2.3, 4. , 1.3],\n",
       "       [6.5, 2.8, 4.6, 1.5],\n",
       "       [5.7, 2.8, 4.5, 1.3],\n",
       "       [6.3, 3.3, 4.7, 1.6],\n",
       "       [4.9, 2.4, 3.3, 1. ],\n",
       "       [6.6, 2.9, 4.6, 1.3],\n",
       "       [5.2, 2.7, 3.9, 1.4],\n",
       "       [5. , 2. , 3.5, 1. ],\n",
       "       [5.9, 3. , 4.2, 1.5],\n",
       "       [6. , 2.2, 4. , 1. ],\n",
       "       [6.1, 2.9, 4.7, 1.4],\n",
       "       [5.6, 2.9, 3.6, 1.3],\n",
       "       [6.7, 3.1, 4.4, 1.4],\n",
       "       [5.6, 3. , 4.5, 1.5],\n",
       "       [5.8, 2.7, 4.1, 1. ],\n",
       "       [6.2, 2.2, 4.5, 1.5],\n",
       "       [5.6, 2.5, 3.9, 1.1],\n",
       "       [5.9, 3.2, 4.8, 1.8],\n",
       "       [6.1, 2.8, 4. , 1.3],\n",
       "       [6.3, 2.5, 4.9, 1.5],\n",
       "       [6.1, 2.8, 4.7, 1.2],\n",
       "       [6.4, 2.9, 4.3, 1.3],\n",
       "       [6.6, 3. , 4.4, 1.4],\n",
       "       [6.8, 2.8, 4.8, 1.4],\n",
       "       [6.7, 3. , 5. , 1.7],\n",
       "       [6. , 2.9, 4.5, 1.5],\n",
       "       [5.7, 2.6, 3.5, 1. ],\n",
       "       [5.5, 2.4, 3.8, 1.1],\n",
       "       [5.5, 2.4, 3.7, 1. ],\n",
       "       [5.8, 2.7, 3.9, 1.2],\n",
       "       [6. , 2.7, 5.1, 1.6],\n",
       "       [5.4, 3. , 4.5, 1.5],\n",
       "       [6. , 3.4, 4.5, 1.6],\n",
       "       [6.7, 3.1, 4.7, 1.5],\n",
       "       [6.3, 2.3, 4.4, 1.3],\n",
       "       [5.6, 3. , 4.1, 1.3],\n",
       "       [5.5, 2.5, 4. , 1.3],\n",
       "       [5.5, 2.6, 4.4, 1.2],\n",
       "       [6.1, 3. , 4.6, 1.4],\n",
       "       [5.8, 2.6, 4. , 1.2],\n",
       "       [5. , 2.3, 3.3, 1. ],\n",
       "       [5.6, 2.7, 4.2, 1.3],\n",
       "       [5.7, 3. , 4.2, 1.2],\n",
       "       [5.7, 2.9, 4.2, 1.3],\n",
       "       [6.2, 2.9, 4.3, 1.3],\n",
       "       [5.1, 2.5, 3. , 1.1],\n",
       "       [5.7, 2.8, 4.1, 1.3],\n",
       "       [6.3, 3.3, 6. , 2.5],\n",
       "       [5.8, 2.7, 5.1, 1.9],\n",
       "       [7.1, 3. , 5.9, 2.1],\n",
       "       [6.3, 2.9, 5.6, 1.8],\n",
       "       [6.5, 3. , 5.8, 2.2],\n",
       "       [7.6, 3. , 6.6, 2.1],\n",
       "       [4.9, 2.5, 4.5, 1.7],\n",
       "       [7.3, 2.9, 6.3, 1.8],\n",
       "       [6.7, 2.5, 5.8, 1.8],\n",
       "       [7.2, 3.6, 6.1, 2.5],\n",
       "       [6.5, 3.2, 5.1, 2. ],\n",
       "       [6.4, 2.7, 5.3, 1.9],\n",
       "       [6.8, 3. , 5.5, 2.1],\n",
       "       [5.7, 2.5, 5. , 2. ],\n",
       "       [5.8, 2.8, 5.1, 2.4],\n",
       "       [6.4, 3.2, 5.3, 2.3],\n",
       "       [6.5, 3. , 5.5, 1.8],\n",
       "       [7.7, 3.8, 6.7, 2.2],\n",
       "       [7.7, 2.6, 6.9, 2.3],\n",
       "       [6. , 2.2, 5. , 1.5],\n",
       "       [6.9, 3.2, 5.7, 2.3],\n",
       "       [5.6, 2.8, 4.9, 2. ],\n",
       "       [7.7, 2.8, 6.7, 2. ],\n",
       "       [6.3, 2.7, 4.9, 1.8],\n",
       "       [6.7, 3.3, 5.7, 2.1],\n",
       "       [7.2, 3.2, 6. , 1.8],\n",
       "       [6.2, 2.8, 4.8, 1.8],\n",
       "       [6.1, 3. , 4.9, 1.8],\n",
       "       [6.4, 2.8, 5.6, 2.1],\n",
       "       [7.2, 3. , 5.8, 1.6],\n",
       "       [7.4, 2.8, 6.1, 1.9],\n",
       "       [7.9, 3.8, 6.4, 2. ],\n",
       "       [6.4, 2.8, 5.6, 2.2],\n",
       "       [6.3, 2.8, 5.1, 1.5],\n",
       "       [6.1, 2.6, 5.6, 1.4],\n",
       "       [7.7, 3. , 6.1, 2.3],\n",
       "       [6.3, 3.4, 5.6, 2.4],\n",
       "       [6.4, 3.1, 5.5, 1.8],\n",
       "       [6. , 3. , 4.8, 1.8],\n",
       "       [6.9, 3.1, 5.4, 2.1],\n",
       "       [6.7, 3.1, 5.6, 2.4],\n",
       "       [6.9, 3.1, 5.1, 2.3],\n",
       "       [5.8, 2.7, 5.1, 1.9],\n",
       "       [6.8, 3.2, 5.9, 2.3],\n",
       "       [6.7, 3.3, 5.7, 2.5],\n",
       "       [6.7, 3. , 5.2, 2.3],\n",
       "       [6.3, 2.5, 5. , 1.9],\n",
       "       [6.5, 3. , 5.2, 2. ],\n",
       "       [6.2, 3.4, 5.4, 2.3],\n",
       "       [5.9, 3. , 5.1, 1.8]])"
      ]
     },
     "execution_count": 3,
     "metadata": {},
     "output_type": "execute_result"
    }
   ],
   "source": [
    "iris.data"
   ]
  },
  {
   "cell_type": "code",
   "execution_count": 4,
   "metadata": {},
   "outputs": [
    {
     "data": {
      "text/plain": [
       "array([0, 0, 0, 0, 0, 0, 0, 0, 0, 0, 0, 0, 0, 0, 0, 0, 0, 0, 0, 0, 0, 0,\n",
       "       0, 0, 0, 0, 0, 0, 0, 0, 0, 0, 0, 0, 0, 0, 0, 0, 0, 0, 0, 0, 0, 0,\n",
       "       0, 0, 0, 0, 0, 0, 1, 1, 1, 1, 1, 1, 1, 1, 1, 1, 1, 1, 1, 1, 1, 1,\n",
       "       1, 1, 1, 1, 1, 1, 1, 1, 1, 1, 1, 1, 1, 1, 1, 1, 1, 1, 1, 1, 1, 1,\n",
       "       1, 1, 1, 1, 1, 1, 1, 1, 1, 1, 1, 1, 2, 2, 2, 2, 2, 2, 2, 2, 2, 2,\n",
       "       2, 2, 2, 2, 2, 2, 2, 2, 2, 2, 2, 2, 2, 2, 2, 2, 2, 2, 2, 2, 2, 2,\n",
       "       2, 2, 2, 2, 2, 2, 2, 2, 2, 2, 2, 2, 2, 2, 2, 2, 2, 2])"
      ]
     },
     "execution_count": 4,
     "metadata": {},
     "output_type": "execute_result"
    }
   ],
   "source": [
    "iris.target"
   ]
  },
  {
   "cell_type": "markdown",
   "metadata": {},
   "source": [
    "## Handling Linearly Separable Classes"
   ]
  },
  {
   "cell_type": "code",
   "execution_count": 5,
   "metadata": {},
   "outputs": [],
   "source": [
    "# Selecting only two classes (as third class is not linearly separable)\n",
    "# and two features (so we can plot the graph) \n",
    "features = iris.data[:100,:2] \n",
    "target = iris.target[:100] "
   ]
  },
  {
   "cell_type": "code",
   "execution_count": 6,
   "metadata": {},
   "outputs": [
    {
     "data": {
      "text/plain": [
       "array([[5.1, 3.5],\n",
       "       [4.9, 3. ],\n",
       "       [4.7, 3.2],\n",
       "       [4.6, 3.1],\n",
       "       [5. , 3.6],\n",
       "       [5.4, 3.9],\n",
       "       [4.6, 3.4],\n",
       "       [5. , 3.4],\n",
       "       [4.4, 2.9],\n",
       "       [4.9, 3.1],\n",
       "       [5.4, 3.7],\n",
       "       [4.8, 3.4],\n",
       "       [4.8, 3. ],\n",
       "       [4.3, 3. ],\n",
       "       [5.8, 4. ],\n",
       "       [5.7, 4.4],\n",
       "       [5.4, 3.9],\n",
       "       [5.1, 3.5],\n",
       "       [5.7, 3.8],\n",
       "       [5.1, 3.8],\n",
       "       [5.4, 3.4],\n",
       "       [5.1, 3.7],\n",
       "       [4.6, 3.6],\n",
       "       [5.1, 3.3],\n",
       "       [4.8, 3.4],\n",
       "       [5. , 3. ],\n",
       "       [5. , 3.4],\n",
       "       [5.2, 3.5],\n",
       "       [5.2, 3.4],\n",
       "       [4.7, 3.2],\n",
       "       [4.8, 3.1],\n",
       "       [5.4, 3.4],\n",
       "       [5.2, 4.1],\n",
       "       [5.5, 4.2],\n",
       "       [4.9, 3.1],\n",
       "       [5. , 3.2],\n",
       "       [5.5, 3.5],\n",
       "       [4.9, 3.6],\n",
       "       [4.4, 3. ],\n",
       "       [5.1, 3.4],\n",
       "       [5. , 3.5],\n",
       "       [4.5, 2.3],\n",
       "       [4.4, 3.2],\n",
       "       [5. , 3.5],\n",
       "       [5.1, 3.8],\n",
       "       [4.8, 3. ],\n",
       "       [5.1, 3.8],\n",
       "       [4.6, 3.2],\n",
       "       [5.3, 3.7],\n",
       "       [5. , 3.3],\n",
       "       [7. , 3.2],\n",
       "       [6.4, 3.2],\n",
       "       [6.9, 3.1],\n",
       "       [5.5, 2.3],\n",
       "       [6.5, 2.8],\n",
       "       [5.7, 2.8],\n",
       "       [6.3, 3.3],\n",
       "       [4.9, 2.4],\n",
       "       [6.6, 2.9],\n",
       "       [5.2, 2.7],\n",
       "       [5. , 2. ],\n",
       "       [5.9, 3. ],\n",
       "       [6. , 2.2],\n",
       "       [6.1, 2.9],\n",
       "       [5.6, 2.9],\n",
       "       [6.7, 3.1],\n",
       "       [5.6, 3. ],\n",
       "       [5.8, 2.7],\n",
       "       [6.2, 2.2],\n",
       "       [5.6, 2.5],\n",
       "       [5.9, 3.2],\n",
       "       [6.1, 2.8],\n",
       "       [6.3, 2.5],\n",
       "       [6.1, 2.8],\n",
       "       [6.4, 2.9],\n",
       "       [6.6, 3. ],\n",
       "       [6.8, 2.8],\n",
       "       [6.7, 3. ],\n",
       "       [6. , 2.9],\n",
       "       [5.7, 2.6],\n",
       "       [5.5, 2.4],\n",
       "       [5.5, 2.4],\n",
       "       [5.8, 2.7],\n",
       "       [6. , 2.7],\n",
       "       [5.4, 3. ],\n",
       "       [6. , 3.4],\n",
       "       [6.7, 3.1],\n",
       "       [6.3, 2.3],\n",
       "       [5.6, 3. ],\n",
       "       [5.5, 2.5],\n",
       "       [5.5, 2.6],\n",
       "       [6.1, 3. ],\n",
       "       [5.8, 2.6],\n",
       "       [5. , 2.3],\n",
       "       [5.6, 2.7],\n",
       "       [5.7, 3. ],\n",
       "       [5.7, 2.9],\n",
       "       [6.2, 2.9],\n",
       "       [5.1, 2.5],\n",
       "       [5.7, 2.8]])"
      ]
     },
     "execution_count": 6,
     "metadata": {},
     "output_type": "execute_result"
    }
   ],
   "source": [
    "features"
   ]
  },
  {
   "cell_type": "code",
   "execution_count": 7,
   "metadata": {},
   "outputs": [
    {
     "data": {
      "text/plain": [
       "array([0, 0, 0, 0, 0, 0, 0, 0, 0, 0, 0, 0, 0, 0, 0, 0, 0, 0, 0, 0, 0, 0,\n",
       "       0, 0, 0, 0, 0, 0, 0, 0, 0, 0, 0, 0, 0, 0, 0, 0, 0, 0, 0, 0, 0, 0,\n",
       "       0, 0, 0, 0, 0, 0, 1, 1, 1, 1, 1, 1, 1, 1, 1, 1, 1, 1, 1, 1, 1, 1,\n",
       "       1, 1, 1, 1, 1, 1, 1, 1, 1, 1, 1, 1, 1, 1, 1, 1, 1, 1, 1, 1, 1, 1,\n",
       "       1, 1, 1, 1, 1, 1, 1, 1, 1, 1, 1, 1])"
      ]
     },
     "execution_count": 7,
     "metadata": {},
     "output_type": "execute_result"
    }
   ],
   "source": [
    "target"
   ]
  },
  {
   "cell_type": "markdown",
   "metadata": {},
   "source": [
    "## Standardize features "
   ]
  },
  {
   "cell_type": "code",
   "execution_count": 8,
   "metadata": {},
   "outputs": [],
   "source": [
    "from sklearn.preprocessing import StandardScaler\n",
    "\n",
    "scaler = StandardScaler() \n",
    "features_standardized = scaler.fit_transform(features) "
   ]
  },
  {
   "cell_type": "code",
   "execution_count": 9,
   "metadata": {},
   "outputs": [
    {
     "data": {
      "text/plain": [
       "array([[-5.81065904e-01,  8.41837140e-01],\n",
       "       [-8.94308978e-01, -2.07835104e-01],\n",
       "       [-1.20755205e+00,  2.12033793e-01],\n",
       "       [-1.36417359e+00,  2.09934449e-03],\n",
       "       [-7.37687441e-01,  1.05177159e+00],\n",
       "       [-1.11201292e-01,  1.68157493e+00],\n",
       "       [-1.36417359e+00,  6.31902691e-01],\n",
       "       [-7.37687441e-01,  6.31902691e-01],\n",
       "       [-1.67741667e+00, -4.17769553e-01],\n",
       "       [-8.94308978e-01,  2.09934449e-03],\n",
       "       [-1.11201292e-01,  1.26170604e+00],\n",
       "       [-1.05093052e+00,  6.31902691e-01],\n",
       "       [-1.05093052e+00, -2.07835104e-01],\n",
       "       [-1.83403820e+00, -2.07835104e-01],\n",
       "       [ 5.15284858e-01,  1.89150938e+00],\n",
       "       [ 3.58663321e-01,  2.73124718e+00],\n",
       "       [-1.11201292e-01,  1.68157493e+00],\n",
       "       [-5.81065904e-01,  8.41837140e-01],\n",
       "       [ 3.58663321e-01,  1.47164049e+00],\n",
       "       [-5.81065904e-01,  1.47164049e+00],\n",
       "       [-1.11201292e-01,  6.31902691e-01],\n",
       "       [-5.81065904e-01,  1.26170604e+00],\n",
       "       [-1.36417359e+00,  1.05177159e+00],\n",
       "       [-5.81065904e-01,  4.21968242e-01],\n",
       "       [-1.05093052e+00,  6.31902691e-01],\n",
       "       [-7.37687441e-01, -2.07835104e-01],\n",
       "       [-7.37687441e-01,  6.31902691e-01],\n",
       "       [-4.24444366e-01,  8.41837140e-01],\n",
       "       [-4.24444366e-01,  6.31902691e-01],\n",
       "       [-1.20755205e+00,  2.12033793e-01],\n",
       "       [-1.05093052e+00,  2.09934449e-03],\n",
       "       [-1.11201292e-01,  6.31902691e-01],\n",
       "       [-4.24444366e-01,  2.10144383e+00],\n",
       "       [ 4.54202458e-02,  2.31137828e+00],\n",
       "       [-8.94308978e-01,  2.09934449e-03],\n",
       "       [-7.37687441e-01,  2.12033793e-01],\n",
       "       [ 4.54202458e-02,  8.41837140e-01],\n",
       "       [-8.94308978e-01,  1.05177159e+00],\n",
       "       [-1.67741667e+00, -2.07835104e-01],\n",
       "       [-5.81065904e-01,  6.31902691e-01],\n",
       "       [-7.37687441e-01,  8.41837140e-01],\n",
       "       [-1.52079513e+00, -1.67737625e+00],\n",
       "       [-1.67741667e+00,  2.12033793e-01],\n",
       "       [-7.37687441e-01,  8.41837140e-01],\n",
       "       [-5.81065904e-01,  1.47164049e+00],\n",
       "       [-1.05093052e+00, -2.07835104e-01],\n",
       "       [-5.81065904e-01,  1.47164049e+00],\n",
       "       [-1.36417359e+00,  2.12033793e-01],\n",
       "       [-2.67822829e-01,  1.26170604e+00],\n",
       "       [-7.37687441e-01,  4.21968242e-01],\n",
       "       [ 2.39474331e+00,  2.12033793e-01],\n",
       "       [ 1.45501408e+00,  2.12033793e-01],\n",
       "       [ 2.23812177e+00,  2.09934449e-03],\n",
       "       [ 4.54202458e-02, -1.67737625e+00],\n",
       "       [ 1.61163562e+00, -6.27704002e-01],\n",
       "       [ 3.58663321e-01, -6.27704002e-01],\n",
       "       [ 1.29839254e+00,  4.21968242e-01],\n",
       "       [-8.94308978e-01, -1.46744180e+00],\n",
       "       [ 1.76825716e+00, -4.17769553e-01],\n",
       "       [-4.24444366e-01, -8.37638451e-01],\n",
       "       [-7.37687441e-01, -2.30717959e+00],\n",
       "       [ 6.71906395e-01, -2.07835104e-01],\n",
       "       [ 8.28527933e-01, -1.88731069e+00],\n",
       "       [ 9.85149470e-01, -4.17769553e-01],\n",
       "       [ 2.02041783e-01, -4.17769553e-01],\n",
       "       [ 1.92487869e+00,  2.09934449e-03],\n",
       "       [ 2.02041783e-01, -2.07835104e-01],\n",
       "       [ 5.15284858e-01, -8.37638451e-01],\n",
       "       [ 1.14177101e+00, -1.88731069e+00],\n",
       "       [ 2.02041783e-01, -1.25750735e+00],\n",
       "       [ 6.71906395e-01,  2.12033793e-01],\n",
       "       [ 9.85149470e-01, -6.27704002e-01],\n",
       "       [ 1.29839254e+00, -1.25750735e+00],\n",
       "       [ 9.85149470e-01, -6.27704002e-01],\n",
       "       [ 1.45501408e+00, -4.17769553e-01],\n",
       "       [ 1.76825716e+00, -2.07835104e-01],\n",
       "       [ 2.08150023e+00, -6.27704002e-01],\n",
       "       [ 1.92487869e+00, -2.07835104e-01],\n",
       "       [ 8.28527933e-01, -4.17769553e-01],\n",
       "       [ 3.58663321e-01, -1.04757290e+00],\n",
       "       [ 4.54202458e-02, -1.46744180e+00],\n",
       "       [ 4.54202458e-02, -1.46744180e+00],\n",
       "       [ 5.15284858e-01, -8.37638451e-01],\n",
       "       [ 8.28527933e-01, -8.37638451e-01],\n",
       "       [-1.11201292e-01, -2.07835104e-01],\n",
       "       [ 8.28527933e-01,  6.31902691e-01],\n",
       "       [ 1.92487869e+00,  2.09934449e-03],\n",
       "       [ 1.29839254e+00, -1.67737625e+00],\n",
       "       [ 2.02041783e-01, -2.07835104e-01],\n",
       "       [ 4.54202458e-02, -1.25750735e+00],\n",
       "       [ 4.54202458e-02, -1.04757290e+00],\n",
       "       [ 9.85149470e-01, -2.07835104e-01],\n",
       "       [ 5.15284858e-01, -1.04757290e+00],\n",
       "       [-7.37687441e-01, -1.67737625e+00],\n",
       "       [ 2.02041783e-01, -8.37638451e-01],\n",
       "       [ 3.58663321e-01, -2.07835104e-01],\n",
       "       [ 3.58663321e-01, -4.17769553e-01],\n",
       "       [ 1.14177101e+00, -4.17769553e-01],\n",
       "       [-5.81065904e-01, -1.25750735e+00],\n",
       "       [ 3.58663321e-01, -6.27704002e-01]])"
      ]
     },
     "execution_count": 9,
     "metadata": {},
     "output_type": "execute_result"
    }
   ],
   "source": [
    "features_standardized"
   ]
  },
  {
   "cell_type": "code",
   "execution_count": 10,
   "metadata": {},
   "outputs": [
    {
     "data": {
      "text/plain": [
       "<matplotlib.collections.PathCollection at 0x137692e40>"
      ]
     },
     "execution_count": 10,
     "metadata": {},
     "output_type": "execute_result"
    },
    {
     "data": {
      "image/png": "[encoded data removed]",
      "text/plain": [
       "<Figure size 640x480 with 1 Axes>"
      ]
     },
     "metadata": {},
     "output_type": "display_data"
    }
   ],
   "source": [
    "# Plot data points and color using their class - state space diagram\n",
    "color = [\"black\" if c == 0 else \"lightgrey\" for c in target] \n",
    "plt.scatter(features_standardized[:,0], features_standardized[:,1], c=color)"
   ]
  },
  {
   "cell_type": "code",
   "execution_count": 11,
   "metadata": {},
   "outputs": [],
   "source": [
    "from sklearn.svm import LinearSVC\n",
    "\n",
    "# Create support vector classifier \n",
    "svc = LinearSVC(C=1.0) \n",
    "# Train model \n",
    "model = svc.fit(features_standardized, target)"
   ]
  },
  {
   "cell_type": "code",
   "execution_count": 12,
   "metadata": {},
   "outputs": [
    {
     "data": {
      "image/png": "[encoded data removed]",
      "text/plain": [
       "<Figure size 640x480 with 1 Axes>"
      ]
     },
     "metadata": {},
     "output_type": "display_data"
    }
   ],
   "source": [
    "# Create the hyperplane \n",
    "w = svc.coef_[0] \n",
    "a = -w[0] / w[1]  # w[0] and w[1] are associated weights of the two features\n",
    "xx = np.linspace(-2.5, 2.5) \n",
    "yy = a * xx - (svc.intercept_[0]) / w[1] \n",
    "\n",
    "# Plot the hyperplane \n",
    "plt.scatter(features_standardized[:,0], features_standardized[:,1], c=color)\n",
    "plt.plot(xx, yy) \n",
    "plt.axis(\"off\"), plt.show();"
   ]
  },
  {
   "cell_type": "code",
   "execution_count": 13,
   "metadata": {},
   "outputs": [
    {
     "data": {
      "text/plain": [
       "array([0])"
      ]
     },
     "execution_count": 13,
     "metadata": {},
     "output_type": "execute_result"
    }
   ],
   "source": [
    "# Create new observation \n",
    "new_observation = [[ -2, 3]] \n",
    "# Predict class of new observation \n",
    "svc.predict(new_observation) "
   ]
  },
  {
   "cell_type": "markdown",
   "metadata": {},
   "source": [
    "## Handling Linearly Inseparable Classes using Kernels"
   ]
  },
  {
   "cell_type": "markdown",
   "metadata": {},
   "source": [
    "### Generating Linearly Inseparable Data"
   ]
  },
  {
   "cell_type": "code",
   "execution_count": 14,
   "metadata": {},
   "outputs": [],
   "source": [
    "# # Set randomization seed\n",
    "# np.random.seed(0)  \n",
    "# # Generate two features \n",
    "# features_ = np.random.randn(200, 2) \n",
    "# # Use a XOR gate to generate linearly inseparable classes \n",
    "# target_xor = np.logical_xor(features_[:, 0] > 0, features_[:, 1] > 0) \n",
    "# target_ = np.where(target_xor, 0, 1) "
   ]
  },
  {
   "cell_type": "code",
   "execution_count": 15,
   "metadata": {},
   "outputs": [],
   "source": [
    "features_ = iris.data[:150]\n",
    "target_ = iris.target[:150] \n",
    "features_ = scaler.fit_transform(features_) \n"
   ]
  },
  {
   "cell_type": "code",
   "execution_count": 16,
   "metadata": {},
   "outputs": [
    {
     "data": {
      "text/plain": [
       "array([[-9.00681170e-01,  1.01900435e+00, -1.34022653e+00,\n",
       "        -1.31544430e+00],\n",
       "       [-1.14301691e+00, -1.31979479e-01, -1.34022653e+00,\n",
       "        -1.31544430e+00],\n",
       "       [-1.38535265e+00,  3.28414053e-01, -1.39706395e+00,\n",
       "        -1.31544430e+00],\n",
       "       [-1.50652052e+00,  9.82172869e-02, -1.28338910e+00,\n",
       "        -1.31544430e+00],\n",
       "       [-1.02184904e+00,  1.24920112e+00, -1.34022653e+00,\n",
       "        -1.31544430e+00],\n",
       "       [-5.37177559e-01,  1.93979142e+00, -1.16971425e+00,\n",
       "        -1.05217993e+00],\n",
       "       [-1.50652052e+00,  7.88807586e-01, -1.34022653e+00,\n",
       "        -1.18381211e+00],\n",
       "       [-1.02184904e+00,  7.88807586e-01, -1.28338910e+00,\n",
       "        -1.31544430e+00],\n",
       "       [-1.74885626e+00, -3.62176246e-01, -1.34022653e+00,\n",
       "        -1.31544430e+00],\n",
       "       [-1.14301691e+00,  9.82172869e-02, -1.28338910e+00,\n",
       "        -1.44707648e+00],\n",
       "       [-5.37177559e-01,  1.47939788e+00, -1.28338910e+00,\n",
       "        -1.31544430e+00],\n",
       "       [-1.26418478e+00,  7.88807586e-01, -1.22655167e+00,\n",
       "        -1.31544430e+00],\n",
       "       [-1.26418478e+00, -1.31979479e-01, -1.34022653e+00,\n",
       "        -1.44707648e+00],\n",
       "       [-1.87002413e+00, -1.31979479e-01, -1.51073881e+00,\n",
       "        -1.44707648e+00],\n",
       "       [-5.25060772e-02,  2.16998818e+00, -1.45390138e+00,\n",
       "        -1.31544430e+00],\n",
       "       [-1.73673948e-01,  3.09077525e+00, -1.28338910e+00,\n",
       "        -1.05217993e+00],\n",
       "       [-5.37177559e-01,  1.93979142e+00, -1.39706395e+00,\n",
       "        -1.05217993e+00],\n",
       "       [-9.00681170e-01,  1.01900435e+00, -1.34022653e+00,\n",
       "        -1.18381211e+00],\n",
       "       [-1.73673948e-01,  1.70959465e+00, -1.16971425e+00,\n",
       "        -1.18381211e+00],\n",
       "       [-9.00681170e-01,  1.70959465e+00, -1.28338910e+00,\n",
       "        -1.18381211e+00],\n",
       "       [-5.37177559e-01,  7.88807586e-01, -1.16971425e+00,\n",
       "        -1.31544430e+00],\n",
       "       [-9.00681170e-01,  1.47939788e+00, -1.28338910e+00,\n",
       "        -1.05217993e+00],\n",
       "       [-1.50652052e+00,  1.24920112e+00, -1.56757623e+00,\n",
       "        -1.31544430e+00],\n",
       "       [-9.00681170e-01,  5.58610819e-01, -1.16971425e+00,\n",
       "        -9.20547742e-01],\n",
       "       [-1.26418478e+00,  7.88807586e-01, -1.05603939e+00,\n",
       "        -1.31544430e+00],\n",
       "       [-1.02184904e+00, -1.31979479e-01, -1.22655167e+00,\n",
       "        -1.31544430e+00],\n",
       "       [-1.02184904e+00,  7.88807586e-01, -1.22655167e+00,\n",
       "        -1.05217993e+00],\n",
       "       [-7.79513300e-01,  1.01900435e+00, -1.28338910e+00,\n",
       "        -1.31544430e+00],\n",
       "       [-7.79513300e-01,  7.88807586e-01, -1.34022653e+00,\n",
       "        -1.31544430e+00],\n",
       "       [-1.38535265e+00,  3.28414053e-01, -1.22655167e+00,\n",
       "        -1.31544430e+00],\n",
       "       [-1.26418478e+00,  9.82172869e-02, -1.22655167e+00,\n",
       "        -1.31544430e+00],\n",
       "       [-5.37177559e-01,  7.88807586e-01, -1.28338910e+00,\n",
       "        -1.05217993e+00],\n",
       "       [-7.79513300e-01,  2.40018495e+00, -1.28338910e+00,\n",
       "        -1.44707648e+00],\n",
       "       [-4.16009689e-01,  2.63038172e+00, -1.34022653e+00,\n",
       "        -1.31544430e+00],\n",
       "       [-1.14301691e+00,  9.82172869e-02, -1.28338910e+00,\n",
       "        -1.31544430e+00],\n",
       "       [-1.02184904e+00,  3.28414053e-01, -1.45390138e+00,\n",
       "        -1.31544430e+00],\n",
       "       [-4.16009689e-01,  1.01900435e+00, -1.39706395e+00,\n",
       "        -1.31544430e+00],\n",
       "       [-1.14301691e+00,  1.24920112e+00, -1.34022653e+00,\n",
       "        -1.44707648e+00],\n",
       "       [-1.74885626e+00, -1.31979479e-01, -1.39706395e+00,\n",
       "        -1.31544430e+00],\n",
       "       [-9.00681170e-01,  7.88807586e-01, -1.28338910e+00,\n",
       "        -1.31544430e+00],\n",
       "       [-1.02184904e+00,  1.01900435e+00, -1.39706395e+00,\n",
       "        -1.18381211e+00],\n",
       "       [-1.62768839e+00, -1.74335684e+00, -1.39706395e+00,\n",
       "        -1.18381211e+00],\n",
       "       [-1.74885626e+00,  3.28414053e-01, -1.39706395e+00,\n",
       "        -1.31544430e+00],\n",
       "       [-1.02184904e+00,  1.01900435e+00, -1.22655167e+00,\n",
       "        -7.88915558e-01],\n",
       "       [-9.00681170e-01,  1.70959465e+00, -1.05603939e+00,\n",
       "        -1.05217993e+00],\n",
       "       [-1.26418478e+00, -1.31979479e-01, -1.34022653e+00,\n",
       "        -1.18381211e+00],\n",
       "       [-9.00681170e-01,  1.70959465e+00, -1.22655167e+00,\n",
       "        -1.31544430e+00],\n",
       "       [-1.50652052e+00,  3.28414053e-01, -1.34022653e+00,\n",
       "        -1.31544430e+00],\n",
       "       [-6.58345429e-01,  1.47939788e+00, -1.28338910e+00,\n",
       "        -1.31544430e+00],\n",
       "       [-1.02184904e+00,  5.58610819e-01, -1.34022653e+00,\n",
       "        -1.31544430e+00],\n",
       "       [ 1.40150837e+00,  3.28414053e-01,  5.35408562e-01,\n",
       "         2.64141916e-01],\n",
       "       [ 6.74501145e-01,  3.28414053e-01,  4.21733708e-01,\n",
       "         3.95774101e-01],\n",
       "       [ 1.28034050e+00,  9.82172869e-02,  6.49083415e-01,\n",
       "         3.95774101e-01],\n",
       "       [-4.16009689e-01, -1.74335684e+00,  1.37546573e-01,\n",
       "         1.32509732e-01],\n",
       "       [ 7.95669016e-01, -5.92373012e-01,  4.78571135e-01,\n",
       "         3.95774101e-01],\n",
       "       [-1.73673948e-01, -5.92373012e-01,  4.21733708e-01,\n",
       "         1.32509732e-01],\n",
       "       [ 5.53333275e-01,  5.58610819e-01,  5.35408562e-01,\n",
       "         5.27406285e-01],\n",
       "       [-1.14301691e+00, -1.51316008e+00, -2.60315415e-01,\n",
       "        -2.62386821e-01],\n",
       "       [ 9.16836886e-01, -3.62176246e-01,  4.78571135e-01,\n",
       "         1.32509732e-01],\n",
       "       [-7.79513300e-01, -8.22569778e-01,  8.07091462e-02,\n",
       "         2.64141916e-01],\n",
       "       [-1.02184904e+00, -2.43394714e+00, -1.46640561e-01,\n",
       "        -2.62386821e-01],\n",
       "       [ 6.86617933e-02, -1.31979479e-01,  2.51221427e-01,\n",
       "         3.95774101e-01],\n",
       "       [ 1.89829664e-01, -1.97355361e+00,  1.37546573e-01,\n",
       "        -2.62386821e-01],\n",
       "       [ 3.10997534e-01, -3.62176246e-01,  5.35408562e-01,\n",
       "         2.64141916e-01],\n",
       "       [-2.94841818e-01, -3.62176246e-01, -8.98031345e-02,\n",
       "         1.32509732e-01],\n",
       "       [ 1.03800476e+00,  9.82172869e-02,  3.64896281e-01,\n",
       "         2.64141916e-01],\n",
       "       [-2.94841818e-01, -1.31979479e-01,  4.21733708e-01,\n",
       "         3.95774101e-01],\n",
       "       [-5.25060772e-02, -8.22569778e-01,  1.94384000e-01,\n",
       "        -2.62386821e-01],\n",
       "       [ 4.32165405e-01, -1.97355361e+00,  4.21733708e-01,\n",
       "         3.95774101e-01],\n",
       "       [-2.94841818e-01, -1.28296331e+00,  8.07091462e-02,\n",
       "        -1.30754636e-01],\n",
       "       [ 6.86617933e-02,  3.28414053e-01,  5.92245988e-01,\n",
       "         7.90670654e-01],\n",
       "       [ 3.10997534e-01, -5.92373012e-01,  1.37546573e-01,\n",
       "         1.32509732e-01],\n",
       "       [ 5.53333275e-01, -1.28296331e+00,  6.49083415e-01,\n",
       "         3.95774101e-01],\n",
       "       [ 3.10997534e-01, -5.92373012e-01,  5.35408562e-01,\n",
       "         8.77547895e-04],\n",
       "       [ 6.74501145e-01, -3.62176246e-01,  3.08058854e-01,\n",
       "         1.32509732e-01],\n",
       "       [ 9.16836886e-01, -1.31979479e-01,  3.64896281e-01,\n",
       "         2.64141916e-01],\n",
       "       [ 1.15917263e+00, -5.92373012e-01,  5.92245988e-01,\n",
       "         2.64141916e-01],\n",
       "       [ 1.03800476e+00, -1.31979479e-01,  7.05920842e-01,\n",
       "         6.59038469e-01],\n",
       "       [ 1.89829664e-01, -3.62176246e-01,  4.21733708e-01,\n",
       "         3.95774101e-01],\n",
       "       [-1.73673948e-01, -1.05276654e+00, -1.46640561e-01,\n",
       "        -2.62386821e-01],\n",
       "       [-4.16009689e-01, -1.51316008e+00,  2.38717193e-02,\n",
       "        -1.30754636e-01],\n",
       "       [-4.16009689e-01, -1.51316008e+00, -3.29657076e-02,\n",
       "        -2.62386821e-01],\n",
       "       [-5.25060772e-02, -8.22569778e-01,  8.07091462e-02,\n",
       "         8.77547895e-04],\n",
       "       [ 1.89829664e-01, -8.22569778e-01,  7.62758269e-01,\n",
       "         5.27406285e-01],\n",
       "       [-5.37177559e-01, -1.31979479e-01,  4.21733708e-01,\n",
       "         3.95774101e-01],\n",
       "       [ 1.89829664e-01,  7.88807586e-01,  4.21733708e-01,\n",
       "         5.27406285e-01],\n",
       "       [ 1.03800476e+00,  9.82172869e-02,  5.35408562e-01,\n",
       "         3.95774101e-01],\n",
       "       [ 5.53333275e-01, -1.74335684e+00,  3.64896281e-01,\n",
       "         1.32509732e-01],\n",
       "       [-2.94841818e-01, -1.31979479e-01,  1.94384000e-01,\n",
       "         1.32509732e-01],\n",
       "       [-4.16009689e-01, -1.28296331e+00,  1.37546573e-01,\n",
       "         1.32509732e-01],\n",
       "       [-4.16009689e-01, -1.05276654e+00,  3.64896281e-01,\n",
       "         8.77547895e-04],\n",
       "       [ 3.10997534e-01, -1.31979479e-01,  4.78571135e-01,\n",
       "         2.64141916e-01],\n",
       "       [-5.25060772e-02, -1.05276654e+00,  1.37546573e-01,\n",
       "         8.77547895e-04],\n",
       "       [-1.02184904e+00, -1.74335684e+00, -2.60315415e-01,\n",
       "        -2.62386821e-01],\n",
       "       [-2.94841818e-01, -8.22569778e-01,  2.51221427e-01,\n",
       "         1.32509732e-01],\n",
       "       [-1.73673948e-01, -1.31979479e-01,  2.51221427e-01,\n",
       "         8.77547895e-04],\n",
       "       [-1.73673948e-01, -3.62176246e-01,  2.51221427e-01,\n",
       "         1.32509732e-01],\n",
       "       [ 4.32165405e-01, -3.62176246e-01,  3.08058854e-01,\n",
       "         1.32509732e-01],\n",
       "       [-9.00681170e-01, -1.28296331e+00, -4.30827696e-01,\n",
       "        -1.30754636e-01],\n",
       "       [-1.73673948e-01, -5.92373012e-01,  1.94384000e-01,\n",
       "         1.32509732e-01],\n",
       "       [ 5.53333275e-01,  5.58610819e-01,  1.27429511e+00,\n",
       "         1.71209594e+00],\n",
       "       [-5.25060772e-02, -8.22569778e-01,  7.62758269e-01,\n",
       "         9.22302838e-01],\n",
       "       [ 1.52267624e+00, -1.31979479e-01,  1.21745768e+00,\n",
       "         1.18556721e+00],\n",
       "       [ 5.53333275e-01, -3.62176246e-01,  1.04694540e+00,\n",
       "         7.90670654e-01],\n",
       "       [ 7.95669016e-01, -1.31979479e-01,  1.16062026e+00,\n",
       "         1.31719939e+00],\n",
       "       [ 2.12851559e+00, -1.31979479e-01,  1.61531967e+00,\n",
       "         1.18556721e+00],\n",
       "       [-1.14301691e+00, -1.28296331e+00,  4.21733708e-01,\n",
       "         6.59038469e-01],\n",
       "       [ 1.76501198e+00, -3.62176246e-01,  1.44480739e+00,\n",
       "         7.90670654e-01],\n",
       "       [ 1.03800476e+00, -1.28296331e+00,  1.16062026e+00,\n",
       "         7.90670654e-01],\n",
       "       [ 1.64384411e+00,  1.24920112e+00,  1.33113254e+00,\n",
       "         1.71209594e+00],\n",
       "       [ 7.95669016e-01,  3.28414053e-01,  7.62758269e-01,\n",
       "         1.05393502e+00],\n",
       "       [ 6.74501145e-01, -8.22569778e-01,  8.76433123e-01,\n",
       "         9.22302838e-01],\n",
       "       [ 1.15917263e+00, -1.31979479e-01,  9.90107977e-01,\n",
       "         1.18556721e+00],\n",
       "       [-1.73673948e-01, -1.28296331e+00,  7.05920842e-01,\n",
       "         1.05393502e+00],\n",
       "       [-5.25060772e-02, -5.92373012e-01,  7.62758269e-01,\n",
       "         1.58046376e+00],\n",
       "       [ 6.74501145e-01,  3.28414053e-01,  8.76433123e-01,\n",
       "         1.44883158e+00],\n",
       "       [ 7.95669016e-01, -1.31979479e-01,  9.90107977e-01,\n",
       "         7.90670654e-01],\n",
       "       [ 2.24968346e+00,  1.70959465e+00,  1.67215710e+00,\n",
       "         1.31719939e+00],\n",
       "       [ 2.24968346e+00, -1.05276654e+00,  1.78583195e+00,\n",
       "         1.44883158e+00],\n",
       "       [ 1.89829664e-01, -1.97355361e+00,  7.05920842e-01,\n",
       "         3.95774101e-01],\n",
       "       [ 1.28034050e+00,  3.28414053e-01,  1.10378283e+00,\n",
       "         1.44883158e+00],\n",
       "       [-2.94841818e-01, -5.92373012e-01,  6.49083415e-01,\n",
       "         1.05393502e+00],\n",
       "       [ 2.24968346e+00, -5.92373012e-01,  1.67215710e+00,\n",
       "         1.05393502e+00],\n",
       "       [ 5.53333275e-01, -8.22569778e-01,  6.49083415e-01,\n",
       "         7.90670654e-01],\n",
       "       [ 1.03800476e+00,  5.58610819e-01,  1.10378283e+00,\n",
       "         1.18556721e+00],\n",
       "       [ 1.64384411e+00,  3.28414053e-01,  1.27429511e+00,\n",
       "         7.90670654e-01],\n",
       "       [ 4.32165405e-01, -5.92373012e-01,  5.92245988e-01,\n",
       "         7.90670654e-01],\n",
       "       [ 3.10997534e-01, -1.31979479e-01,  6.49083415e-01,\n",
       "         7.90670654e-01],\n",
       "       [ 6.74501145e-01, -5.92373012e-01,  1.04694540e+00,\n",
       "         1.18556721e+00],\n",
       "       [ 1.64384411e+00, -1.31979479e-01,  1.16062026e+00,\n",
       "         5.27406285e-01],\n",
       "       [ 1.88617985e+00, -5.92373012e-01,  1.33113254e+00,\n",
       "         9.22302838e-01],\n",
       "       [ 2.49201920e+00,  1.70959465e+00,  1.50164482e+00,\n",
       "         1.05393502e+00],\n",
       "       [ 6.74501145e-01, -5.92373012e-01,  1.04694540e+00,\n",
       "         1.31719939e+00],\n",
       "       [ 5.53333275e-01, -5.92373012e-01,  7.62758269e-01,\n",
       "         3.95774101e-01],\n",
       "       [ 3.10997534e-01, -1.05276654e+00,  1.04694540e+00,\n",
       "         2.64141916e-01],\n",
       "       [ 2.24968346e+00, -1.31979479e-01,  1.33113254e+00,\n",
       "         1.44883158e+00],\n",
       "       [ 5.53333275e-01,  7.88807586e-01,  1.04694540e+00,\n",
       "         1.58046376e+00],\n",
       "       [ 6.74501145e-01,  9.82172869e-02,  9.90107977e-01,\n",
       "         7.90670654e-01],\n",
       "       [ 1.89829664e-01, -1.31979479e-01,  5.92245988e-01,\n",
       "         7.90670654e-01],\n",
       "       [ 1.28034050e+00,  9.82172869e-02,  9.33270550e-01,\n",
       "         1.18556721e+00],\n",
       "       [ 1.03800476e+00,  9.82172869e-02,  1.04694540e+00,\n",
       "         1.58046376e+00],\n",
       "       [ 1.28034050e+00,  9.82172869e-02,  7.62758269e-01,\n",
       "         1.44883158e+00],\n",
       "       [-5.25060772e-02, -8.22569778e-01,  7.62758269e-01,\n",
       "         9.22302838e-01],\n",
       "       [ 1.15917263e+00,  3.28414053e-01,  1.21745768e+00,\n",
       "         1.44883158e+00],\n",
       "       [ 1.03800476e+00,  5.58610819e-01,  1.10378283e+00,\n",
       "         1.71209594e+00],\n",
       "       [ 1.03800476e+00, -1.31979479e-01,  8.19595696e-01,\n",
       "         1.44883158e+00],\n",
       "       [ 5.53333275e-01, -1.28296331e+00,  7.05920842e-01,\n",
       "         9.22302838e-01],\n",
       "       [ 7.95669016e-01, -1.31979479e-01,  8.19595696e-01,\n",
       "         1.05393502e+00],\n",
       "       [ 4.32165405e-01,  7.88807586e-01,  9.33270550e-01,\n",
       "         1.44883158e+00],\n",
       "       [ 6.86617933e-02, -1.31979479e-01,  7.62758269e-01,\n",
       "         7.90670654e-01]])"
      ]
     },
     "execution_count": 16,
     "metadata": {},
     "output_type": "execute_result"
    }
   ],
   "source": [
    "features_"
   ]
  },
  {
   "cell_type": "markdown",
   "metadata": {},
   "source": [
    "## Q2. "
   ]
  },
  {
   "cell_type": "markdown",
   "metadata": {},
   "source": [
    "### Using Linear Kernel"
   ]
  },
  {
   "cell_type": "code",
   "execution_count": 17,
   "metadata": {},
   "outputs": [
    {
     "name": "stdout",
     "output_type": "stream",
     "text": [
      "The accuracy is 96.66666666666667%\n",
      "[[50  0  0]\n",
      " [ 0 46  4]\n",
      " [ 0  1 49]]\n",
      "              precision    recall  f1-score   support\n",
      "\n",
      "     class 0       1.00      1.00      1.00        50\n",
      "     class 1       0.98      0.92      0.95        50\n",
      "     class 2       0.92      0.98      0.95        50\n",
      "\n",
      "    accuracy                           0.97       150\n",
      "   macro avg       0.97      0.97      0.97       150\n",
      "weighted avg       0.97      0.97      0.97       150\n",
      "\n"
     ]
    }
   ],
   "source": [
    "from sklearn.svm import SVC \n",
    "svc_linear = SVC(kernel=\"linear\", random_state=0, C=1) \n",
    "model_linear=svc_linear.fit(features_, target_)\n",
    "target_pred_linear = model_linear.predict(features_) \n",
    "target_pred_linear\n",
    "print(\"The accuracy is \"+str(metrics.accuracy_score(target_,target_pred_linear)*100)+\"%\") \n",
    "print(confusion_matrix(target_,target_pred_linear))  \n",
    "target_names = ['class 0', 'class 1', 'class 2'] \n",
    "print(classification_report(target_,target_pred_linear, target_names=target_names)) "
   ]
  },
  {
   "cell_type": "markdown",
   "metadata": {},
   "source": [
    "### Using RBF Kernel"
   ]
  },
  {
   "cell_type": "code",
   "execution_count": 18,
   "metadata": {},
   "outputs": [
    {
     "name": "stdout",
     "output_type": "stream",
     "text": [
      "The accuracy is 98.66666666666667%\n",
      "[[50  0  0]\n",
      " [ 0 49  1]\n",
      " [ 0  1 49]]\n",
      "              precision    recall  f1-score   support\n",
      "\n",
      "     class 0       1.00      1.00      1.00        50\n",
      "     class 1       0.98      0.98      0.98        50\n",
      "     class 2       0.98      0.98      0.98        50\n",
      "\n",
      "    accuracy                           0.99       150\n",
      "   macro avg       0.99      0.99      0.99       150\n",
      "weighted avg       0.99      0.99      0.99       150\n",
      "\n"
     ]
    }
   ],
   "source": [
    "svc_rbf = SVC(kernel=\"rbf\", random_state=0, gamma=1, C=1) \n",
    "model_svc=svc_rbf.fit(features_, target_) \n",
    "target_pred_rbf = model_svc.predict(features_) \n",
    "target_pred_rbf\n",
    "print(\"The accuracy is \"+str(metrics.accuracy_score(target_,target_pred_rbf)*100)+\"%\") \n",
    "print(confusion_matrix(target_,target_pred_rbf))  \n",
    "target_names = ['class 0', 'class 1', 'class 2'] \n",
    "print(classification_report(target_,target_pred_rbf, target_names=target_names))"
   ]
  },
  {
   "cell_type": "markdown",
   "metadata": {},
   "source": [
    "### Using Polynomial Kernel"
   ]
  },
  {
   "cell_type": "code",
   "execution_count": 19,
   "metadata": {},
   "outputs": [
    {
     "name": "stdout",
     "output_type": "stream",
     "text": [
      "The accuracy is 95.33333333333334%\n",
      "[[50  0  0]\n",
      " [ 0 50  0]\n",
      " [ 0  7 43]]\n",
      "              precision    recall  f1-score   support\n",
      "\n",
      "     class 0       1.00      1.00      1.00        50\n",
      "     class 1       0.88      1.00      0.93        50\n",
      "     class 2       1.00      0.86      0.92        50\n",
      "\n",
      "    accuracy                           0.95       150\n",
      "   macro avg       0.96      0.95      0.95       150\n",
      "weighted avg       0.96      0.95      0.95       150\n",
      "\n"
     ]
    }
   ],
   "source": [
    "svc_polynomial = SVC(kernel=\"poly\", C=1) \n",
    "model2_svc=svc_polynomial.fit(features_, target_) \n",
    "target_pred_poly = model2_svc.predict(features_) \n",
    "target_pred_poly\n",
    "print(\"The accuracy is \"+str(metrics.accuracy_score(target_,target_pred_poly)*100)+\"%\") \n",
    "print(confusion_matrix(target_,target_pred_poly))  \n",
    "target_names = ['class 0', 'class 1', 'class 2'] \n",
    "print(classification_report(target_,target_pred_poly, target_names=target_names)) "
   ]
  },
  {
   "cell_type": "markdown",
   "metadata": {},
   "source": [
    "## Q3."
   ]
  },
  {
   "cell_type": "markdown",
   "metadata": {},
   "source": [
    "### RBF Model 1 with C= 0.1"
   ]
  },
  {
   "cell_type": "code",
   "execution_count": 20,
   "metadata": {},
   "outputs": [
    {
     "name": "stdout",
     "output_type": "stream",
     "text": [
      "The accuracy is 96.66666666666667%\n",
      "[[49  0  1]\n",
      " [ 0 49  1]\n",
      " [ 0  3 47]]\n",
      "              precision    recall  f1-score   support\n",
      "\n",
      "     class 0       1.00      0.98      0.99        50\n",
      "     class 1       0.94      0.98      0.96        50\n",
      "     class 2       0.96      0.94      0.95        50\n",
      "\n",
      "    accuracy                           0.97       150\n",
      "   macro avg       0.97      0.97      0.97       150\n",
      "weighted avg       0.97      0.97      0.97       150\n",
      "\n"
     ]
    }
   ],
   "source": [
    "svc_rbf = SVC(kernel=\"rbf\", random_state=0, gamma=1, C=0.1) \n",
    "model_svc=svc_rbf.fit(features_, target_) \n",
    "target_pred_rbf = model_svc.predict(features_) \n",
    "target_pred_rbf\n",
    "print(\"The accuracy is \"+str(metrics.accuracy_score(target_,target_pred_rbf)*100)+\"%\") \n",
    "print(confusion_matrix(target_,target_pred_rbf))  \n",
    "target_names = ['class 0', 'class 1', 'class 2'] \n",
    "print(classification_report(target_,target_pred_rbf, target_names=target_names))"
   ]
  },
  {
   "cell_type": "markdown",
   "metadata": {},
   "source": [
    "### RBF Model 2 with c=1.0"
   ]
  },
  {
   "cell_type": "code",
   "execution_count": 21,
   "metadata": {},
   "outputs": [
    {
     "name": "stdout",
     "output_type": "stream",
     "text": [
      "The accuracy is 98.66666666666667%\n",
      "[[50  0  0]\n",
      " [ 0 49  1]\n",
      " [ 0  1 49]]\n",
      "              precision    recall  f1-score   support\n",
      "\n",
      "     class 0       1.00      1.00      1.00        50\n",
      "     class 1       0.98      0.98      0.98        50\n",
      "     class 2       0.98      0.98      0.98        50\n",
      "\n",
      "    accuracy                           0.99       150\n",
      "   macro avg       0.99      0.99      0.99       150\n",
      "weighted avg       0.99      0.99      0.99       150\n",
      "\n"
     ]
    }
   ],
   "source": [
    "svc_rbf = SVC(kernel=\"rbf\", random_state=0, gamma=1, C=1.0) \n",
    "model2_svc=svc_rbf.fit(features_, target_)\n",
    "target_pred_rbf = model2_svc.predict(features_) \n",
    "target_pred_rbf\n",
    "print(\"The accuracy is \"+str(metrics.accuracy_score(target_,target_pred_rbf)*100)+\"%\") \n",
    "print(confusion_matrix(target_,target_pred_rbf))  \n",
    "target_names = ['class 0', 'class 1', 'class 2'] \n",
    "print(classification_report(target_,target_pred_rbf, target_names=target_names))"
   ]
  },
  {
   "cell_type": "markdown",
   "metadata": {},
   "source": [
    "### RBF Model with c=1000"
   ]
  },
  {
   "cell_type": "code",
   "execution_count": 22,
   "metadata": {},
   "outputs": [
    {
     "name": "stdout",
     "output_type": "stream",
     "text": [
      "The accuracy is 98.66666666666667%\n",
      "[[50  0  0]\n",
      " [ 0 49  1]\n",
      " [ 0  1 49]]\n",
      "              precision    recall  f1-score   support\n",
      "\n",
      "     class 0       1.00      1.00      1.00        50\n",
      "     class 1       0.98      0.98      0.98        50\n",
      "     class 2       0.98      0.98      0.98        50\n",
      "\n",
      "    accuracy                           0.99       150\n",
      "   macro avg       0.99      0.99      0.99       150\n",
      "weighted avg       0.99      0.99      0.99       150\n",
      "\n"
     ]
    }
   ],
   "source": [
    "svc_rbf = SVC(kernel=\"rbf\", random_state=0, gamma=1, C=1.0) \n",
    "model3_svc=svc_rbf.fit(features_, target_)\n",
    "target_pred_rbf = model3_svc.predict(features_) \n",
    "target_pred_rbf\n",
    "print(\"The accuracy is \"+str(metrics.accuracy_score(target_,target_pred_rbf)*100)+\"%\") \n",
    "print(confusion_matrix(target_,target_pred_rbf))  \n",
    "target_names = ['class 0', 'class 1', 'class 2'] \n",
    "print(classification_report(target_,target_pred_rbf, target_names=target_names))"
   ]
  },
  {
   "cell_type": "markdown",
   "metadata": {},
   "source": [
    "### RBF Model with gamma=0.1"
   ]
  },
  {
   "cell_type": "code",
   "execution_count": 23,
   "metadata": {},
   "outputs": [
    {
     "name": "stdout",
     "output_type": "stream",
     "text": [
      "The accuracy is 98.0%\n",
      "[[50  0  0]\n",
      " [ 0 48  2]\n",
      " [ 0  1 49]]\n",
      "              precision    recall  f1-score   support\n",
      "\n",
      "     class 0       1.00      1.00      1.00        50\n",
      "     class 1       0.98      0.96      0.97        50\n",
      "     class 2       0.96      0.98      0.97        50\n",
      "\n",
      "    accuracy                           0.98       150\n",
      "   macro avg       0.98      0.98      0.98       150\n",
      "weighted avg       0.98      0.98      0.98       150\n",
      "\n"
     ]
    }
   ],
   "source": [
    "svc_rbf = SVC(kernel=\"rbf\", random_state=0, gamma=0.1, C=1.0) \n",
    "model4_svc=svc_rbf.fit(features_, target_)\n",
    "target_pred_rbf = model4_svc.predict(features_) \n",
    "target_pred_rbf\n",
    "print(\"The accuracy is \"+str(metrics.accuracy_score(target_,target_pred_rbf)*100)+\"%\") \n",
    "print(confusion_matrix(target_,target_pred_rbf))  \n",
    "target_names = ['class 0', 'class 1', 'class 2'] \n",
    "print(classification_report(target_,target_pred_rbf, target_names=target_names))"
   ]
  },
  {
   "cell_type": "markdown",
   "metadata": {},
   "source": [
    "### RBF Model with gamma=1.0"
   ]
  },
  {
   "cell_type": "code",
   "execution_count": 24,
   "metadata": {},
   "outputs": [
    {
     "name": "stdout",
     "output_type": "stream",
     "text": [
      "The accuracy is 98.66666666666667%\n",
      "[[50  0  0]\n",
      " [ 0 49  1]\n",
      " [ 0  1 49]]\n",
      "              precision    recall  f1-score   support\n",
      "\n",
      "     class 0       1.00      1.00      1.00        50\n",
      "     class 1       0.98      0.98      0.98        50\n",
      "     class 2       0.98      0.98      0.98        50\n",
      "\n",
      "    accuracy                           0.99       150\n",
      "   macro avg       0.99      0.99      0.99       150\n",
      "weighted avg       0.99      0.99      0.99       150\n",
      "\n"
     ]
    }
   ],
   "source": [
    "svc_rbf = SVC(kernel=\"rbf\", random_state=0, gamma=1.0, C=1.0) \n",
    "model5_svc=svc_rbf.fit(features_, target_)\n",
    "target_pred_rbf = model5_svc.predict(features_) \n",
    "target_pred_rbf\n",
    "print(\"The accuracy is \"+str(metrics.accuracy_score(target_,target_pred_rbf)*100)+\"%\") \n",
    "print(confusion_matrix(target_,target_pred_rbf))  \n",
    "target_names = ['class 0', 'class 1', 'class 2'] \n",
    "print(classification_report(target_,target_pred_rbf, target_names=target_names))"
   ]
  },
  {
   "cell_type": "markdown",
   "metadata": {},
   "source": [
    "### RBF Model with gamma=10"
   ]
  },
  {
   "cell_type": "code",
   "execution_count": 25,
   "metadata": {},
   "outputs": [
    {
     "name": "stdout",
     "output_type": "stream",
     "text": [
      "The accuracy is 100.0%\n",
      "[[50  0  0]\n",
      " [ 0 50  0]\n",
      " [ 0  0 50]]\n",
      "              precision    recall  f1-score   support\n",
      "\n",
      "     class 0       1.00      1.00      1.00        50\n",
      "     class 1       1.00      1.00      1.00        50\n",
      "     class 2       1.00      1.00      1.00        50\n",
      "\n",
      "    accuracy                           1.00       150\n",
      "   macro avg       1.00      1.00      1.00       150\n",
      "weighted avg       1.00      1.00      1.00       150\n",
      "\n"
     ]
    }
   ],
   "source": [
    "svc_rbf = SVC(kernel=\"rbf\", random_state=0, gamma=10, C=1.0) \n",
    "model6_svc=svc_rbf.fit(features_, target_)\n",
    "target_pred_rbf = model6_svc.predict(features_) \n",
    "target_pred_rbf\n",
    "print(\"The accuracy is \"+str(metrics.accuracy_score(target_,target_pred_rbf)*100)+\"%\") \n",
    "print(confusion_matrix(target_,target_pred_rbf))  \n",
    "target_names = ['class 0', 'class 1', 'class 2'] \n",
    "print(classification_report(target_,target_pred_rbf, target_names=target_names))"
   ]
  },
  {
   "cell_type": "markdown",
   "metadata": {},
   "source": [
    "## Q4. "
   ]
  },
  {
   "cell_type": "code",
   "execution_count": 46,
   "metadata": {},
   "outputs": [],
   "source": [
    "from sklearn.svm import SVR\n",
    "from sklearn.metrics import r2_score, mean_squared_error\n",
    "from sklearn.model_selection import train_test_split\n",
    "from ucimlrepo import fetch_ucirepo\n",
    "\n",
    "wave = fetch_ucirepo(id=107)\n",
    "\n",
    "wave_X = wave.data.features\n",
    "wave_y = wave.data.targets\n",
    "\n",
    "X_train_wave, X_test_wave, y_train_wave, y_test_wave = train_test_split(wave_X, wave_y, test_size=0.4, random_state=42)"
   ]
  },
  {
   "cell_type": "markdown",
   "metadata": {},
   "source": [
    "### Using Linear Kernel"
   ]
  },
  {
   "cell_type": "code",
   "execution_count": 75,
   "metadata": {},
   "outputs": [
    {
     "name": "stdout",
     "output_type": "stream",
     "text": [
      "\n",
      "SVM Regression\n",
      "R2 score: 0.41516058693741564\n",
      "Mean squared error: 0.38449901687166443\n"
     ]
    }
   ],
   "source": [
    "svm_wave = SVR(kernel=\"linear\").fit(X_train_wave, y_train_wave)\n",
    "y_pred_wave = svm_wave.predict(X_test_wave)\n",
    "\n",
    "print(\"\\nSVM Regression\")\n",
    "print(\"R2 score:\", r2_score(y_test_wave, y_pred_wave))\n",
    "print(\"Mean squared error:\", mean_squared_error(y_test_wave, y_pred_wave))"
   ]
  },
  {
   "cell_type": "markdown",
   "metadata": {},
   "source": [
    "### Using RBF Kernel"
   ]
  },
  {
   "cell_type": "code",
   "execution_count": 29,
   "metadata": {},
   "outputs": [
    {
     "name": "stderr",
     "output_type": "stream",
     "text": [
      "/Users/aqibaabdulqadir/Desktop/MachineLearning/.venv/lib/python3.13/site-packages/sklearn/utils/validation.py:1408: DataConversionWarning: A column-vector y was passed when a 1d array was expected. Please change the shape of y to (n_samples, ), for example using ravel().\n",
      "  y = column_or_1d(y, warn=True)\n"
     ]
    },
    {
     "name": "stdout",
     "output_type": "stream",
     "text": [
      "\n",
      "SVM Regression\n",
      "R2 score: 0.6568835987907058\n",
      "Mean squared error: 0.22557973349754293\n"
     ]
    }
   ],
   "source": [
    "svm_wave = SVR(kernel=\"rbf\").fit(X_train_wave, y_train_wave)\n",
    "y_pred_wave = svm_wave.predict(X_test_wave)\n",
    "\n",
    "print(\"\\nSVM Regression\")\n",
    "print(\"R2 score:\", r2_score(y_test_wave, y_pred_wave))\n",
    "print(\"Mean squared error:\", mean_squared_error(y_test_wave, y_pred_wave))"
   ]
  },
  {
   "cell_type": "markdown",
   "metadata": {},
   "source": [
    "### Using Polynomial Kernel"
   ]
  },
  {
   "cell_type": "code",
   "execution_count": 30,
   "metadata": {},
   "outputs": [
    {
     "name": "stderr",
     "output_type": "stream",
     "text": [
      "/Users/aqibaabdulqadir/Desktop/MachineLearning/.venv/lib/python3.13/site-packages/sklearn/utils/validation.py:1408: DataConversionWarning: A column-vector y was passed when a 1d array was expected. Please change the shape of y to (n_samples, ), for example using ravel().\n",
      "  y = column_or_1d(y, warn=True)\n"
     ]
    },
    {
     "name": "stdout",
     "output_type": "stream",
     "text": [
      "\n",
      "SVM Regression\n",
      "R2 score: 0.540440160692911\n",
      "Mean squared error: 0.30213474410345\n"
     ]
    }
   ],
   "source": [
    "svm_wave = SVR(kernel=\"poly\").fit(X_train_wave, y_train_wave)\n",
    "y_pred_wave = svm_wave.predict(X_test_wave)\n",
    "\n",
    "print(\"\\nSVM Regression\")\n",
    "print(\"R2 score:\", r2_score(y_test_wave, y_pred_wave))\n",
    "print(\"Mean squared error:\", mean_squared_error(y_test_wave, y_pred_wave))"
   ]
  },
  {
   "cell_type": "markdown",
   "metadata": {},
   "source": [
    "### RBF Model 1 with C= 0.1"
   ]
  },
  {
   "cell_type": "code",
   "execution_count": 31,
   "metadata": {},
   "outputs": [
    {
     "name": "stderr",
     "output_type": "stream",
     "text": [
      "/Users/aqibaabdulqadir/Desktop/MachineLearning/.venv/lib/python3.13/site-packages/sklearn/utils/validation.py:1408: DataConversionWarning: A column-vector y was passed when a 1d array was expected. Please change the shape of y to (n_samples, ), for example using ravel().\n",
      "  y = column_or_1d(y, warn=True)\n"
     ]
    },
    {
     "name": "stdout",
     "output_type": "stream",
     "text": [
      "\n",
      "SVM Regression\n",
      "R2 score: 0.645558987415364\n",
      "Mean squared error: 0.23302502846744033\n"
     ]
    }
   ],
   "source": [
    "svm_wave = SVR(kernel=\"rbf\", C=0.1).fit(X_train_wave, y_train_wave)\n",
    "y_pred_wave = svm_wave.predict(X_test_wave)\n",
    "\n",
    "print(\"\\nSVM Regression\")\n",
    "print(\"R2 score:\", r2_score(y_test_wave, y_pred_wave))\n",
    "print(\"Mean squared error:\", mean_squared_error(y_test_wave, y_pred_wave))"
   ]
  },
  {
   "cell_type": "markdown",
   "metadata": {},
   "source": [
    "### RBF Model 2 with c=1.0"
   ]
  },
  {
   "cell_type": "code",
   "execution_count": 32,
   "metadata": {},
   "outputs": [
    {
     "name": "stderr",
     "output_type": "stream",
     "text": [
      "/Users/aqibaabdulqadir/Desktop/MachineLearning/.venv/lib/python3.13/site-packages/sklearn/utils/validation.py:1408: DataConversionWarning: A column-vector y was passed when a 1d array was expected. Please change the shape of y to (n_samples, ), for example using ravel().\n",
      "  y = column_or_1d(y, warn=True)\n"
     ]
    },
    {
     "name": "stdout",
     "output_type": "stream",
     "text": [
      "\n",
      "SVM Regression\n",
      "R2 score: 0.6568835987907058\n",
      "Mean squared error: 0.22557973349754293\n"
     ]
    }
   ],
   "source": [
    "svm_wave = SVR(kernel=\"rbf\", C=1).fit(X_train_wave, y_train_wave)\n",
    "y_pred_wave = svm_wave.predict(X_test_wave)\n",
    "\n",
    "print(\"\\nSVM Regression\")\n",
    "print(\"R2 score:\", r2_score(y_test_wave, y_pred_wave))\n",
    "print(\"Mean squared error:\", mean_squared_error(y_test_wave, y_pred_wave))"
   ]
  },
  {
   "cell_type": "markdown",
   "metadata": {},
   "source": [
    "### RBF Model with c=1000"
   ]
  },
  {
   "cell_type": "code",
   "execution_count": 33,
   "metadata": {},
   "outputs": [
    {
     "name": "stderr",
     "output_type": "stream",
     "text": [
      "/Users/aqibaabdulqadir/Desktop/MachineLearning/.venv/lib/python3.13/site-packages/sklearn/utils/validation.py:1408: DataConversionWarning: A column-vector y was passed when a 1d array was expected. Please change the shape of y to (n_samples, ), for example using ravel().\n",
      "  y = column_or_1d(y, warn=True)\n"
     ]
    },
    {
     "name": "stdout",
     "output_type": "stream",
     "text": [
      "\n",
      "SVM Regression\n",
      "R2 score: 0.29773933123664076\n",
      "Mean squared error: 0.4616968875492907\n"
     ]
    }
   ],
   "source": [
    "svm_wave = SVR(kernel=\"rbf\", C=1000).fit(X_train_wave, y_train_wave)\n",
    "y_pred_wave = svm_wave.predict(X_test_wave)\n",
    "\n",
    "print(\"\\nSVM Regression\")\n",
    "print(\"R2 score:\", r2_score(y_test_wave, y_pred_wave))\n",
    "print(\"Mean squared error:\", mean_squared_error(y_test_wave, y_pred_wave))"
   ]
  },
  {
   "cell_type": "markdown",
   "metadata": {},
   "source": [
    "### RBF Model with gamma=0.1"
   ]
  },
  {
   "cell_type": "code",
   "execution_count": 34,
   "metadata": {},
   "outputs": [
    {
     "name": "stderr",
     "output_type": "stream",
     "text": [
      "/Users/aqibaabdulqadir/Desktop/MachineLearning/.venv/lib/python3.13/site-packages/sklearn/utils/validation.py:1408: DataConversionWarning: A column-vector y was passed when a 1d array was expected. Please change the shape of y to (n_samples, ), for example using ravel().\n",
      "  y = column_or_1d(y, warn=True)\n"
     ]
    },
    {
     "name": "stdout",
     "output_type": "stream",
     "text": [
      "\n",
      "SVM Regression\n",
      "R2 score: 0.5872423743886687\n",
      "Mean squared error: 0.2713649212230097\n"
     ]
    }
   ],
   "source": [
    "svm_wave = SVR(kernel=\"rbf\", C=1, gamma=0.1).fit(X_train_wave, y_train_wave)\n",
    "y_pred_wave = svm_wave.predict(X_test_wave)\n",
    "\n",
    "print(\"\\nSVM Regression\")\n",
    "print(\"R2 score:\", r2_score(y_test_wave, y_pred_wave))\n",
    "print(\"Mean squared error:\", mean_squared_error(y_test_wave, y_pred_wave))"
   ]
  },
  {
   "cell_type": "markdown",
   "metadata": {},
   "source": [
    "### RBF Model with gamma=1.0"
   ]
  },
  {
   "cell_type": "code",
   "execution_count": 35,
   "metadata": {},
   "outputs": [
    {
     "name": "stderr",
     "output_type": "stream",
     "text": [
      "/Users/aqibaabdulqadir/Desktop/MachineLearning/.venv/lib/python3.13/site-packages/sklearn/utils/validation.py:1408: DataConversionWarning: A column-vector y was passed when a 1d array was expected. Please change the shape of y to (n_samples, ), for example using ravel().\n",
      "  y = column_or_1d(y, warn=True)\n"
     ]
    },
    {
     "name": "stdout",
     "output_type": "stream",
     "text": [
      "\n",
      "SVM Regression\n",
      "R2 score: -3.3026246575307283e-06\n",
      "Mean squared error: 0.6574459212899397\n"
     ]
    }
   ],
   "source": [
    "svm_wave = SVR(kernel=\"rbf\", C=1, gamma=1).fit(X_train_wave, y_train_wave)\n",
    "y_pred_wave = svm_wave.predict(X_test_wave)\n",
    "\n",
    "print(\"\\nSVM Regression\")\n",
    "print(\"R2 score:\", r2_score(y_test_wave, y_pred_wave))\n",
    "print(\"Mean squared error:\", mean_squared_error(y_test_wave, y_pred_wave))"
   ]
  },
  {
   "cell_type": "markdown",
   "metadata": {},
   "source": [
    "### RBF Model with gamma=10"
   ]
  },
  {
   "cell_type": "code",
   "execution_count": 36,
   "metadata": {},
   "outputs": [
    {
     "name": "stderr",
     "output_type": "stream",
     "text": [
      "/Users/aqibaabdulqadir/Desktop/MachineLearning/.venv/lib/python3.13/site-packages/sklearn/utils/validation.py:1408: DataConversionWarning: A column-vector y was passed when a 1d array was expected. Please change the shape of y to (n_samples, ), for example using ravel().\n",
      "  y = column_or_1d(y, warn=True)\n"
     ]
    },
    {
     "name": "stdout",
     "output_type": "stream",
     "text": [
      "\n",
      "SVM Regression\n",
      "R2 score: -1.4604266497908469e-05\n",
      "Mean squared error: 0.6574533514837324\n"
     ]
    }
   ],
   "source": [
    "svm_wave = SVR(kernel=\"rbf\", C=1, gamma=10).fit(X_train_wave, y_train_wave)\n",
    "y_pred_wave = svm_wave.predict(X_test_wave)\n",
    "\n",
    "print(\"\\nSVM Regression\")\n",
    "print(\"R2 score:\", r2_score(y_test_wave, y_pred_wave))\n",
    "print(\"Mean squared error:\", mean_squared_error(y_test_wave, y_pred_wave))"
   ]
  },
  {
   "cell_type": "code",
   "execution_count": 47,
   "metadata": {},
   "outputs": [],
   "source": [
    "import warnings\n",
    "warnings.filterwarnings('ignore', category=UserWarning)"
   ]
  },
  {
   "cell_type": "markdown",
   "metadata": {},
   "source": [
    "## Q4. "
   ]
  },
  {
   "cell_type": "code",
   "execution_count": 52,
   "metadata": {},
   "outputs": [
    {
     "name": "stdout",
     "output_type": "stream",
     "text": [
      "Warning: Looks like you're using an outdated `kagglehub` version (installed: 0.3.6), please consider upgrading to the latest version (0.3.12).\n"
     ]
    }
   ],
   "source": [
    "import kagglehub\n",
    "\n",
    "path = kagglehub.dataset_download(\"shubhankartiwari/ram-prices\")\n",
    "ram = pd.read_csv(path + '/ram_price.csv')\n",
    "\n",
    "ram_X = ram[['date']]\n",
    "ram_y = ram[['price']]\n",
    "\n",
    "X_train_ram, X_test_ram, y_train_ram, y_test_ram = train_test_split(ram_X, ram_y, test_size=0.4, random_state=42)"
   ]
  },
  {
   "cell_type": "markdown",
   "metadata": {},
   "source": [
    "### Using Linear Kernel"
   ]
  },
  {
   "cell_type": "code",
   "execution_count": 76,
   "metadata": {},
   "outputs": [
    {
     "name": "stdout",
     "output_type": "stream",
     "text": [
      "\n",
      "SVM Regression\n",
      "R2 score: -0.01666053352200758\n",
      "Mean squared error: 55432670197.12847\n"
     ]
    }
   ],
   "source": [
    "svm_ram = SVR(kernel=\"linear\").fit(X_train_ram, y_train_ram)\n",
    "y_pred_ram = svm_ram.predict(X_test_ram)\n",
    "\n",
    "print(\"\\nSVM Regression\")\n",
    "print(\"R2 score:\", r2_score(y_test_ram, y_pred_ram))\n",
    "print(\"Mean squared error:\", mean_squared_error(y_test_ram, y_pred_ram))"
   ]
  },
  {
   "cell_type": "markdown",
   "metadata": {},
   "source": [
    "### Using RBF Kernel"
   ]
  },
  {
   "cell_type": "code",
   "execution_count": 77,
   "metadata": {},
   "outputs": [
    {
     "name": "stdout",
     "output_type": "stream",
     "text": [
      "\n",
      "SVM Regression\n",
      "R2 score: -0.016896461993973988\n",
      "Mean squared error: 55445534024.08487\n"
     ]
    }
   ],
   "source": [
    "svm_ram = SVR(kernel=\"rbf\").fit(X_train_ram, y_train_ram)\n",
    "y_pred_ram = svm_ram.predict(X_test_ram)\n",
    "\n",
    "print(\"\\nSVM Regression\")\n",
    "print(\"R2 score:\", r2_score(y_test_ram, y_pred_ram))\n",
    "print(\"Mean squared error:\", mean_squared_error(y_test_ram, y_pred_ram))"
   ]
  },
  {
   "cell_type": "markdown",
   "metadata": {},
   "source": [
    "### Using Polynomial Kernel"
   ]
  },
  {
   "cell_type": "code",
   "execution_count": 78,
   "metadata": {},
   "outputs": [
    {
     "name": "stdout",
     "output_type": "stream",
     "text": [
      "\n",
      "SVM Regression\n",
      "R2 score: -217.58425776875941\n",
      "Mean squared error: 11918146393667.857\n"
     ]
    }
   ],
   "source": [
    "svm_ram = SVR(kernel=\"poly\").fit(X_train_ram, y_train_ram)\n",
    "y_pred_ram = svm_ram.predict(X_test_ram)\n",
    "\n",
    "print(\"\\nSVM Regression\")\n",
    "print(\"R2 score:\", r2_score(y_test_ram, y_pred_ram))\n",
    "print(\"Mean squared error:\", mean_squared_error(y_test_ram, y_pred_ram))"
   ]
  },
  {
   "cell_type": "markdown",
   "metadata": {},
   "source": [
    "### RBF Model 1 with C= 0.1"
   ]
  },
  {
   "cell_type": "code",
   "execution_count": 79,
   "metadata": {},
   "outputs": [
    {
     "name": "stdout",
     "output_type": "stream",
     "text": [
      "\n",
      "SVM Regression\n",
      "R2 score: -0.01693286332896138\n",
      "Mean squared error: 55447518780.186386\n"
     ]
    }
   ],
   "source": [
    "svm_ram = SVR(kernel=\"rbf\", C=0.1).fit(X_train_ram, y_train_ram)\n",
    "y_pred_ram = svm_ram.predict(X_test_ram)\n",
    "\n",
    "print(\"\\nSVM Regression\")\n",
    "print(\"R2 score:\", r2_score(y_test_ram, y_pred_ram))\n",
    "print(\"Mean squared error:\", mean_squared_error(y_test_ram, y_pred_ram))"
   ]
  },
  {
   "cell_type": "markdown",
   "metadata": {},
   "source": [
    "### RBF Model 2 with c=1.0"
   ]
  },
  {
   "cell_type": "code",
   "execution_count": 80,
   "metadata": {},
   "outputs": [
    {
     "name": "stdout",
     "output_type": "stream",
     "text": [
      "\n",
      "SVM Regression\n",
      "R2 score: -0.016896461993973988\n",
      "Mean squared error: 55445534024.08487\n"
     ]
    }
   ],
   "source": [
    "svm_ram = SVR(kernel=\"rbf\", C=1).fit(X_train_ram, y_train_ram)\n",
    "y_pred_ram = svm_ram.predict(X_test_ram)\n",
    "\n",
    "print(\"\\nSVM Regression\")\n",
    "print(\"R2 score:\", r2_score(y_test_ram, y_pred_ram))\n",
    "print(\"Mean squared error:\", mean_squared_error(y_test_ram, y_pred_ram))"
   ]
  },
  {
   "cell_type": "markdown",
   "metadata": {},
   "source": [
    "### RBF Model with c=1000"
   ]
  },
  {
   "cell_type": "code",
   "execution_count": 81,
   "metadata": {},
   "outputs": [
    {
     "name": "stdout",
     "output_type": "stream",
     "text": [
      "\n",
      "SVM Regression\n",
      "R2 score: -0.007634708903224707\n",
      "Mean squared error: 54940543727.32557\n"
     ]
    }
   ],
   "source": [
    "svm_ram = SVR(kernel=\"rbf\", C=1000).fit(X_train_ram, y_train_ram)\n",
    "y_pred_ram = svm_ram.predict(X_test_ram)\n",
    "\n",
    "print(\"\\nSVM Regression\")\n",
    "print(\"R2 score:\", r2_score(y_test_ram, y_pred_ram))\n",
    "print(\"Mean squared error:\", mean_squared_error(y_test_ram, y_pred_ram))"
   ]
  },
  {
   "cell_type": "markdown",
   "metadata": {},
   "source": [
    "### RBF Model with gamma=0.1"
   ]
  },
  {
   "cell_type": "code",
   "execution_count": 82,
   "metadata": {},
   "outputs": [
    {
     "name": "stdout",
     "output_type": "stream",
     "text": [
      "\n",
      "SVM Regression\n",
      "R2 score: -0.016919079642372603\n",
      "Mean squared error: 55446767234.78104\n"
     ]
    }
   ],
   "source": [
    "svm_ram = SVR(kernel=\"rbf\", C=1, gamma=0.1).fit(X_train_ram, y_train_ram)\n",
    "y_pred_ram = svm_ram.predict(X_test_ram)\n",
    "\n",
    "print(\"\\nSVM Regression\")\n",
    "print(\"R2 score:\", r2_score(y_test_ram, y_pred_ram))\n",
    "print(\"Mean squared error:\", mean_squared_error(y_test_ram, y_pred_ram))"
   ]
  },
  {
   "cell_type": "markdown",
   "metadata": {},
   "source": [
    "### RBF Model with gamma=1.0"
   ]
  },
  {
   "cell_type": "code",
   "execution_count": 83,
   "metadata": {},
   "outputs": [
    {
     "name": "stdout",
     "output_type": "stream",
     "text": [
      "\n",
      "SVM Regression\n",
      "R2 score: -0.016929725947429253\n",
      "Mean squared error: 55447347716.758606\n"
     ]
    }
   ],
   "source": [
    "svm_ram = SVR(kernel=\"rbf\", C=1, gamma=1).fit(X_train_ram, y_train_ram)\n",
    "y_pred_ram = svm_ram.predict(X_test_ram)\n",
    "\n",
    "print(\"\\nSVM Regression\")\n",
    "print(\"R2 score:\", r2_score(y_test_ram, y_pred_ram))\n",
    "print(\"Mean squared error:\", mean_squared_error(y_test_ram, y_pred_ram))"
   ]
  },
  {
   "cell_type": "markdown",
   "metadata": {},
   "source": [
    "### RBF Model with gamma=10"
   ]
  },
  {
   "cell_type": "code",
   "execution_count": 84,
   "metadata": {},
   "outputs": [
    {
     "name": "stdout",
     "output_type": "stream",
     "text": [
      "\n",
      "SVM Regression\n",
      "R2 score: -0.01693509929868009\n",
      "Mean squared error: 55447640694.795944\n"
     ]
    }
   ],
   "source": [
    "svm_ram = SVR(kernel=\"rbf\", C=1, gamma=10).fit(X_train_ram, y_train_ram)\n",
    "y_pred_ram = svm_ram.predict(X_test_ram)\n",
    "\n",
    "print(\"\\nSVM Regression\")\n",
    "print(\"R2 score:\", r2_score(y_test_ram, y_pred_ram))\n",
    "print(\"Mean squared error:\", mean_squared_error(y_test_ram, y_pred_ram))"
   ]
  },
  {
   "cell_type": "markdown",
   "metadata": {},
   "source": [
    "## Q4. "
   ]
  },
  {
   "cell_type": "code",
   "execution_count": 85,
   "metadata": {},
   "outputs": [
    {
     "name": "stdout",
     "output_type": "stream",
     "text": [
      "Warning: Looks like you're using an outdated `kagglehub` version (installed: 0.3.6), please consider upgrading to the latest version (0.3.12).\n"
     ]
    }
   ],
   "source": [
    "path = kagglehub.dataset_download(\"schirmerchad/bostonhoustingmlnd\")\n",
    "boston = pd.read_csv(path + '/housing.csv')\n",
    "\n",
    "boston_X = boston.drop(columns=['RM'])\n",
    "boston_y = boston[['RM']]\n",
    "X_train_boston, X_test_boston, y_train_boston, y_test_boston = train_test_split(boston_X, boston_y, test_size=0.4, random_state=42)"
   ]
  },
  {
   "cell_type": "markdown",
   "metadata": {},
   "source": [
    "### Using Linear Kernel"
   ]
  },
  {
   "cell_type": "code",
   "execution_count": 86,
   "metadata": {},
   "outputs": [
    {
     "name": "stdout",
     "output_type": "stream",
     "text": [
      "\n",
      "SVM Regression\n",
      "R2 score: -490354969.77426815\n",
      "Mean squared error: 193860069.0683487\n"
     ]
    }
   ],
   "source": [
    "svm_boston = SVR(kernel=\"linear\").fit(X_train_boston, y_train_boston)\n",
    "y_pred_boston = svm_boston.predict(X_test_boston)\n",
    "\n",
    "print(\"\\nSVM Regression\")\n",
    "print(\"R2 score:\", r2_score(y_test_boston, y_pred_boston))\n",
    "print(\"Mean squared error:\", mean_squared_error(y_test_boston, y_pred_boston))"
   ]
  },
  {
   "cell_type": "markdown",
   "metadata": {},
   "source": [
    "### Using RBF Kernel"
   ]
  },
  {
   "cell_type": "code",
   "execution_count": 87,
   "metadata": {},
   "outputs": [
    {
     "name": "stdout",
     "output_type": "stream",
     "text": [
      "\n",
      "SVM Regression\n",
      "R2 score: 0.47448744755984296\n",
      "Mean squared error: 0.2077594921725205\n"
     ]
    }
   ],
   "source": [
    "svm_boston = SVR(kernel=\"rbf\").fit(X_train_boston, y_train_boston)\n",
    "y_pred_boston = svm_boston.predict(X_test_boston)\n",
    "\n",
    "print(\"\\nSVM Regression\")\n",
    "print(\"R2 score:\", r2_score(y_test_boston, y_pred_boston))\n",
    "print(\"Mean squared error:\", mean_squared_error(y_test_boston, y_pred_boston))"
   ]
  },
  {
   "cell_type": "markdown",
   "metadata": {},
   "source": [
    "### Using Polynomial Kernel"
   ]
  },
  {
   "cell_type": "code",
   "execution_count": 88,
   "metadata": {},
   "outputs": [
    {
     "name": "stdout",
     "output_type": "stream",
     "text": [
      "\n",
      "SVM Regression\n",
      "R2 score: 0.43678928558519625\n",
      "Mean squared error: 0.22266332453831714\n"
     ]
    }
   ],
   "source": [
    "svm_boston = SVR(kernel=\"poly\").fit(X_train_boston, y_train_boston)\n",
    "y_pred_boston = svm_boston.predict(X_test_boston)\n",
    "\n",
    "print(\"\\nSVM Regression\")\n",
    "print(\"R2 score:\", r2_score(y_test_boston, y_pred_boston))\n",
    "print(\"Mean squared error:\", mean_squared_error(y_test_boston, y_pred_boston))"
   ]
  },
  {
   "cell_type": "markdown",
   "metadata": {},
   "source": [
    "### RBF Model 1 with C= 0.1"
   ]
  },
  {
   "cell_type": "code",
   "execution_count": 89,
   "metadata": {},
   "outputs": [
    {
     "name": "stdout",
     "output_type": "stream",
     "text": [
      "\n",
      "SVM Regression\n",
      "R2 score: 0.4600589162926799\n",
      "Mean squared error: 0.21346375996772693\n"
     ]
    }
   ],
   "source": [
    "svm_boston = SVR(kernel=\"rbf\", C=0.1).fit(X_train_boston, y_train_boston)\n",
    "y_pred_boston = svm_boston.predict(X_test_boston)\n",
    "\n",
    "print(\"\\nSVM Regression\")\n",
    "print(\"R2 score:\", r2_score(y_test_boston, y_pred_boston))\n",
    "print(\"Mean squared error:\", mean_squared_error(y_test_boston, y_pred_boston))"
   ]
  },
  {
   "cell_type": "markdown",
   "metadata": {},
   "source": [
    "### RBF Model 2 with c=1.0"
   ]
  },
  {
   "cell_type": "code",
   "execution_count": 90,
   "metadata": {},
   "outputs": [
    {
     "name": "stdout",
     "output_type": "stream",
     "text": [
      "\n",
      "SVM Regression\n",
      "R2 score: 0.47448744755984296\n",
      "Mean squared error: 0.2077594921725205\n"
     ]
    }
   ],
   "source": [
    "svm_boston = SVR(kernel=\"rbf\", C=1).fit(X_train_boston, y_train_boston)\n",
    "y_pred_boston = svm_boston.predict(X_test_boston)\n",
    "\n",
    "print(\"\\nSVM Regression\")\n",
    "print(\"R2 score:\", r2_score(y_test_boston, y_pred_boston))\n",
    "print(\"Mean squared error:\", mean_squared_error(y_test_boston, y_pred_boston))"
   ]
  },
  {
   "cell_type": "markdown",
   "metadata": {},
   "source": [
    "### RBF Model with c=1000"
   ]
  },
  {
   "cell_type": "code",
   "execution_count": 91,
   "metadata": {},
   "outputs": [
    {
     "name": "stdout",
     "output_type": "stream",
     "text": [
      "\n",
      "SVM Regression\n",
      "R2 score: 0.49032387130131605\n",
      "Mean squared error: 0.20149861916562506\n"
     ]
    }
   ],
   "source": [
    "svm_boston = SVR(kernel=\"rbf\", C=1000).fit(X_train_boston, y_train_boston)\n",
    "y_pred_boston = svm_boston.predict(X_test_boston)\n",
    "\n",
    "print(\"\\nSVM Regression\")\n",
    "print(\"R2 score:\", r2_score(y_test_boston, y_pred_boston))\n",
    "print(\"Mean squared error:\", mean_squared_error(y_test_boston, y_pred_boston))"
   ]
  },
  {
   "cell_type": "markdown",
   "metadata": {},
   "source": [
    "### RBF Model with gamma=0.1"
   ]
  },
  {
   "cell_type": "code",
   "execution_count": 92,
   "metadata": {},
   "outputs": [
    {
     "name": "stdout",
     "output_type": "stream",
     "text": [
      "\n",
      "SVM Regression\n",
      "R2 score: -0.0019148554884664826\n",
      "Mean squared error: 0.39610342438031876\n"
     ]
    }
   ],
   "source": [
    "svm_boston = SVR(kernel=\"rbf\", C=1, gamma=0.1).fit(X_train_boston, y_train_boston)\n",
    "y_pred_boston = svm_boston.predict(X_test_boston)\n",
    "\n",
    "print(\"\\nSVM Regression\")\n",
    "print(\"R2 score:\", r2_score(y_test_boston, y_pred_boston))\n",
    "print(\"Mean squared error:\", mean_squared_error(y_test_boston, y_pred_boston))"
   ]
  },
  {
   "cell_type": "markdown",
   "metadata": {},
   "source": [
    "### RBF Model with gamma=1.0"
   ]
  },
  {
   "cell_type": "code",
   "execution_count": 93,
   "metadata": {},
   "outputs": [
    {
     "name": "stdout",
     "output_type": "stream",
     "text": [
      "\n",
      "SVM Regression\n",
      "R2 score: -0.015720373493768536\n",
      "Mean squared error: 0.4015613861295517\n"
     ]
    }
   ],
   "source": [
    "svm_boston = SVR(kernel=\"rbf\", C=1, gamma=1).fit(X_train_boston, y_train_boston)\n",
    "y_pred_boston = svm_boston.predict(X_test_boston)\n",
    "\n",
    "print(\"\\nSVM Regression\")\n",
    "print(\"R2 score:\", r2_score(y_test_boston, y_pred_boston))\n",
    "print(\"Mean squared error:\", mean_squared_error(y_test_boston, y_pred_boston))"
   ]
  },
  {
   "cell_type": "markdown",
   "metadata": {},
   "source": [
    "### RBF Model with gamma=10"
   ]
  },
  {
   "cell_type": "code",
   "execution_count": 94,
   "metadata": {},
   "outputs": [
    {
     "name": "stdout",
     "output_type": "stream",
     "text": [
      "\n",
      "SVM Regression\n",
      "R2 score: -0.011534589172009113\n",
      "Mean squared error: 0.3999065513953586\n"
     ]
    }
   ],
   "source": [
    "svm_boston = SVR(kernel=\"rbf\", C=1, gamma=10).fit(X_train_boston, y_train_boston)\n",
    "y_pred_boston = svm_boston.predict(X_test_boston)\n",
    "\n",
    "print(\"\\nSVM Regression\")\n",
    "print(\"R2 score:\", r2_score(y_test_boston, y_pred_boston))\n",
    "print(\"Mean squared error:\", mean_squared_error(y_test_boston, y_pred_boston))"
   ]
  },
  {
   "cell_type": "code",
   "execution_count": null,
   "metadata": {},
   "outputs": [],
   "source": []
  }
 ],
 "metadata": {
  "kernelspec": {
   "display_name": ".venv",
   "language": "python",
   "name": "python3"
  },
  "language_info": {
   "codemirror_mode": {
    "name": "ipython",
    "version": 3
   },
   "file_extension": ".py",
   "mimetype": "text/x-python",
   "name": "python",
   "nbconvert_exporter": "python",
   "pygments_lexer": "ipython3",
   "version": "3.13.2"
  }
 },
 "nbformat": 4,
 "nbformat_minor": 4
}
