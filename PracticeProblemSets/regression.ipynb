{
 "cells": [
  {
   "cell_type": "markdown",
   "metadata": {},
   "source": [
    "# Assignment 3: Regression"
   ]
  },
  {
   "cell_type": "markdown",
   "metadata": {},
   "source": [
    "## Q1.\n",
    "We intend to design a machine learning system for predicting humidity using temperature values as feature. <br>\n",
    "The following table shows average temperature values and their corresponding average humidity values for 12 months of a\n",
    "year for a certain city."
   ]
  },
  {
   "cell_type": "markdown",
   "metadata": {},
   "source": [
    "![table](images/table.png)"
   ]
  },
  {
   "cell_type": "markdown",
   "metadata": {},
   "source": [
    "### a. Write linear regression equation for the prediction system."
   ]
  },
  {
   "cell_type": "markdown",
   "metadata": {},
   "source": [
    "### $$ y = \\theta_1x + \\theta_0  $$"
   ]
  },
  {
   "cell_type": "markdown",
   "metadata": {},
   "source": [
    "### b. Find predicted values for humidity i.e. $$ h(x^{(i)}) $$if θ0 = 53.95 and θ1 = −0.56."
   ]
  },
  {
   "cell_type": "markdown",
   "metadata": {},
   "source": [
    "### Ans. \n",
    "[46.054, 44.598, 42.918, 39.838, 39.894, 43.422, 47.398, 48.238,\n",
    "       48.91 , 48.854, 48.07 , 46.894]"
   ]
  },
  {
   "cell_type": "markdown",
   "metadata": {},
   "source": [
    "### c. Find the value of the cost function."
   ]
  },
  {
   "cell_type": "markdown",
   "metadata": {},
   "source": [
    "196.001817"
   ]
  },
  {
   "cell_type": "markdown",
   "metadata": {},
   "source": [
    "### d. Find R-squared value for this model."
   ]
  },
  {
   "cell_type": "markdown",
   "metadata": {},
   "source": [
    "0.04750"
   ]
  },
  {
   "cell_type": "markdown",
   "metadata": {},
   "source": [
    "### e. Propose two methods by which the R-squared value obtained in part c can be improved."
   ]
  },
  {
   "cell_type": "markdown",
   "metadata": {},
   "source": [
    "- The dataset is too small. Adding more samples could increase the result in even better results.\n",
    "- Possibly adding more features or changign the model could imporve the R-squared value."
   ]
  },
  {
   "cell_type": "markdown",
   "metadata": {},
   "source": [
    "## Q2. \n",
    "Write a function in Python to calculate R-squared value, taking the list of actual output and list of predicted output as\n",
    "inputs. "
   ]
  },
  {
   "cell_type": "code",
   "execution_count": 2,
   "metadata": {},
   "outputs": [],
   "source": [
    "import numpy as np\n",
    "from sklearn.linear_model import LinearRegression"
   ]
  },
  {
   "cell_type": "code",
   "execution_count": 3,
   "metadata": {},
   "outputs": [],
   "source": [
    "temp = np.array([14.1, 16.7, 19.7, 25.2, 25.1, 18.8, 11.7, 10.2, 9.0, 9.1, 10.5, 12.6])\n",
    "target = np.array([44.3, 50.4, 46.8, 33.7, 37.4, 54.2, 68.2, 69.0, 45.0, 51.3, 20.7, 24.4])"
   ]
  },
  {
   "cell_type": "code",
   "execution_count": 4,
   "metadata": {},
   "outputs": [],
   "source": [
    "t0 = 53.95\n",
    "t1 = -0.56"
   ]
  },
  {
   "cell_type": "code",
   "execution_count": 5,
   "metadata": {},
   "outputs": [
    {
     "data": {
      "text/plain": [
       "array([46.054, 44.598, 42.918, 39.838, 39.894, 43.422, 47.398, 48.238,\n",
       "       48.91 , 48.854, 48.07 , 46.894])"
      ]
     },
     "execution_count": 5,
     "metadata": {},
     "output_type": "execute_result"
    }
   ],
   "source": [
    "pred = t1*temp + t0\n",
    "pred"
   ]
  },
  {
   "cell_type": "code",
   "execution_count": 6,
   "metadata": {},
   "outputs": [
    {
     "data": {
      "text/plain": [
       "np.float64(196.00181733333335)"
      ]
     },
     "execution_count": 6,
     "metadata": {},
     "output_type": "execute_result"
    }
   ],
   "source": [
    "n = len(pred)\n",
    "squared = (target-pred)**2\n",
    "rss = sum(squared)\n",
    "cost = 1/n * rss\n",
    "cost"
   ]
  },
  {
   "cell_type": "code",
   "execution_count": 7,
   "metadata": {},
   "outputs": [
    {
     "data": {
      "text/plain": [
       "np.float64(0.04750608140669732)"
      ]
     },
     "execution_count": 7,
     "metadata": {},
     "output_type": "execute_result"
    }
   ],
   "source": [
    "mean = target.mean()\n",
    "tss = sum((target-mean)**2)\n",
    "r_squared = 1-rss/tss\n",
    "r_squared"
   ]
  },
  {
   "cell_type": "markdown",
   "metadata": {},
   "source": [
    "# Q3.\n",
    "For problem 2 from the notebook N6_Linear Regression.ipynb, find R-squared (score) for the movie revenue prediction model using your function implemented in the previous problem and check if your results are same as the ones produced by the score method in the notebook."
   ]
  },
  {
   "cell_type": "code",
   "execution_count": 8,
   "metadata": {},
   "outputs": [
    {
     "name": "stdout",
     "output_type": "stream",
     "text": [
      "<class 'pandas.core.frame.DataFrame'>\n",
      "RangeIndex: 5773 entries, 0 to 5772\n",
      "Data columns (total 2 columns):\n",
      " #   Column             Non-Null Count  Dtype\n",
      "---  ------             --------------  -----\n",
      " 0   Production_Budget  5773 non-null   int64\n",
      " 1   Worldwide_Gross    5773 non-null   int64\n",
      "dtypes: int64(2)\n",
      "memory usage: 90.3 KB\n"
     ]
    }
   ],
   "source": [
    "import pandas as pd\n",
    "from sklearn.model_selection import train_test_split\n",
    "from sklearn.linear_model import LinearRegression\n",
    "import matplotlib as plt\n",
    "import seaborn as sns\n",
    "\n",
    "movie_data = pd.read_csv(\"Datasets/Movie_Revenue_Dataset.csv\")\n",
    "movie_data.info()"
   ]
  },
  {
   "cell_type": "code",
   "execution_count": 9,
   "metadata": {},
   "outputs": [],
   "source": [
    "def r_squared(target, pred):\n",
    "    squared = (target-pred)**2\n",
    "    rss = np.sum(squared, axis=0)\n",
    "    mean = target.mean()\n",
    "    tss = np.sum((target-mean)**2, axis=0)\n",
    "    r_squared = 1-rss/tss\n",
    "    return r_squared"
   ]
  },
  {
   "cell_type": "code",
   "execution_count": 10,
   "metadata": {},
   "outputs": [],
   "source": [
    "X = movie_data[['Production_Budget']]\n",
    "Y = movie_data[['Worldwide_Gross']]"
   ]
  },
  {
   "cell_type": "code",
   "execution_count": 11,
   "metadata": {},
   "outputs": [
    {
     "data": {
      "text/plain": [
       "Worldwide_Gross    0.545594\n",
       "dtype: float64"
      ]
     },
     "execution_count": 11,
     "metadata": {},
     "output_type": "execute_result"
    }
   ],
   "source": [
    "r = LinearRegression()\n",
    "r.fit(X,Y)\n",
    "pred = r.predict(X)\n",
    "r_squared(Y, pred)\n"
   ]
  },
  {
   "cell_type": "markdown",
   "metadata": {},
   "source": [
    "Yes, tis similar <3"
   ]
  },
  {
   "cell_type": "markdown",
   "metadata": {},
   "source": [
    "# Q4.\n",
    "For problem 2 from the notebook N6_Linear Regression.ipynb, the alternate model uses a 80%-20% train-test split of data. Consider this result as model 1. Derive two more models with the following splits and determine which split\n",
    "gives the best result.\n",
    "- Model 2: 70%-30%\n",
    "- Model 3: 90%-10%"
   ]
  },
  {
   "cell_type": "code",
   "execution_count": 12,
   "metadata": {},
   "outputs": [],
   "source": [
    "trainX1, testX1, trainY1, testY1 = train_test_split(X, Y, random_state=2, test_size=0.3)\n",
    "trainX2, testX2, trainY2, testY2 = train_test_split(X, Y, random_state=2, test_size=0.1)"
   ]
  },
  {
   "cell_type": "code",
   "execution_count": 13,
   "metadata": {},
   "outputs": [
    {
     "data": {
      "text/plain": [
       "Worldwide_Gross    0.564206\n",
       "dtype: float64"
      ]
     },
     "execution_count": 13,
     "metadata": {},
     "output_type": "execute_result"
    }
   ],
   "source": [
    "r1 = LinearRegression()\n",
    "r1.fit(trainX1,trainY1)\n",
    "pred1 = r1.predict(testX1)\n",
    "r_squared(testY1, pred1)"
   ]
  },
  {
   "cell_type": "code",
   "execution_count": 14,
   "metadata": {},
   "outputs": [
    {
     "data": {
      "text/plain": [
       "Worldwide_Gross    0.554571\n",
       "dtype: float64"
      ]
     },
     "execution_count": 14,
     "metadata": {},
     "output_type": "execute_result"
    }
   ],
   "source": [
    "r2 = LinearRegression()\n",
    "r2.fit(trainX2,trainY2)\n",
    "pred2 = r2.predict(testX2)\n",
    "r_squared(testY2, pred2)"
   ]
  },
  {
   "cell_type": "markdown",
   "metadata": {},
   "source": [
    "Best is was 70/30"
   ]
  },
  {
   "cell_type": "markdown",
   "metadata": {},
   "source": [
    "# Q5. \n",
    "In problem 2 of practice problem set 1, you worked on fish market dataset provided in file D4_Fish_Market_Dataset.csv.\n",
    "You encoded all categorical data into numeric values. Take Weight as target and remaining 6 columns are features."
   ]
  },
  {
   "cell_type": "markdown",
   "metadata": {},
   "source": [
    "### a. Write equation for the hypothesis function h(x) for predicting Weight from features."
   ]
  },
  {
   "cell_type": "markdown",
   "metadata": {},
   "source": [
    "### $$ h(x) = \\theta_6x_6 + \\theta_5x_5 + \\theta_4x_4 + \\theta_3x_3 + \\theta_2x_2 + \\theta_1x_1 + \\theta_0  $$"
   ]
  },
  {
   "cell_type": "markdown",
   "metadata": {},
   "source": [
    "### b. Implement linear regression model defined in part a in Python. Print the values of all training parameters and R-squared value."
   ]
  },
  {
   "cell_type": "code",
   "execution_count": 15,
   "metadata": {},
   "outputs": [
    {
     "name": "stdout",
     "output_type": "stream",
     "text": [
      "<class 'pandas.core.frame.DataFrame'>\n",
      "RangeIndex: 159 entries, 0 to 158\n",
      "Data columns (total 7 columns):\n",
      " #   Column   Non-Null Count  Dtype  \n",
      "---  ------   --------------  -----  \n",
      " 0   Species  159 non-null    int64  \n",
      " 1   Weight   159 non-null    float64\n",
      " 2   Length1  159 non-null    float64\n",
      " 3   Length2  159 non-null    float64\n",
      " 4   Length3  159 non-null    float64\n",
      " 5   Height   159 non-null    float64\n",
      " 6   Width    159 non-null    float64\n",
      "dtypes: float64(6), int64(1)\n",
      "memory usage: 8.8 KB\n"
     ]
    }
   ],
   "source": [
    "fish_data = pd.read_csv(\"Datasets/Normalized_Fish_Market_Dataset.csv\")\n",
    "fish_data.info()"
   ]
  },
  {
   "cell_type": "code",
   "execution_count": 16,
   "metadata": {},
   "outputs": [],
   "source": [
    "X = fish_data.drop(columns=[\"Weight\"])\n",
    "Y = fish_data[[\"Weight\"]]"
   ]
  },
  {
   "cell_type": "code",
   "execution_count": 17,
   "metadata": {},
   "outputs": [
    {
     "data": {
      "text/plain": [
       "0.898004458541833"
      ]
     },
     "execution_count": 17,
     "metadata": {},
     "output_type": "execute_result"
    }
   ],
   "source": [
    "lr_fish = LinearRegression().fit(X, Y)\n",
    "lr_fish.score(X,Y)\n"
   ]
  },
  {
   "cell_type": "markdown",
   "metadata": {},
   "source": [
    "### c. Generate correlation heatmap for the model developed in part b and see if there are any features with potential sign of multicollinearity."
   ]
  },
  {
   "cell_type": "code",
   "execution_count": 18,
   "metadata": {},
   "outputs": [
    {
     "data": {
      "text/plain": [
       "<Axes: >"
      ]
     },
     "execution_count": 18,
     "metadata": {},
     "output_type": "execute_result"
    },
    {
     "data": {
      "image/png": "[encoded data removed]",
      "text/plain": [
       "<Figure size 640x480 with 2 Axes>"
      ]
     },
     "metadata": {},
     "output_type": "display_data"
    }
   ],
   "source": [
    "sns.heatmap(X.corr())"
   ]
  },
  {
   "cell_type": "markdown",
   "metadata": {},
   "source": [
    "Species and height show signs of multicollinearity"
   ]
  },
  {
   "cell_type": "markdown",
   "metadata": {},
   "source": [
    "### d. Write equation for polynomial hypothesis function h(x), adding a squared term for each feature. What is the total number of training parameters now?"
   ]
  },
  {
   "cell_type": "markdown",
   "metadata": {},
   "source": [
    "### $$ h(x) = \\theta_{12}x_6^2 + \\theta_{11}x_5^2 + \\theta_{10}x_4^2 + \\theta_9x_3^2 + \\theta_8x_2^2 + \\theta_7x_1^2 + \\theta_6x_6 + \\theta_5x_5 + \\theta_4x_4 + \\theta_3x_3 + \\theta_2x_2 + \\theta_1x_1 + \\theta_0  $$"
   ]
  },
  {
   "cell_type": "markdown",
   "metadata": {},
   "source": [
    "Total number of parameters are 12 now with 1 bias"
   ]
  },
  {
   "cell_type": "markdown",
   "metadata": {},
   "source": [
    "### e. Implement polynomial regression model defined in part d in Python. Print the values of all training parameters and R-squared value."
   ]
  },
  {
   "cell_type": "code",
   "execution_count": 30,
   "metadata": {},
   "outputs": [
    {
     "data": {
      "text/html": [
       "<div>\n",
       "<style scoped>\n",
       "    .dataframe tbody tr th:only-of-type {\n",
       "        vertical-align: middle;\n",
       "    }\n",
       "\n",
       "    .dataframe tbody tr th {\n",
       "        vertical-align: top;\n",
       "    }\n",
       "\n",
       "    .dataframe thead th {\n",
       "        text-align: right;\n",
       "    }\n",
       "</style>\n",
       "<table border=\"1\" class=\"dataframe\">\n",
       "  <thead>\n",
       "    <tr style=\"text-align: right;\">\n",
       "      <th></th>\n",
       "      <th>1</th>\n",
       "      <th>2</th>\n",
       "      <th>3</th>\n",
       "      <th>4</th>\n",
       "      <th>5</th>\n",
       "      <th>6</th>\n",
       "      <th>7</th>\n",
       "      <th>8</th>\n",
       "      <th>9</th>\n",
       "      <th>10</th>\n",
       "      <th>...</th>\n",
       "      <th>914</th>\n",
       "      <th>915</th>\n",
       "      <th>916</th>\n",
       "      <th>917</th>\n",
       "      <th>918</th>\n",
       "      <th>919</th>\n",
       "      <th>920</th>\n",
       "      <th>921</th>\n",
       "      <th>922</th>\n",
       "      <th>923</th>\n",
       "    </tr>\n",
       "  </thead>\n",
       "  <tbody>\n",
       "    <tr>\n",
       "      <th>0</th>\n",
       "      <td>1.0</td>\n",
       "      <td>0.304854</td>\n",
       "      <td>0.309091</td>\n",
       "      <td>0.358108</td>\n",
       "      <td>0.568334</td>\n",
       "      <td>0.418978</td>\n",
       "      <td>1.0</td>\n",
       "      <td>0.304854</td>\n",
       "      <td>0.309091</td>\n",
       "      <td>0.358108</td>\n",
       "      <td>...</td>\n",
       "      <td>8.507388e-03</td>\n",
       "      <td>6.271684e-03</td>\n",
       "      <td>4.623513e-03</td>\n",
       "      <td>3.369939e-02</td>\n",
       "      <td>2.484334e-02</td>\n",
       "      <td>1.831462e-02</td>\n",
       "      <td>1.350162e-02</td>\n",
       "      <td>9.953451e-03</td>\n",
       "      <td>7.337728e-03</td>\n",
       "      <td>5.409405e-03</td>\n",
       "    </tr>\n",
       "    <tr>\n",
       "      <th>1</th>\n",
       "      <td>1.0</td>\n",
       "      <td>0.320388</td>\n",
       "      <td>0.325455</td>\n",
       "      <td>0.378378</td>\n",
       "      <td>0.624055</td>\n",
       "      <td>0.459235</td>\n",
       "      <td>1.0</td>\n",
       "      <td>0.320388</td>\n",
       "      <td>0.325455</td>\n",
       "      <td>0.378378</td>\n",
       "      <td>...</td>\n",
       "      <td>1.427180e-02</td>\n",
       "      <td>1.050246e-02</td>\n",
       "      <td>7.728645e-03</td>\n",
       "      <td>5.906615e-02</td>\n",
       "      <td>4.346613e-02</td>\n",
       "      <td>3.198625e-02</td>\n",
       "      <td>2.353833e-02</td>\n",
       "      <td>1.732159e-02</td>\n",
       "      <td>1.274677e-02</td>\n",
       "      <td>9.380208e-03</td>\n",
       "    </tr>\n",
       "    <tr>\n",
       "      <th>2</th>\n",
       "      <td>1.0</td>\n",
       "      <td>0.318447</td>\n",
       "      <td>0.329091</td>\n",
       "      <td>0.376689</td>\n",
       "      <td>0.618123</td>\n",
       "      <td>0.514279</td>\n",
       "      <td>1.0</td>\n",
       "      <td>0.318447</td>\n",
       "      <td>0.329091</td>\n",
       "      <td>0.376689</td>\n",
       "      <td>...</td>\n",
       "      <td>1.957625e-02</td>\n",
       "      <td>1.628745e-02</td>\n",
       "      <td>1.355116e-02</td>\n",
       "      <td>5.577646e-02</td>\n",
       "      <td>4.640603e-02</td>\n",
       "      <td>3.860984e-02</td>\n",
       "      <td>3.212340e-02</td>\n",
       "      <td>2.672668e-02</td>\n",
       "      <td>2.223661e-02</td>\n",
       "      <td>1.850087e-02</td>\n",
       "    </tr>\n",
       "    <tr>\n",
       "      <th>3</th>\n",
       "      <td>1.0</td>\n",
       "      <td>0.365049</td>\n",
       "      <td>0.374545</td>\n",
       "      <td>0.417230</td>\n",
       "      <td>0.638566</td>\n",
       "      <td>0.480365</td>\n",
       "      <td>1.0</td>\n",
       "      <td>0.365049</td>\n",
       "      <td>0.374545</td>\n",
       "      <td>0.417230</td>\n",
       "      <td>...</td>\n",
       "      <td>1.885821e-02</td>\n",
       "      <td>1.418619e-02</td>\n",
       "      <td>1.067164e-02</td>\n",
       "      <td>6.780086e-02</td>\n",
       "      <td>5.100356e-02</td>\n",
       "      <td>3.836770e-02</td>\n",
       "      <td>2.886231e-02</td>\n",
       "      <td>2.171183e-02</td>\n",
       "      <td>1.633284e-02</td>\n",
       "      <td>1.228647e-02</td>\n",
       "    </tr>\n",
       "    <tr>\n",
       "      <th>4</th>\n",
       "      <td>1.0</td>\n",
       "      <td>0.368932</td>\n",
       "      <td>0.374545</td>\n",
       "      <td>0.425676</td>\n",
       "      <td>0.621966</td>\n",
       "      <td>0.576004</td>\n",
       "      <td>1.0</td>\n",
       "      <td>0.368932</td>\n",
       "      <td>0.374545</td>\n",
       "      <td>0.425676</td>\n",
       "      <td>...</td>\n",
       "      <td>3.146933e-02</td>\n",
       "      <td>2.914380e-02</td>\n",
       "      <td>2.699012e-02</td>\n",
       "      <td>5.788940e-02</td>\n",
       "      <td>5.361147e-02</td>\n",
       "      <td>4.964968e-02</td>\n",
       "      <td>4.598065e-02</td>\n",
       "      <td>4.258276e-02</td>\n",
       "      <td>3.943597e-02</td>\n",
       "      <td>3.652172e-02</td>\n",
       "    </tr>\n",
       "    <tr>\n",
       "      <th>...</th>\n",
       "      <td>...</td>\n",
       "      <td>...</td>\n",
       "      <td>...</td>\n",
       "      <td>...</td>\n",
       "      <td>...</td>\n",
       "      <td>...</td>\n",
       "      <td>...</td>\n",
       "      <td>...</td>\n",
       "      <td>...</td>\n",
       "      <td>...</td>\n",
       "      <td>...</td>\n",
       "      <td>...</td>\n",
       "      <td>...</td>\n",
       "      <td>...</td>\n",
       "      <td>...</td>\n",
       "      <td>...</td>\n",
       "      <td>...</td>\n",
       "      <td>...</td>\n",
       "      <td>...</td>\n",
       "      <td>...</td>\n",
       "      <td>...</td>\n",
       "    </tr>\n",
       "    <tr>\n",
       "      <th>154</th>\n",
       "      <td>7.0</td>\n",
       "      <td>0.077670</td>\n",
       "      <td>0.069091</td>\n",
       "      <td>0.077703</td>\n",
       "      <td>0.021012</td>\n",
       "      <td>0.048771</td>\n",
       "      <td>49.0</td>\n",
       "      <td>0.543689</td>\n",
       "      <td>0.483636</td>\n",
       "      <td>0.543919</td>\n",
       "      <td>...</td>\n",
       "      <td>3.979556e-09</td>\n",
       "      <td>9.237116e-09</td>\n",
       "      <td>2.144067e-08</td>\n",
       "      <td>8.605012e-11</td>\n",
       "      <td>1.997346e-10</td>\n",
       "      <td>4.636126e-10</td>\n",
       "      <td>1.076111e-09</td>\n",
       "      <td>2.497807e-09</td>\n",
       "      <td>5.797766e-09</td>\n",
       "      <td>1.345744e-08</td>\n",
       "    </tr>\n",
       "    <tr>\n",
       "      <th>155</th>\n",
       "      <td>7.0</td>\n",
       "      <td>0.081553</td>\n",
       "      <td>0.072727</td>\n",
       "      <td>0.079392</td>\n",
       "      <td>0.040723</td>\n",
       "      <td>0.031208</td>\n",
       "      <td>49.0</td>\n",
       "      <td>0.570874</td>\n",
       "      <td>0.509091</td>\n",
       "      <td>0.555743</td>\n",
       "      <td>...</td>\n",
       "      <td>4.001669e-09</td>\n",
       "      <td>3.066645e-09</td>\n",
       "      <td>2.350097e-09</td>\n",
       "      <td>4.560764e-09</td>\n",
       "      <td>3.495102e-09</td>\n",
       "      <td>2.678442e-09</td>\n",
       "      <td>2.052601e-09</td>\n",
       "      <td>1.572994e-09</td>\n",
       "      <td>1.205450e-09</td>\n",
       "      <td>9.237866e-10</td>\n",
       "    </tr>\n",
       "    <tr>\n",
       "      <th>156</th>\n",
       "      <td>7.0</td>\n",
       "      <td>0.089320</td>\n",
       "      <td>0.083636</td>\n",
       "      <td>0.084459</td>\n",
       "      <td>0.031842</td>\n",
       "      <td>0.029347</td>\n",
       "      <td>49.0</td>\n",
       "      <td>0.625243</td>\n",
       "      <td>0.585455</td>\n",
       "      <td>0.591216</td>\n",
       "      <td>...</td>\n",
       "      <td>2.164488e-09</td>\n",
       "      <td>1.994869e-09</td>\n",
       "      <td>1.838542e-09</td>\n",
       "      <td>1.042401e-09</td>\n",
       "      <td>9.607140e-10</td>\n",
       "      <td>8.854282e-10</td>\n",
       "      <td>8.160422e-10</td>\n",
       "      <td>7.520935e-10</td>\n",
       "      <td>6.931562e-10</td>\n",
       "      <td>6.388374e-10</td>\n",
       "    </tr>\n",
       "    <tr>\n",
       "      <th>157</th>\n",
       "      <td>7.0</td>\n",
       "      <td>0.110680</td>\n",
       "      <td>0.107273</td>\n",
       "      <td>0.108108</td>\n",
       "      <td>0.066424</td>\n",
       "      <td>0.143719</td>\n",
       "      <td>49.0</td>\n",
       "      <td>0.774757</td>\n",
       "      <td>0.750909</td>\n",
       "      <td>0.756757</td>\n",
       "      <td>...</td>\n",
       "      <td>1.415978e-06</td>\n",
       "      <td>3.063675e-06</td>\n",
       "      <td>6.628710e-06</td>\n",
       "      <td>8.589486e-08</td>\n",
       "      <td>1.858461e-07</td>\n",
       "      <td>4.021053e-07</td>\n",
       "      <td>8.700136e-07</td>\n",
       "      <td>1.882402e-06</td>\n",
       "      <td>4.072852e-06</td>\n",
       "      <td>8.812212e-06</td>\n",
       "    </tr>\n",
       "    <tr>\n",
       "      <th>158</th>\n",
       "      <td>7.0</td>\n",
       "      <td>0.122330</td>\n",
       "      <td>0.120000</td>\n",
       "      <td>0.125000</td>\n",
       "      <td>0.069872</td>\n",
       "      <td>0.117219</td>\n",
       "      <td>49.0</td>\n",
       "      <td>0.856311</td>\n",
       "      <td>0.840000</td>\n",
       "      <td>0.875000</td>\n",
       "      <td>...</td>\n",
       "      <td>9.829131e-07</td>\n",
       "      <td>1.648958e-06</td>\n",
       "      <td>2.766330e-06</td>\n",
       "      <td>1.163660e-07</td>\n",
       "      <td>1.952183e-07</td>\n",
       "      <td>3.275028e-07</td>\n",
       "      <td>5.494263e-07</td>\n",
       "      <td>9.217305e-07</td>\n",
       "      <td>1.546317e-06</td>\n",
       "      <td>2.594137e-06</td>\n",
       "    </tr>\n",
       "  </tbody>\n",
       "</table>\n",
       "<p>159 rows × 923 columns</p>\n",
       "</div>"
      ],
      "text/plain": [
       "     1         2         3         4         5         6     7         8    \\\n",
       "0    1.0  0.304854  0.309091  0.358108  0.568334  0.418978   1.0  0.304854   \n",
       "1    1.0  0.320388  0.325455  0.378378  0.624055  0.459235   1.0  0.320388   \n",
       "2    1.0  0.318447  0.329091  0.376689  0.618123  0.514279   1.0  0.318447   \n",
       "3    1.0  0.365049  0.374545  0.417230  0.638566  0.480365   1.0  0.365049   \n",
       "4    1.0  0.368932  0.374545  0.425676  0.621966  0.576004   1.0  0.368932   \n",
       "..   ...       ...       ...       ...       ...       ...   ...       ...   \n",
       "154  7.0  0.077670  0.069091  0.077703  0.021012  0.048771  49.0  0.543689   \n",
       "155  7.0  0.081553  0.072727  0.079392  0.040723  0.031208  49.0  0.570874   \n",
       "156  7.0  0.089320  0.083636  0.084459  0.031842  0.029347  49.0  0.625243   \n",
       "157  7.0  0.110680  0.107273  0.108108  0.066424  0.143719  49.0  0.774757   \n",
       "158  7.0  0.122330  0.120000  0.125000  0.069872  0.117219  49.0  0.856311   \n",
       "\n",
       "          9         10   ...           914           915           916  \\\n",
       "0    0.309091  0.358108  ...  8.507388e-03  6.271684e-03  4.623513e-03   \n",
       "1    0.325455  0.378378  ...  1.427180e-02  1.050246e-02  7.728645e-03   \n",
       "2    0.329091  0.376689  ...  1.957625e-02  1.628745e-02  1.355116e-02   \n",
       "3    0.374545  0.417230  ...  1.885821e-02  1.418619e-02  1.067164e-02   \n",
       "4    0.374545  0.425676  ...  3.146933e-02  2.914380e-02  2.699012e-02   \n",
       "..        ...       ...  ...           ...           ...           ...   \n",
       "154  0.483636  0.543919  ...  3.979556e-09  9.237116e-09  2.144067e-08   \n",
       "155  0.509091  0.555743  ...  4.001669e-09  3.066645e-09  2.350097e-09   \n",
       "156  0.585455  0.591216  ...  2.164488e-09  1.994869e-09  1.838542e-09   \n",
       "157  0.750909  0.756757  ...  1.415978e-06  3.063675e-06  6.628710e-06   \n",
       "158  0.840000  0.875000  ...  9.829131e-07  1.648958e-06  2.766330e-06   \n",
       "\n",
       "              917           918           919           920           921  \\\n",
       "0    3.369939e-02  2.484334e-02  1.831462e-02  1.350162e-02  9.953451e-03   \n",
       "1    5.906615e-02  4.346613e-02  3.198625e-02  2.353833e-02  1.732159e-02   \n",
       "2    5.577646e-02  4.640603e-02  3.860984e-02  3.212340e-02  2.672668e-02   \n",
       "3    6.780086e-02  5.100356e-02  3.836770e-02  2.886231e-02  2.171183e-02   \n",
       "4    5.788940e-02  5.361147e-02  4.964968e-02  4.598065e-02  4.258276e-02   \n",
       "..            ...           ...           ...           ...           ...   \n",
       "154  8.605012e-11  1.997346e-10  4.636126e-10  1.076111e-09  2.497807e-09   \n",
       "155  4.560764e-09  3.495102e-09  2.678442e-09  2.052601e-09  1.572994e-09   \n",
       "156  1.042401e-09  9.607140e-10  8.854282e-10  8.160422e-10  7.520935e-10   \n",
       "157  8.589486e-08  1.858461e-07  4.021053e-07  8.700136e-07  1.882402e-06   \n",
       "158  1.163660e-07  1.952183e-07  3.275028e-07  5.494263e-07  9.217305e-07   \n",
       "\n",
       "              922           923  \n",
       "0    7.337728e-03  5.409405e-03  \n",
       "1    1.274677e-02  9.380208e-03  \n",
       "2    2.223661e-02  1.850087e-02  \n",
       "3    1.633284e-02  1.228647e-02  \n",
       "4    3.943597e-02  3.652172e-02  \n",
       "..            ...           ...  \n",
       "154  5.797766e-09  1.345744e-08  \n",
       "155  1.205450e-09  9.237866e-10  \n",
       "156  6.931562e-10  6.388374e-10  \n",
       "157  4.072852e-06  8.812212e-06  \n",
       "158  1.546317e-06  2.594137e-06  \n",
       "\n",
       "[159 rows x 923 columns]"
      ]
     },
     "execution_count": 30,
     "metadata": {},
     "output_type": "execute_result"
    }
   ],
   "source": [
    "from sklearn.preprocessing import PolynomialFeatures\n",
    "\n",
    "poly = PolynomialFeatures(degree=6)\n",
    "X_poly = poly.fit_transform(X)\n",
    "X_poly = pd.DataFrame(X_poly).drop([0], axis=1)\n",
    "X_poly"
   ]
  },
  {
   "cell_type": "code",
   "execution_count": 31,
   "metadata": {},
   "outputs": [],
   "source": [
    "poly_regr = LinearRegression().fit(X_poly, Y)"
   ]
  },
  {
   "cell_type": "code",
   "execution_count": 35,
   "metadata": {},
   "outputs": [
    {
     "data": {
      "text/plain": [
       "array([[ 4.93450725e+00,  1.04355350e+01,  1.61610077e+02,\n",
       "         1.53565566e+01, -1.71371116e+02,  1.08975812e+02,\n",
       "        -4.98532375e+01,  1.16844650e+02,  1.55445872e+01,\n",
       "        -5.86374582e+01,  1.06348619e+02,  9.50417607e+00,\n",
       "        -3.91419883e+01,  1.01884650e+02, -2.07193630e+02,\n",
       "        -1.39778526e+02, -8.90055240e+01,  2.70500165e+02,\n",
       "         8.57176854e+01, -3.23930343e+02, -1.54191291e+02,\n",
       "        -1.40226185e+02, -1.80740918e+02,  1.22503757e+02,\n",
       "        -9.08263473e+00, -1.18697543e+02, -2.11095326e+02,\n",
       "         4.19663946e+01,  1.67987402e+01, -1.74780062e+02,\n",
       "        -1.66752569e+02,  1.26455089e+02, -1.38302706e+02,\n",
       "         9.00715382e+00,  1.41581977e+02, -1.01487884e+01,\n",
       "         1.04554691e+02, -4.00107028e+00,  2.78758698e+02,\n",
       "         2.01295982e+02, -1.26412851e+02, -1.35241669e-01,\n",
       "         1.58259306e+02,  7.31794734e+01,  2.63756597e+02,\n",
       "        -5.87987914e+01,  2.58974452e+02,  8.35924693e+01,\n",
       "         4.34469741e+01,  4.76351887e+01, -9.91266273e+01,\n",
       "         1.25962713e+02, -1.09536439e+02,  5.89447763e+01,\n",
       "        -3.43682341e+01,  7.54617377e+01, -4.89600112e+01,\n",
       "        -2.04603715e+02, -3.60475587e+01, -7.12894104e+01,\n",
       "         1.78629136e+01,  1.01234166e+02,  5.31774963e+01,\n",
       "         8.11584187e+01,  4.64642422e+01,  3.23717255e+01,\n",
       "         2.72639469e+01, -5.28553333e+01,  5.35793788e+00,\n",
       "         6.07033273e+01, -1.89340969e+02, -2.13690617e+02,\n",
       "        -2.91738520e+01, -2.27274195e+02, -8.38845154e+01,\n",
       "         6.05515804e+01,  6.67866106e+00,  1.58946730e+01,\n",
       "         1.76251169e+02,  3.36617299e+02,  4.89486073e+01,\n",
       "        -6.84056035e+01, -1.05321933e+02, -1.43743375e+01,\n",
       "        -3.98574605e+01,  8.81114160e+01,  1.07871635e+02,\n",
       "        -7.26721825e+01,  7.50233227e+01, -2.13275989e+02,\n",
       "        -8.85955208e+01, -6.94714278e+01,  3.30814636e+01,\n",
       "        -2.23178055e+02, -2.37832070e+01,  1.20503449e+01,\n",
       "        -1.37599880e+02, -8.40856269e+01,  2.11440685e+02,\n",
       "         4.90174363e+01,  1.14978006e+01, -3.35322519e+02,\n",
       "         1.67910095e+02,  2.67375588e+01,  3.76489436e+00,\n",
       "        -5.38980854e+00, -8.51096067e+01,  1.40229803e+02,\n",
       "        -1.59573864e+02, -4.54673718e+00, -5.00374137e+01,\n",
       "         6.05340915e+01, -8.70780282e+01, -1.47253805e+02,\n",
       "         1.85159894e+01, -9.02957907e+01,  1.07954103e+02,\n",
       "         1.23546305e+02, -8.75495791e+01,  9.52886286e+00,\n",
       "         3.97735589e+00, -1.08972174e+01,  5.89952754e+00,\n",
       "        -4.35843280e+01,  1.45984386e+01,  3.61476134e+01,\n",
       "        -1.10742930e+02, -1.93264895e+02, -1.10603564e+02,\n",
       "        -1.39464045e+02, -1.02896467e+01,  6.07839660e+01,\n",
       "         9.38092800e+01,  5.47228910e+01,  7.01984037e+01,\n",
       "         2.24938054e+02,  6.34763498e+01,  5.92807718e+01,\n",
       "        -9.49665750e+01,  1.16031853e+02,  5.61683620e+01,\n",
       "         2.55347227e+01,  1.52644500e+02, -4.79115015e+01,\n",
       "        -1.27995570e+00, -9.94580052e+00,  1.04292488e+02,\n",
       "        -3.43441232e+01, -6.06652685e+01,  7.35875627e+01,\n",
       "        -5.39875361e+01,  1.31334624e+02,  5.27171891e+01,\n",
       "         1.85134166e+01, -5.49990908e+01, -4.02055240e+01,\n",
       "         5.53593981e+01, -1.32534317e+01, -6.26736132e+01,\n",
       "         5.96718495e+01, -4.13030250e+00,  1.01953030e+02,\n",
       "         8.51614907e+00,  6.99012715e+01, -1.32275054e+02,\n",
       "         4.42377890e+00, -3.69262948e+01,  8.53720707e+01,\n",
       "         3.08147755e+01,  8.64916031e+01, -5.15397274e+01,\n",
       "         1.33560075e+02,  1.56177719e+02,  1.95001292e+02,\n",
       "        -1.03593596e+02, -6.36209195e+01,  8.22135817e+00,\n",
       "         1.72483232e+01, -5.57267307e+01,  4.98869272e+01,\n",
       "         5.75360918e+01,  6.52260636e+01, -3.24732941e+01,\n",
       "         1.34203723e+02, -8.89338729e+01,  3.98879327e+01,\n",
       "         6.13486641e+01,  1.02012104e+02,  2.00218310e+01,\n",
       "         1.77867812e+02, -6.73291434e+01, -1.22556402e+02,\n",
       "        -6.08842740e+01,  1.69050404e+02, -1.73439726e+02,\n",
       "        -3.22714311e+01,  2.00895705e+01,  7.55321295e+01,\n",
       "         2.25495762e+01,  1.83171995e+02,  3.23035211e+01,\n",
       "         1.82660512e+00,  3.70249376e+01,  2.29729005e+02,\n",
       "         7.56463628e+01,  1.30445501e+02,  9.98392501e+00,\n",
       "        -1.05994098e+02,  6.90341780e+01,  2.16829116e+00,\n",
       "         7.54402399e+00, -1.47355135e+01, -2.09463582e+01,\n",
       "         1.35171529e+01, -1.30410920e+01,  8.05618835e+01,\n",
       "         8.20052183e+01,  3.45667457e+01,  2.02989687e+00,\n",
       "         1.06604813e+02, -1.33827413e+02, -1.58012628e+02,\n",
       "         6.02011431e+01,  2.29161710e+02,  1.16969599e+02,\n",
       "        -5.13386955e+01, -2.56849132e+02,  1.10393609e+02,\n",
       "        -1.00963617e+02, -2.55567815e+01,  6.37132829e+01,\n",
       "        -3.03204320e+00, -1.74420921e+01,  1.23166248e+02,\n",
       "        -1.04933771e+01, -2.61050717e+01, -5.41672331e+01,\n",
       "        -8.56750950e+00,  5.12728390e+01, -9.25213060e+01,\n",
       "         3.07550375e+01, -2.40464275e+01,  2.31954865e+02,\n",
       "         1.04727583e+02, -4.98203842e+01, -5.42312934e+00,\n",
       "        -3.91588760e+01, -1.15241159e+02,  1.83230013e+02,\n",
       "        -7.79120729e+01, -3.67049997e+01,  8.93703282e+01,\n",
       "         6.26273627e+01, -1.99846826e+02, -1.81358123e+01,\n",
       "        -1.23074807e+02, -2.28314083e+01,  3.95554883e+01,\n",
       "         1.63832962e+02, -1.75709996e+01,  7.77671712e+00,\n",
       "         6.31117837e+01, -1.06276100e+02,  8.88812934e+01,\n",
       "         1.51089858e+02,  3.09494786e+02,  2.03191470e+02,\n",
       "         1.57022717e+02,  1.12735114e+02,  9.44964456e+01,\n",
       "         1.13413570e+02,  8.78576683e+01,  5.63596568e+01,\n",
       "         6.42883201e+01,  3.76925106e+01,  3.02721953e+01,\n",
       "         7.98615469e+00,  7.06290020e+00, -7.08541025e+01,\n",
       "         5.91395955e+01,  4.06943671e+01,  3.68848610e+01,\n",
       "         7.74150393e+00,  5.88357480e+01,  1.21827303e+01,\n",
       "         1.18095638e+01,  2.73457358e+01,  6.80888476e+00,\n",
       "        -1.06384475e+02,  6.65187324e+01, -4.24066702e+01,\n",
       "        -3.61092634e+01, -2.76177165e+01,  2.24544062e+01,\n",
       "        -8.02634995e+01,  1.69643376e+01, -2.71833978e+02,\n",
       "        -6.30331072e+01, -1.24095627e+02,  3.46680703e+01,\n",
       "        -1.43171147e+01,  5.00845915e+00, -3.12557742e+01,\n",
       "         7.90811051e+01,  7.59759560e+00,  5.17282068e+00,\n",
       "         7.43768492e+01,  4.17131085e+00, -1.27446710e+02,\n",
       "         1.09824751e+02, -1.47791050e+01, -3.26781274e+00,\n",
       "         5.04247855e+01,  6.64423542e+01, -7.89069577e+01,\n",
       "         8.09421121e+01, -1.87007711e+02, -2.39664304e+02,\n",
       "        -2.87050341e+02, -1.62730612e+01, -7.14019290e+01,\n",
       "        -6.55622391e+01,  1.79761027e-01,  6.17638645e+01,\n",
       "        -7.66596754e+01,  3.15718089e+01, -4.51727424e+01,\n",
       "        -6.76447395e+01, -1.57091646e+02, -6.62801910e+00,\n",
       "        -6.32059289e+01, -1.06961164e+02, -2.05403611e+02,\n",
       "        -3.35221019e+02, -1.96425666e+02,  2.04451857e+01,\n",
       "        -3.75959081e+01, -9.35981400e+00,  6.80452749e+01,\n",
       "        -9.37564304e+01, -9.54648572e+01, -5.93750659e+01,\n",
       "         1.45253574e+01, -1.06243034e+02, -3.96333023e+01,\n",
       "         4.12429961e+01, -8.96947467e+01,  9.65126159e+01,\n",
       "        -3.29250694e+01, -1.07815577e+02, -1.52702646e+02,\n",
       "        -1.08402267e+02, -4.14759716e+01, -1.16017477e+02,\n",
       "        -7.86631350e+01, -1.60459555e+00, -8.66141969e+01,\n",
       "         7.22389545e+01, -4.57707518e+01, -7.20385983e+01,\n",
       "        -6.89353921e+01,  8.66714039e+00, -7.94163809e+01,\n",
       "         8.42039727e+01, -2.91976521e+01, -6.55003456e+01,\n",
       "         1.64588195e+01,  4.23862982e+01,  1.17112761e+01,\n",
       "        -1.21731056e+01, -2.08819373e+02, -1.55864941e+02,\n",
       "        -9.90969514e+01, -1.22393337e+02, -1.15555227e+02,\n",
       "        -4.55106590e+01, -7.93978022e+01,  4.09671703e+01,\n",
       "        -5.88794306e+01, -3.02740277e+01, -9.30256456e+01,\n",
       "        -1.85631934e+01, -5.63547858e+01,  7.48880411e+01,\n",
       "        -2.69215913e+01, -7.33546129e+00,  6.83448952e+01,\n",
       "         9.60027332e+00,  2.74007826e+00,  5.49698576e+01,\n",
       "        -9.43040190e+01, -2.59861431e+01, -5.97412728e+01,\n",
       "         6.04158614e+01, -3.34732905e+01, -1.47929624e+01,\n",
       "         2.69995404e+01,  7.23255895e+00,  3.71452069e+00,\n",
       "         4.74007260e+01, -2.11637359e+02,  6.35284106e+01,\n",
       "         1.28117339e+02,  9.73543771e+01,  1.30542587e+02,\n",
       "        -2.63293177e+02, -2.01150587e+02, -1.57424749e+02,\n",
       "        -1.24641942e+02, -1.49594087e+02, -8.94176800e+01,\n",
       "        -6.71942967e+01,  4.19437801e+00, -7.10371796e+01,\n",
       "         1.84500458e+01, -1.13419784e+02, -4.48869495e+01,\n",
       "        -2.72503199e+01,  6.08121142e+01, -2.27040528e+01,\n",
       "         5.89715188e+01,  1.03905474e+02, -3.03756932e+01,\n",
       "        -4.95780998e+00,  1.31560999e+02, -9.82674476e+01,\n",
       "        -3.10578390e+01, -1.09298922e+01,  7.36780071e+01,\n",
       "        -9.95829420e+00,  7.14231146e+01,  9.73760545e+01,\n",
       "        -1.92439094e+01,  4.95076938e+00,  1.38439874e+02,\n",
       "        -8.10421088e+00, -6.09225414e+01, -6.34297467e+01,\n",
       "        -1.28987430e+01,  1.67894724e+02, -1.10716509e+02,\n",
       "        -5.62233194e+01, -2.53065476e+01,  3.29217022e+01,\n",
       "        -4.15207693e+01,  4.80800463e+01,  2.03214409e+01,\n",
       "        -6.80337579e+01, -3.79106340e+01,  1.01155348e+02,\n",
       "        -1.51737913e+02, -1.27783598e+02, -1.17185627e+02,\n",
       "        -6.90818103e+01,  1.22398769e+02, -2.99388183e+02,\n",
       "         6.33269486e+01,  4.34275962e+01, -1.18339733e+02,\n",
       "        -1.40384918e+02,  1.26794065e+02, -1.18458206e-01,\n",
       "        -3.72456531e-01,  6.74178907e-01,  1.40962565e+00,\n",
       "        -8.50639426e-01,  7.40145431e-01, -4.01775888e+01,\n",
       "         1.10613211e+02, -3.04200607e+01, -2.40392331e+01,\n",
       "        -1.22446338e+01, -3.86770585e+01,  6.62315878e+00,\n",
       "         1.59385560e+00, -2.51949107e+01, -9.32114662e+00,\n",
       "         2.44817385e+01,  3.15040178e+01, -9.98327055e+00,\n",
       "         9.42191192e+00,  2.64524008e+00,  7.32604202e+01,\n",
       "        -1.74157313e+02,  6.32824397e+01,  5.13758028e+01,\n",
       "        -1.15191639e+02, -1.40160574e+02, -6.97829401e+01,\n",
       "        -1.08429388e+02, -1.50976032e+02,  3.21054178e+01,\n",
       "         9.08279405e+01, -9.15354428e+01,  8.77025253e+01,\n",
       "         2.15428587e+02,  5.56379309e+00,  1.57511483e+02,\n",
       "         8.00833804e+01, -1.21819814e+02,  2.00946247e+02,\n",
       "         3.04377000e+01,  6.51168354e+01,  7.98855632e+01,\n",
       "         1.09078074e+02, -9.64837341e+01, -1.82731555e+02,\n",
       "        -5.81135058e+00, -1.39538089e+01,  7.07890977e+01,\n",
       "        -3.14125579e+02, -4.05247992e+01,  1.27739777e+02,\n",
       "         8.12786979e+00,  1.98041203e+01,  2.07970295e+00,\n",
       "        -3.55742442e+00,  4.21113304e+02,  1.57891815e+02,\n",
       "         7.92853706e+01, -4.02379929e+01,  2.47835932e+02,\n",
       "        -1.00069420e+01, -6.08733616e+01, -5.49401356e+01,\n",
       "         6.64433787e+01, -7.44969642e+01, -1.08497393e+02,\n",
       "        -8.02441617e+01, -1.92366259e+02, -1.48347007e+02,\n",
       "         3.93531130e+02, -8.61154950e+01, -1.10047585e+02,\n",
       "        -1.55847756e+01,  5.41087256e+00, -9.63440510e+01,\n",
       "        -4.78302466e+01, -1.21186893e+02,  2.16502741e+01,\n",
       "        -7.98649721e+01,  2.02863389e+02, -5.47815357e+01,\n",
       "        -1.19332306e+02, -2.09988911e+02,  1.11863567e+02,\n",
       "        -7.06118840e+01, -5.40376383e+01, -7.91802200e+02,\n",
       "        -1.20780992e+02, -3.60705375e+02,  2.64548806e+02,\n",
       "        -7.36710997e+01, -7.10762519e+01,  7.70844513e+01,\n",
       "         6.07966582e+01, -2.98110950e+01,  6.75109826e+01,\n",
       "        -4.59483949e+01,  2.61075356e+02,  6.58490041e+01,\n",
       "         1.75730788e+02,  4.10113774e+01,  2.43942954e+01,\n",
       "        -1.13897201e+02,  3.81261127e+02,  7.72554351e+01,\n",
       "        -7.53545813e+01, -1.60964677e+02,  1.46073481e+02,\n",
       "        -2.40618029e+02,  1.34819217e+01,  1.31210459e+02,\n",
       "        -5.82653000e+01, -1.48200253e+02,  3.94459693e+02,\n",
       "         3.20451933e+01, -2.93528975e+02,  1.36020207e+02,\n",
       "         4.83344014e+02,  1.71003104e+01, -1.04803034e+02,\n",
       "         1.47543597e+02, -1.51116741e+02,  4.84179797e+01,\n",
       "         4.31964408e+01, -6.73911540e+01, -7.66588516e+01,\n",
       "        -1.18159833e+02, -5.68790089e+01,  1.35981415e+01,\n",
       "        -1.13828887e+02, -1.48249374e+02, -7.68665950e+01,\n",
       "        -1.76816495e+01, -1.15650526e+02, -1.01205658e+01,\n",
       "        -1.36311607e+00, -9.48251843e+01,  2.16072262e+01,\n",
       "        -5.50679523e+01, -1.22432637e+02, -1.66893102e+02,\n",
       "        -8.52911068e+01, -4.38337675e+01, -1.01294095e+02,\n",
       "        -6.98076337e+00, -1.45463030e+01, -6.67158102e+01,\n",
       "         3.73405687e+01, -3.80204332e+01, -8.87741168e+01,\n",
       "         6.27527555e+01, -8.62391977e+00, -4.23023630e+01,\n",
       "         4.28263732e+01, -4.35658027e+01, -1.17446186e+02,\n",
       "        -1.07320383e+02, -2.08769258e+01, -4.05223599e+01,\n",
       "        -9.39856432e+01, -1.74017152e+02, -8.19850883e+01,\n",
       "        -6.43290272e+01, -7.06061003e+01,  8.24397829e+00,\n",
       "        -2.16780823e+01, -2.18207163e+01,  5.14085830e+01,\n",
       "        -1.14812382e+01, -3.18664766e+01,  9.16761629e+01,\n",
       "         2.56809081e-01,  1.85735926e+01,  7.68156361e+01,\n",
       "        -3.35460107e+00, -4.45532136e+01,  2.07729790e+01,\n",
       "         1.89992277e+01,  2.53952431e+00, -3.89556798e+01,\n",
       "         1.62450180e+02, -5.79609452e+00,  4.45692814e+01,\n",
       "         5.48538241e+01, -2.89937329e+01, -7.60333091e+01,\n",
       "        -3.38702803e+00,  1.93640620e+01, -1.77303912e+01,\n",
       "        -1.05933814e+02, -2.92424314e+02,  1.23743946e+01,\n",
       "         1.18134905e+02,  6.18358229e+01, -6.58599649e+01,\n",
       "        -1.69506912e+02, -6.67361107e+01, -7.85781386e+01,\n",
       "        -2.33791553e+01,  3.58760718e+01, -2.20174366e+01,\n",
       "         4.01999541e+01,  6.50386628e+01,  2.53281322e+01,\n",
       "         4.85665940e+01,  1.33652358e+02,  1.66907575e+01,\n",
       "         9.73739433e+01,  1.11004229e+02,  4.79184223e+01,\n",
       "         5.26982763e+01,  1.36230054e+02,  5.87532195e+01,\n",
       "         5.99349806e+01,  4.87652529e+01,  2.21093603e+02,\n",
       "         3.07547495e+01,  1.42459495e+02,  1.14035503e+02,\n",
       "         3.93302220e+01,  3.98415203e+01,  1.43597514e+02,\n",
       "         6.86395546e+01,  4.48353415e+01, -5.80124466e+00,\n",
       "         4.77016169e+01,  2.92798953e+01,  6.53745111e+01,\n",
       "         5.86594132e+01, -2.97700911e+01,  2.91788765e+02,\n",
       "         1.23420809e+01,  1.68851922e+02,  6.48405429e+01,\n",
       "        -8.39824776e+00,  3.16500820e+00,  7.55134302e+01,\n",
       "         1.58921774e+01, -2.17351922e+01, -9.55107426e+01,\n",
       "        -5.76077151e+01,  6.23512524e+00,  5.37826487e+01,\n",
       "         2.85506833e+01, -9.19246247e+01, -1.03923175e+02,\n",
       "         2.36514880e+02,  3.01410690e+02,  2.53675029e+02,\n",
       "         2.33233918e+02,  2.83854817e+01,  7.91025943e+01,\n",
       "         4.62784952e+01,  1.01411267e+02,  6.65241749e+01,\n",
       "         3.60235458e+00,  1.26711632e+01,  6.96230433e+01,\n",
       "         2.09844538e+01, -7.91144150e+00,  1.21956645e+02,\n",
       "         6.73698967e+01,  3.42731474e+01,  7.72728565e+01,\n",
       "        -1.46688431e+01, -6.43005314e+01, -2.15709967e+01,\n",
       "         3.72168545e+01, -2.72395233e+01, -1.91794766e+01,\n",
       "         9.19898078e+01,  2.27682914e+01,  2.75435018e+01,\n",
       "         3.89223870e+01, -3.31054741e+01, -4.73089576e+01,\n",
       "         1.40243298e+02,  6.13634099e+01,  6.52620231e+01,\n",
       "         7.36159355e+01, -4.14582963e+00, -2.17012594e+01,\n",
       "         7.05725759e+01,  1.21536422e+01, -3.81250092e+01,\n",
       "        -9.61950009e+01, -5.62877357e+01,  4.38501515e+00,\n",
       "        -7.78518066e+01, -2.99638571e+01,  6.16852458e+01,\n",
       "        -2.41969903e+01,  2.14663123e+01, -5.05756815e+00,\n",
       "        -5.33105026e+01, -2.85439763e+01,  1.13220602e+02,\n",
       "         1.90697169e+01,  6.47569991e+01,  3.68871571e+01,\n",
       "        -1.84316733e+01,  4.48738676e+00,  7.75482178e+01,\n",
       "        -3.50987372e+00, -3.16330879e+01, -4.64669874e+01,\n",
       "         1.56117536e+02,  4.78935801e+01,  9.64325702e+01,\n",
       "         5.46604169e+01, -3.19729781e+00,  2.16482497e+01,\n",
       "         6.42913499e+01, -2.94332286e+00, -3.00184773e+01,\n",
       "        -4.36202395e+01,  5.42688061e+00,  5.63235675e+01,\n",
       "         4.95847926e+01, -9.79111720e-01, -7.88795737e+01,\n",
       "        -9.13065552e+01, -2.86663612e+01, -1.30536951e+02,\n",
       "        -4.00102747e+01,  3.12873849e+01, -7.31568751e+01,\n",
       "         1.63423975e+01, -5.41395473e+01, -7.48485668e+01,\n",
       "        -7.65220819e+00,  8.62828920e+01, -2.50812137e+01,\n",
       "         6.54855872e+01, -4.96393946e+00, -3.38557840e+01,\n",
       "         3.31664824e+01,  7.35917732e+01, -2.48155814e+01,\n",
       "        -2.59744047e+01,  6.98486752e+00,  1.33584224e+02,\n",
       "         9.81131902e+00,  1.04076162e+02,  2.16752270e+01,\n",
       "        -1.13827583e+01,  5.91524900e+01,  7.40339948e+01,\n",
       "        -1.77354956e+01, -1.83715436e+01,  1.91618485e+01,\n",
       "         1.31190806e+02,  4.83619445e+01,  1.96927744e+01,\n",
       "         9.44253502e+00, -2.02351787e+00,  1.69923772e+02,\n",
       "         2.69344541e+01,  1.28149200e+02,  1.92901251e+01,\n",
       "        -1.30464029e+01,  6.54132553e+01,  2.68551256e+01,\n",
       "        -4.98322240e+01, -4.39272717e+01,  4.05918290e+00,\n",
       "        -1.91828986e+01, -4.09333699e+01, -4.46093796e+01,\n",
       "        -4.19190487e+01, -3.50203885e+01, -1.10004608e+02,\n",
       "         1.03010466e+02,  1.44689749e+02,  9.30353999e+01,\n",
       "         3.74567064e+01, -1.52235742e+01, -1.26442294e+02,\n",
       "        -6.17168878e+01, -1.84959339e+02, -4.90474636e+01,\n",
       "         1.05674476e+00, -1.23719479e+02,  1.24916841e+01,\n",
       "        -1.07763877e+02, -9.72577901e+01,  1.57420858e+01,\n",
       "         5.97364175e+01, -7.06332929e+01,  6.78230534e+01,\n",
       "        -5.12888084e+01, -4.98807864e+01,  6.47772643e+01,\n",
       "         5.95928193e+01, -5.10330396e+01, -2.05448705e+01,\n",
       "         6.46548127e+01,  1.11734307e+02, -2.93900841e+01,\n",
       "         1.13748418e+02, -1.56294801e+01, -1.98073076e+01,\n",
       "         1.00115333e+02,  7.35114106e+01, -3.73510584e+01,\n",
       "        -6.59455284e+00,  8.67442039e+01,  2.35679254e+02,\n",
       "         2.64810230e+01, -1.72322130e+01,  1.93232410e+01,\n",
       "         8.06000289e+01,  1.53951915e+02, -4.35974097e+00,\n",
       "         1.46466525e+02, -7.00675418e+00, -1.24874336e+01,\n",
       "         1.16994572e+02,  4.22613966e+01, -6.17013012e+01,\n",
       "        -2.50377780e+01,  8.24796895e+01,  1.09276651e+02,\n",
       "        -5.94759470e+01, -8.41857515e+01, -3.19144980e+01,\n",
       "         5.54148324e+01,  2.69019290e+02,  8.98869922e+01,\n",
       "        -7.89331255e+00, -4.70399403e+01, -9.06025808e+00,\n",
       "         5.98725519e+01,  1.82708160e+02, -6.77863725e-01,\n",
       "         1.61493789e+02, -3.26132097e+01, -3.42653049e+01,\n",
       "         1.09837918e+02, -4.41383344e+01, -1.32974484e+02,\n",
       "        -8.38721390e+01,  4.48151294e+01, -1.05344266e+02,\n",
       "        -2.19485806e+02, -2.16008881e+02, -1.39808415e+02,\n",
       "        -1.67139460e+01, -1.87446484e+02, -2.24512603e+02,\n",
       "        -2.54676383e+02, -2.54656217e+02, -1.73440985e+02,\n",
       "        -3.77115257e+01,  3.13603697e+00,  2.37121624e+02,\n",
       "         1.57794302e+02, -5.46402745e+01, -1.78561128e+02,\n",
       "        -1.02834108e+02,  8.33553334e+01]])"
      ]
     },
     "execution_count": 35,
     "metadata": {},
     "output_type": "execute_result"
    }
   ],
   "source": [
    "poly_regr.coef_"
   ]
  },
  {
   "cell_type": "code",
   "execution_count": 36,
   "metadata": {},
   "outputs": [
    {
     "data": {
      "text/plain": [
       "0.9999382638584062"
      ]
     },
     "execution_count": 36,
     "metadata": {},
     "output_type": "execute_result"
    }
   ],
   "source": [
    "poly_regr.score(X_poly, Y)"
   ]
  },
  {
   "cell_type": "markdown",
   "metadata": {},
   "source": [
    "# Q6.\n",
    "For model 5 implementation of the notebook N6_Ploynomial Regression.ipynb, set the variable deg to 3 and then 9.\n",
    "Observe the wall-times, number of non-zero features and R-squared scores in both cases."
   ]
  },
  {
   "cell_type": "markdown",
   "metadata": {},
   "source": [
    "Changes will be made in N_7"
   ]
  }
 ],
 "metadata": {
  "kernelspec": {
   "display_name": ".venv",
   "language": "python",
   "name": "python3"
  },
  "language_info": {
   "codemirror_mode": {
    "name": "ipython",
    "version": 3
   },
   "file_extension": ".py",
   "mimetype": "text/x-python",
   "name": "python",
   "nbconvert_exporter": "python",
   "pygments_lexer": "ipython3",
   "version": "3.13.0"
  }
 },
 "nbformat": 4,
 "nbformat_minor": 2
}
