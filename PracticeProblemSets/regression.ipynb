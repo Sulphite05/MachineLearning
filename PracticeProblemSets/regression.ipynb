{
 "cells": [
  {
   "cell_type": "markdown",
   "metadata": {},
   "source": [
    "# Assignment 3: Regression"
   ]
  },
  {
   "cell_type": "markdown",
   "metadata": {},
   "source": [
    "## Q1.\n",
    "We intend to design a machine learning system for predicting humidity using temperature values as feature. <br>\n",
    "The following table shows average temperature values and their corresponding average humidity values for 12 months of a\n",
    "year for a certain city."
   ]
  },
  {
   "cell_type": "markdown",
   "metadata": {},
   "source": [
    "![table](images/table.png)"
   ]
  },
  {
   "cell_type": "markdown",
   "metadata": {},
   "source": [
    "### a. Write linear regression equation for the prediction system."
   ]
  },
  {
   "cell_type": "markdown",
   "metadata": {},
   "source": [
    "### $$ y = \\theta_1x + \\theta_0  $$"
   ]
  },
  {
   "cell_type": "markdown",
   "metadata": {},
   "source": [
    "### b. Find predicted values for humidity i.e. $$ h(x^{(i)}) $$if θ0 = 53.95 and θ1 = −0.56."
   ]
  },
  {
   "cell_type": "markdown",
   "metadata": {},
   "source": [
    "### Ans. \n",
    "[46.054, 44.598, 42.918, 39.838, 39.894, 43.422, 47.398, 48.238,\n",
    "       48.91 , 48.854, 48.07 , 46.894]"
   ]
  },
  {
   "cell_type": "markdown",
   "metadata": {},
   "source": [
    "### c. Find the value of the cost function."
   ]
  },
  {
   "cell_type": "markdown",
   "metadata": {},
   "source": [
    "196.001817"
   ]
  },
  {
   "cell_type": "markdown",
   "metadata": {},
   "source": [
    "### d. Find R-squared value for this model."
   ]
  },
  {
   "cell_type": "markdown",
   "metadata": {},
   "source": [
    "0.04750"
   ]
  },
  {
   "cell_type": "markdown",
   "metadata": {},
   "source": [
    "### e. Propose two methods by which the R-squared value obtained in part c can be improved."
   ]
  },
  {
   "cell_type": "markdown",
   "metadata": {},
   "source": [
    "- The dataset is too small. Adding more samples could increase the result in even better results.\n",
    "- Possibly adding more features or changign the model could imporve the R-squared value."
   ]
  },
  {
   "cell_type": "markdown",
   "metadata": {},
   "source": [
    "## Q2. \n",
    "Write a function in Python to calculate R-squared value, taking the list of actual output and list of predicted output as\n",
    "inputs. "
   ]
  },
  {
   "cell_type": "code",
   "execution_count": 1,
   "metadata": {},
   "outputs": [],
   "source": [
    "import numpy as np\n",
    "from sklearn.linear_model import LinearRegression"
   ]
  },
  {
   "cell_type": "code",
   "execution_count": 2,
   "metadata": {},
   "outputs": [],
   "source": [
    "temp = np.array([14.1, 16.7, 19.7, 25.2, 25.1, 18.8, 11.7, 10.2, 9.0, 9.1, 10.5, 12.6])\n",
    "target = np.array([44.3, 50.4, 46.8, 33.7, 37.4, 54.2, 68.2, 69.0, 45.0, 51.3, 20.7, 24.4])"
   ]
  },
  {
   "cell_type": "code",
   "execution_count": 3,
   "metadata": {},
   "outputs": [],
   "source": [
    "t0 = 53.95\n",
    "t1 = -0.56"
   ]
  },
  {
   "cell_type": "code",
   "execution_count": 4,
   "metadata": {},
   "outputs": [
    {
     "data": {
      "text/plain": [
       "array([46.054, 44.598, 42.918, 39.838, 39.894, 43.422, 47.398, 48.238,\n",
       "       48.91 , 48.854, 48.07 , 46.894])"
      ]
     },
     "execution_count": 4,
     "metadata": {},
     "output_type": "execute_result"
    }
   ],
   "source": [
    "pred = t1*temp + t0\n",
    "pred"
   ]
  },
  {
   "cell_type": "code",
   "execution_count": 5,
   "metadata": {},
   "outputs": [
    {
     "data": {
      "text/plain": [
       "np.float64(196.00181733333335)"
      ]
     },
     "execution_count": 5,
     "metadata": {},
     "output_type": "execute_result"
    }
   ],
   "source": [
    "n = len(pred)\n",
    "squared = (target-pred)**2\n",
    "rss = sum(squared)\n",
    "cost = 1/n * rss\n",
    "cost"
   ]
  },
  {
   "cell_type": "code",
   "execution_count": 6,
   "metadata": {},
   "outputs": [
    {
     "data": {
      "text/plain": [
       "np.float64(0.04750608140669732)"
      ]
     },
     "execution_count": 6,
     "metadata": {},
     "output_type": "execute_result"
    }
   ],
   "source": [
    "mean = target.mean()\n",
    "tss = sum((target-mean)**2)\n",
    "r_squared = 1-rss/tss\n",
    "r_squared"
   ]
  },
  {
   "cell_type": "markdown",
   "metadata": {},
   "source": [
    "# Q3.\n",
    "For problem 2 from the notebook N6_Linear Regression.ipynb, find R-squared (score) for the movie revenue prediction model using your function implemented in the previous problem and check if your results are same as the ones produced by the score method in the notebook."
   ]
  },
  {
   "cell_type": "code",
   "execution_count": 28,
   "metadata": {},
   "outputs": [
    {
     "name": "stdout",
     "output_type": "stream",
     "text": [
      "<class 'pandas.core.frame.DataFrame'>\n",
      "RangeIndex: 5773 entries, 0 to 5772\n",
      "Data columns (total 2 columns):\n",
      " #   Column             Non-Null Count  Dtype\n",
      "---  ------             --------------  -----\n",
      " 0   Production_Budget  5773 non-null   int64\n",
      " 1   Worldwide_Gross    5773 non-null   int64\n",
      "dtypes: int64(2)\n",
      "memory usage: 90.3 KB\n"
     ]
    }
   ],
   "source": [
    "import pandas as pd\n",
    "from sklearn.model_selection import train_test_split\n",
    "from sklearn.linear_model import LinearRegression\n",
    "import matplotlib as plt\n",
    "import seaborn as sns\n",
    "\n",
    "movie_data = pd.read_csv(\"Datasets/Movie_Revenue_Dataset.csv\")\n",
    "movie_data.info()"
   ]
  },
  {
   "cell_type": "code",
   "execution_count": 8,
   "metadata": {},
   "outputs": [],
   "source": [
    "def r_squared(target, pred):\n",
    "    squared = (target-pred)**2\n",
    "    rss = np.sum(squared, axis=0)\n",
    "    mean = target.mean()\n",
    "    tss = np.sum((target-mean)**2, axis=0)\n",
    "    r_squared = 1-rss/tss\n",
    "    return r_squared"
   ]
  },
  {
   "cell_type": "code",
   "execution_count": 9,
   "metadata": {},
   "outputs": [],
   "source": [
    "X = movie_data[['Production_Budget']]\n",
    "Y = movie_data[['Worldwide_Gross']]"
   ]
  },
  {
   "cell_type": "code",
   "execution_count": 10,
   "metadata": {},
   "outputs": [
    {
     "data": {
      "text/plain": [
       "Worldwide_Gross    0.545594\n",
       "dtype: float64"
      ]
     },
     "execution_count": 10,
     "metadata": {},
     "output_type": "execute_result"
    }
   ],
   "source": [
    "r = LinearRegression()\n",
    "r.fit(X,Y)\n",
    "pred = r.predict(X)\n",
    "r_squared(Y, pred)\n"
   ]
  },
  {
   "cell_type": "markdown",
   "metadata": {},
   "source": [
    "Yes, tis similar <3"
   ]
  },
  {
   "cell_type": "markdown",
   "metadata": {},
   "source": [
    "# Q4.\n",
    "For problem 2 from the notebook N6_Linear Regression.ipynb, the alternate model uses a 80%-20% train-test split of data. Consider this result as model 1. Derive two more models with the following splits and determine which split\n",
    "gives the best result.\n",
    "- Model 2: 70%-30%\n",
    "- Model 3: 90%-10%"
   ]
  },
  {
   "cell_type": "code",
   "execution_count": 11,
   "metadata": {},
   "outputs": [],
   "source": [
    "trainX1, testX1, trainY1, testY1 = train_test_split(X, Y, random_state=2, test_size=0.3)\n",
    "trainX2, testX2, trainY2, testY2 = train_test_split(X, Y, random_state=2, test_size=0.1)"
   ]
  },
  {
   "cell_type": "code",
   "execution_count": 12,
   "metadata": {},
   "outputs": [
    {
     "data": {
      "text/plain": [
       "Worldwide_Gross    0.564206\n",
       "dtype: float64"
      ]
     },
     "execution_count": 12,
     "metadata": {},
     "output_type": "execute_result"
    }
   ],
   "source": [
    "r1 = LinearRegression()\n",
    "r1.fit(trainX1,trainY1)\n",
    "pred1 = r1.predict(testX1)\n",
    "r_squared(testY1, pred1)"
   ]
  },
  {
   "cell_type": "code",
   "execution_count": 13,
   "metadata": {},
   "outputs": [
    {
     "data": {
      "text/plain": [
       "Worldwide_Gross    0.554571\n",
       "dtype: float64"
      ]
     },
     "execution_count": 13,
     "metadata": {},
     "output_type": "execute_result"
    }
   ],
   "source": [
    "r2 = LinearRegression()\n",
    "r2.fit(trainX2,trainY2)\n",
    "pred2 = r2.predict(testX2)\n",
    "r_squared(testY2, pred2)"
   ]
  },
  {
   "cell_type": "markdown",
   "metadata": {},
   "source": [
    "Best one was 80/20"
   ]
  },
  {
   "cell_type": "markdown",
   "metadata": {},
   "source": [
    "# Q5. \n",
    "In problem 2 of practice problem set 1, you worked on fish market dataset provided in file D4_Fish_Market_Dataset.csv.\n",
    "You encoded all categorical data into numeric values. Take Weight as target and remaining 6 columns are features."
   ]
  },
  {
   "cell_type": "markdown",
   "metadata": {},
   "source": [
    "### a. Write equation for the hypothesis function h(x) for predicting Weight from features."
   ]
  },
  {
   "cell_type": "markdown",
   "metadata": {},
   "source": [
    "### $$ h(x) = \\theta_6x_6 + \\theta_5x_5 + \\theta_4x_4 + \\theta_3x_3 + \\theta_2x_2 + \\theta_1x_1 + \\theta_0  $$"
   ]
  },
  {
   "cell_type": "markdown",
   "metadata": {},
   "source": [
    "### b. Implement linear regression model defined in part a in Python. Print the values of all training parameters and R-squared value."
   ]
  },
  {
   "cell_type": "code",
   "execution_count": 31,
   "metadata": {},
   "outputs": [
    {
     "name": "stdout",
     "output_type": "stream",
     "text": [
      "<class 'pandas.core.frame.DataFrame'>\n",
      "RangeIndex: 159 entries, 0 to 158\n",
      "Data columns (total 7 columns):\n",
      " #   Column   Non-Null Count  Dtype  \n",
      "---  ------   --------------  -----  \n",
      " 0   Species  159 non-null    int64  \n",
      " 1   Weight   159 non-null    float64\n",
      " 2   Length1  159 non-null    float64\n",
      " 3   Length2  159 non-null    float64\n",
      " 4   Length3  159 non-null    float64\n",
      " 5   Height   159 non-null    float64\n",
      " 6   Width    159 non-null    float64\n",
      "dtypes: float64(6), int64(1)\n",
      "memory usage: 8.8 KB\n"
     ]
    }
   ],
   "source": [
    "fish_data = pd.read_csv(\"Datasets/Normalized_Fish_Market_Dataset.csv\")\n",
    "fish_data.info()"
   ]
  },
  {
   "cell_type": "code",
   "execution_count": 32,
   "metadata": {},
   "outputs": [],
   "source": [
    "X = fish_data.drop(columns=[\"Weight\"])\n",
    "Y = fish_data[[\"Weight\"]]"
   ]
  },
  {
   "cell_type": "code",
   "execution_count": 33,
   "metadata": {},
   "outputs": [
    {
     "data": {
      "text/plain": [
       "0.898004458541833"
      ]
     },
     "execution_count": 33,
     "metadata": {},
     "output_type": "execute_result"
    }
   ],
   "source": [
    "lr_fish = LinearRegression().fit(X, Y)\n",
    "lr_fish.score(X,Y)\n"
   ]
  },
  {
   "cell_type": "markdown",
   "metadata": {},
   "source": [
    "### c. Generate correlation heatmap for the model developed in part b and see if there are any features with potential sign of multicollinearity."
   ]
  },
  {
   "cell_type": "code",
   "execution_count": 34,
   "metadata": {},
   "outputs": [
    {
     "data": {
      "text/plain": [
       "<Axes: >"
      ]
     },
     "execution_count": 34,
     "metadata": {},
     "output_type": "execute_result"
    },
    {
     "data": {
      "image/png": "[encoded data removed]",
      "text/plain": [
       "<Figure size 640x480 with 2 Axes>"
      ]
     },
     "metadata": {},
     "output_type": "display_data"
    }
   ],
   "source": [
    "sns.heatmap(X.corr())"
   ]
  },
  {
   "cell_type": "markdown",
   "metadata": {},
   "source": [
    "Species and height show signs of multicollinearity"
   ]
  },
  {
   "cell_type": "markdown",
   "metadata": {},
   "source": [
    "### d. Write equation for polynomial hypothesis function h(x), adding a squared term for each feature. What is the total number of training parameters now?"
   ]
  },
  {
   "cell_type": "markdown",
   "metadata": {},
   "source": [
    "### $$ h(x) = \\theta_{12}x_6^2 + \\theta_{11}x_5^2 + \\theta_{10}x_4^2 + \\theta_9x_3^2 + \\theta_8x_2^2 + \\theta_7x_1^2 + \\theta_6x_6 + \\theta_5x_5 + \\theta_4x_4 + \\theta_3x_3 + \\theta_2x_2 + \\theta_1x_1 + \\theta_0  $$"
   ]
  },
  {
   "cell_type": "markdown",
   "metadata": {},
   "source": [
    "Total number of parameters are 12 now with 1 bias"
   ]
  },
  {
   "cell_type": "markdown",
   "metadata": {},
   "source": [
    "### e. Implement polynomial regression model defined in part d in Python. Print the values of all training parameters and R-squared value."
   ]
  },
  {
   "cell_type": "code",
   "execution_count": null,
   "metadata": {},
   "outputs": [],
   "source": []
  }
 ],
 "metadata": {
  "kernelspec": {
   "display_name": ".venv",
   "language": "python",
   "name": "python3"
  },
  "language_info": {
   "codemirror_mode": {
    "name": "ipython",
    "version": 3
   },
   "file_extension": ".py",
   "mimetype": "text/x-python",
   "name": "python",
   "nbconvert_exporter": "python",
   "pygments_lexer": "ipython3",
   "version": "3.13.0"
  }
 },
 "nbformat": 4,
 "nbformat_minor": 2
}
