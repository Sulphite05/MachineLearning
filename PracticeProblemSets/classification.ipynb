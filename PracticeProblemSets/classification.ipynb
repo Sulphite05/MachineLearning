{
 "cells": [
  {
   "cell_type": "markdown",
   "id": "8ce6851a",
   "metadata": {},
   "source": [
    "# Assignment 4: CLASSIFICATION"
   ]
  },
  {
   "cell_type": "markdown",
   "id": "ade225ee",
   "metadata": {},
   "source": [
    "## Q1. \n",
    "Consider logistic regression with two features x1 and x2. Suppose θ0 = −6, θ1 = 1, θ2=0."
   ]
  },
  {
   "cell_type": "markdown",
   "id": "9ce9e82c",
   "metadata": {},
   "source": [
    "### a. Write logistic regression equation for the hypothesis."
   ]
  },
  {
   "cell_type": "markdown",
   "id": "f5edbfc6",
   "metadata": {},
   "source": [
    "### $$ \\hat{y} = \\frac{1}{1 + e^{x-6}} $$"
   ]
  },
  {
   "cell_type": "markdown",
   "id": "6b71afce",
   "metadata": {},
   "source": [
    "### b. Write equation for decision boundary."
   ]
  },
  {
   "cell_type": "markdown",
   "id": "f2efbfb1",
   "metadata": {},
   "source": [
    "### $$ x=6 $$"
   ]
  },
  {
   "cell_type": "markdown",
   "id": "2bdd9b3c",
   "metadata": {},
   "source": [
    "### c. Make a graph showing decision boundary and clearly specifying the y = 0 and y = 1 regions."
   ]
  },
  {
   "cell_type": "code",
   "execution_count": 9,
   "id": "d1bb1107",
   "metadata": {},
   "outputs": [
    {
     "data": {
      "text/plain": [
       "[<matplotlib.lines.Line2D at 0x11b63ed50>]"
      ]
     },
     "execution_count": 9,
     "metadata": {},
     "output_type": "execute_result"
    },
    {
     "data": {
      "image/png": "[encoded data removed]",
      "text/plain": [
       "<Figure size 640x480 with 1 Axes>"
      ]
     },
     "metadata": {},
     "output_type": "display_data"
    }
   ],
   "source": [
    "import numpy as np\n",
    "from matplotlib import pyplot\n",
    "import pandas as pd\n",
    "\n",
    "t1=np.linspace(-20,20,200)\n",
    "pyplot.plot([6]*200, t1)"
   ]
  },
  {
   "cell_type": "markdown",
   "id": "d0186f9c",
   "metadata": {},
   "source": [
    "Left side is y = 0 and right side is y = 1."
   ]
  },
  {
   "cell_type": "markdown",
   "id": "e74d3afd",
   "metadata": {},
   "source": [
    "## Q2.\n",
    "Repeat problem 1 taking θ0 = 2, θ1 = 1, θ2 = −2."
   ]
  },
  {
   "cell_type": "markdown",
   "id": "9f93d33b",
   "metadata": {},
   "source": [
    "### a. Write logistic regression equation for the hypothesis."
   ]
  },
  {
   "cell_type": "markdown",
   "id": "c23e08a8",
   "metadata": {},
   "source": [
    "### $$ \\hat{y} = \\frac{1}{1 + e^{-2x_2 + x_1 + 2}} $$"
   ]
  },
  {
   "cell_type": "markdown",
   "id": "1374aca3",
   "metadata": {},
   "source": [
    "### b. Write equation for decision boundary."
   ]
  },
  {
   "cell_type": "markdown",
   "id": "060c5bf6",
   "metadata": {},
   "source": [
    "### $$ x_1 = 2x_2 - 2 $$"
   ]
  },
  {
   "cell_type": "markdown",
   "id": "f8f5f2c1",
   "metadata": {},
   "source": [
    "### c. Make a graph showing decision boundary and clearly specifying the y = 0 and y = 1 regions."
   ]
  },
  {
   "cell_type": "code",
   "execution_count": 7,
   "id": "9b8cfe2f",
   "metadata": {},
   "outputs": [
    {
     "data": {
      "text/plain": [
       "[<matplotlib.lines.Line2D at 0x118b43d90>]"
      ]
     },
     "execution_count": 7,
     "metadata": {},
     "output_type": "execute_result"
    },
    {
     "data": {
      "image/png": "[encoded data removed]",
      "text/plain": [
       "<Figure size 640x480 with 1 Axes>"
      ]
     },
     "metadata": {},
     "output_type": "display_data"
    }
   ],
   "source": [
    "import numpy as np\n",
    "from matplotlib import pyplot\n",
    "\n",
    "def y(x): return 2 * x - 2\n",
    "\n",
    "x2 = np.linspace(-20,20,200)\n",
    "x1 = y(x2)\n",
    "pyplot.plot(x1, x2)"
   ]
  },
  {
   "cell_type": "markdown",
   "id": "c02e9600",
   "metadata": {},
   "source": [
    "Left side is y = 0 and right side is y = 1."
   ]
  },
  {
   "cell_type": "markdown",
   "id": "e5d5e463",
   "metadata": {},
   "source": [
    "## Q3.\n",
    "The following table shows average temperature values and their corresponding average humidity values for 12 months of a year for a certain city. We intend to design a prediction system for humidity using temperature values as feature.\n",
    "\n",
    "\n",
    "![table](images/table.png)"
   ]
  },
  {
   "cell_type": "markdown",
   "id": "0b1d5b48",
   "metadata": {},
   "source": [
    "### a. Add an output IsHumid which is 1 if humidity > 55%.\n",
    "\n",
    "\n",
    "\n",
    "\n",
    "\n",
    "g. Find accuracy, precision, recall and f1_score."
   ]
  },
  {
   "cell_type": "code",
   "execution_count": 13,
   "id": "8e295c5d",
   "metadata": {},
   "outputs": [
    {
     "data": {
      "text/html": [
       "<div>\n",
       "<style scoped>\n",
       "    .dataframe tbody tr th:only-of-type {\n",
       "        vertical-align: middle;\n",
       "    }\n",
       "\n",
       "    .dataframe tbody tr th {\n",
       "        vertical-align: top;\n",
       "    }\n",
       "\n",
       "    .dataframe thead th {\n",
       "        text-align: right;\n",
       "    }\n",
       "</style>\n",
       "<table border=\"1\" class=\"dataframe\">\n",
       "  <thead>\n",
       "    <tr style=\"text-align: right;\">\n",
       "      <th></th>\n",
       "      <th>temperature</th>\n",
       "      <th>humidity</th>\n",
       "      <th>isHumid</th>\n",
       "    </tr>\n",
       "  </thead>\n",
       "  <tbody>\n",
       "    <tr>\n",
       "      <th>0</th>\n",
       "      <td>14.1</td>\n",
       "      <td>44.3</td>\n",
       "      <td>False</td>\n",
       "    </tr>\n",
       "    <tr>\n",
       "      <th>1</th>\n",
       "      <td>16.7</td>\n",
       "      <td>50.4</td>\n",
       "      <td>False</td>\n",
       "    </tr>\n",
       "    <tr>\n",
       "      <th>2</th>\n",
       "      <td>19.7</td>\n",
       "      <td>46.8</td>\n",
       "      <td>False</td>\n",
       "    </tr>\n",
       "    <tr>\n",
       "      <th>3</th>\n",
       "      <td>25.2</td>\n",
       "      <td>33.7</td>\n",
       "      <td>False</td>\n",
       "    </tr>\n",
       "    <tr>\n",
       "      <th>4</th>\n",
       "      <td>25.1</td>\n",
       "      <td>37.4</td>\n",
       "      <td>False</td>\n",
       "    </tr>\n",
       "    <tr>\n",
       "      <th>5</th>\n",
       "      <td>18.8</td>\n",
       "      <td>54.2</td>\n",
       "      <td>False</td>\n",
       "    </tr>\n",
       "    <tr>\n",
       "      <th>6</th>\n",
       "      <td>11.7</td>\n",
       "      <td>68.2</td>\n",
       "      <td>True</td>\n",
       "    </tr>\n",
       "    <tr>\n",
       "      <th>7</th>\n",
       "      <td>10.2</td>\n",
       "      <td>69.0</td>\n",
       "      <td>True</td>\n",
       "    </tr>\n",
       "    <tr>\n",
       "      <th>8</th>\n",
       "      <td>9.0</td>\n",
       "      <td>45.0</td>\n",
       "      <td>False</td>\n",
       "    </tr>\n",
       "    <tr>\n",
       "      <th>9</th>\n",
       "      <td>9.1</td>\n",
       "      <td>51.3</td>\n",
       "      <td>False</td>\n",
       "    </tr>\n",
       "    <tr>\n",
       "      <th>10</th>\n",
       "      <td>10.5</td>\n",
       "      <td>20.7</td>\n",
       "      <td>False</td>\n",
       "    </tr>\n",
       "    <tr>\n",
       "      <th>11</th>\n",
       "      <td>12.6</td>\n",
       "      <td>24.4</td>\n",
       "      <td>False</td>\n",
       "    </tr>\n",
       "  </tbody>\n",
       "</table>\n",
       "</div>"
      ],
      "text/plain": [
       "    temperature  humidity  isHumid\n",
       "0          14.1      44.3    False\n",
       "1          16.7      50.4    False\n",
       "2          19.7      46.8    False\n",
       "3          25.2      33.7    False\n",
       "4          25.1      37.4    False\n",
       "5          18.8      54.2    False\n",
       "6          11.7      68.2     True\n",
       "7          10.2      69.0     True\n",
       "8           9.0      45.0    False\n",
       "9           9.1      51.3    False\n",
       "10         10.5      20.7    False\n",
       "11         12.6      24.4    False"
      ]
     },
     "execution_count": 13,
     "metadata": {},
     "output_type": "execute_result"
    }
   ],
   "source": [
    "temp = np.array([14.1, 16.7, 19.7, 25.2, 25.1, 18.8, 11.7, 10.2, 9.0, 9.1, 10.5, 12.6])\n",
    "target = np.array([44.3, 50.4, 46.8, 33.7, 37.4, 54.2, 68.2, 69.0, 45.0, 51.3, 20.7, 24.4])\n",
    "isHumid = target > 55\n",
    "table = pd.DataFrame(data={'temperature': temp, 'humidity': target, 'isHumid': isHumid})\n",
    "table\n"
   ]
  },
  {
   "cell_type": "markdown",
   "id": "7c5535f5",
   "metadata": {},
   "source": [
    "### b. Write logistic regression equation for the output IsHumid."
   ]
  },
  {
   "cell_type": "markdown",
   "id": "7b75b929",
   "metadata": {},
   "source": [
    "### $$ \\hat{y} = \\frac{1}{1 + e^{\\theta_1x + \\theta_0}} $$ where x is humidity."
   ]
  },
  {
   "cell_type": "markdown",
   "id": "d779b6f1",
   "metadata": {},
   "source": [
    "### c. Find the equation for decision boundary."
   ]
  },
  {
   "cell_type": "markdown",
   "id": "7297a82d",
   "metadata": {},
   "source": [
    "### $$ x = - \\frac{\\theta_0}{\\theta_1} $$"
   ]
  },
  {
   "cell_type": "markdown",
   "id": "d2b6d194",
   "metadata": {},
   "source": [
    "### d. Find predicted probability values h(x(i)), if $$ θ_0 = 1.366 $$ $$ θ_1 = −0.115 $$\n"
   ]
  },
  {
   "cell_type": "code",
   "execution_count": 19,
   "id": "4e89dd37",
   "metadata": {},
   "outputs": [
    {
     "data": {
      "text/plain": [
       "0     0.976535\n",
       "1     0.988226\n",
       "2     0.982294\n",
       "3     0.924805\n",
       "4     0.949550\n",
       "5     0.992362\n",
       "6     0.998464\n",
       "7     0.998599\n",
       "8     0.978311\n",
       "9     0.989371\n",
       "10    0.733900\n",
       "11    0.808455\n",
       "Name: humidity, dtype: float64"
      ]
     },
     "execution_count": 19,
     "metadata": {},
     "output_type": "execute_result"
    }
   ],
   "source": [
    "import math \n",
    "pred_isHumid = 1 / (1+math.e**(-0.115*table['humidity'] + 1.366))\n",
    "pred_isHumid"
   ]
  },
  {
   "cell_type": "markdown",
   "id": "1533b106",
   "metadata": {},
   "source": [
    "### e. Find predicted output (0 or 1), setting threshold to 0.5."
   ]
  },
  {
   "cell_type": "code",
   "execution_count": 25,
   "id": "8958ccdd",
   "metadata": {},
   "outputs": [
    {
     "data": {
      "text/plain": [
       "0     1\n",
       "1     1\n",
       "2     1\n",
       "3     1\n",
       "4     1\n",
       "5     1\n",
       "6     1\n",
       "7     1\n",
       "8     1\n",
       "9     1\n",
       "10    1\n",
       "11    1\n",
       "dtype: int64"
      ]
     },
     "execution_count": 25,
     "metadata": {},
     "output_type": "execute_result"
    }
   ],
   "source": [
    "pred01_isHumid = pd.Series(int(i > 0.5) for i in pred_isHumid)\n",
    "pred01_isHumid"
   ]
  },
  {
   "cell_type": "markdown",
   "id": "0af5b4c9",
   "metadata": {},
   "source": [
    "### f. Formulate the resulting confusion matrix."
   ]
  },
  {
   "cell_type": "code",
   "execution_count": 28,
   "id": "b8f0dfa0",
   "metadata": {},
   "outputs": [
    {
     "name": "stdout",
     "output_type": "stream",
     "text": [
      "[[ 0 10]\n",
      " [ 0  2]]\n"
     ]
    }
   ],
   "source": [
    "from sklearn.metrics import confusion_matrix\n",
    "print(confusion_matrix(table['isHumid'], pred01_isHumid))"
   ]
  },
  {
   "cell_type": "code",
   "execution_count": 30,
   "id": "becb8a85",
   "metadata": {},
   "outputs": [
    {
     "name": "stdout",
     "output_type": "stream",
     "text": [
      "Accuracy: 0.16666666666666666\n",
      "Precision: 0.16666666666666666\n",
      "Recall score: 1.0\n",
      "F1 score: 0.2857142857142857\n"
     ]
    }
   ],
   "source": [
    "from sklearn.metrics import accuracy_score, f1_score, precision_score, recall_score\n",
    "\n",
    "print(\"Accuracy:\", accuracy_score(table['isHumid'], pred01_isHumid))\n",
    "print(\"Precision:\", precision_score(table['isHumid'], pred01_isHumid))\n",
    "print(\"Recall score:\", recall_score(table['isHumid'], pred01_isHumid))\n",
    "print(\"F1 score:\", f1_score(table['isHumid'], pred01_isHumid))"
   ]
  },
  {
   "cell_type": "markdown",
   "id": "b7f07f39",
   "metadata": {},
   "source": [
    "## Q4. \n",
    "Implement the model specified in problem 1 in Python and verify your manually calculated results of problem 3."
   ]
  },
  {
   "cell_type": "markdown",
   "id": "a734e03c",
   "metadata": {},
   "source": [
    "Hmmm, I don't get this question :("
   ]
  },
  {
   "cell_type": "markdown",
   "id": "f60fc274",
   "metadata": {},
   "source": [
    "## Q5. \n",
    "Following figure shows six pies that Johnny likes, and six that he does not.\n",
    "\n",
    "![table](images/pies.png)"
   ]
  },
  {
   "cell_type": "markdown",
   "id": "5cce8587",
   "metadata": {},
   "source": [
    "- Some possible attributes could be shape, crust size, crust shade, filling size, and filling shape.\n",
    "- Number of classes or labels: 2, either Johnny like the pie or he does not.\n",
    "- Considering only 3 features pie shape, crust size and filling size, the following table represents Jonny’s choice of\n",
    "pies."
   ]
  },
  {
   "cell_type": "markdown",
   "id": "21083638",
   "metadata": {},
   "source": [
    "![table](images/pietable.png)\n",
    "![table](images/pietable2.png)"
   ]
  },
  {
   "cell_type": "markdown",
   "id": "4ff8a586",
   "metadata": {},
   "source": [
    "### a. Write logistic regression equation for the output Choice."
   ]
  },
  {
   "cell_type": "markdown",
   "id": "97b1d367",
   "metadata": {},
   "source": [
    "### $$ \\hat{y} = \\frac{1}{1 + e^{\\theta_3x_3 + \\theta_2x_2 + \\theta_1x_1 + \\theta_0}} $$"
   ]
  },
  {
   "cell_type": "markdown",
   "id": "95de6888",
   "metadata": {},
   "source": [
    "### b. Encode all the categorical features using some appropriate coding method."
   ]
  },
  {
   "cell_type": "code",
   "execution_count": 58,
   "id": "f9cb4ca5",
   "metadata": {},
   "outputs": [],
   "source": [
    "# from collections import defaultdict\n",
    "# dct = defaultdict(list)\n",
    "# for i in range(12):\n",
    "#     get = input().split()\n",
    "#     dct['Shape'].append(get[1])\n",
    "#     dct['Crust'].append(get[2])\n",
    "#     dct['Filling'].append(get[3])\n",
    "#     dct['Choice'].append(get[4])\n",
    "# print(dict(dct))\n",
    "\n",
    "data = {'Shape': ['Circle', 'Circle', 'Triangle', 'Circle', 'Square', 'Circle', 'Circle', 'Square', 'Triangle', 'Circle', 'Square', 'Triangle'], 'Crust': ['Thick', 'Thick', 'Thick', 'Thin', 'Thick', 'Thick', 'Thick', 'Thick', 'Thin', 'Thick', 'Thick', 'Thick'], 'Filling': ['Thick', 'Thick', 'Thick', 'Thin', 'Thin', 'Thin', 'Thick', 'Thick', 'Thin', 'Thick', 'Thick', 'Thick'], 'Choice': ['positive', 'positive', 'positive', 'positive', 'positive', 'positive', 'negative', 'negative', 'negative', 'negative', 'negative', 'negative']}\n",
    "df = pd.DataFrame(data=data)"
   ]
  },
  {
   "cell_type": "code",
   "execution_count": 59,
   "id": "a23b57d9",
   "metadata": {},
   "outputs": [
    {
     "name": "stderr",
     "output_type": "stream",
     "text": [
      "/var/folders/_8/stmfqx710clbn04z1vg4j8lr0000gn/T/ipykernel_45836/4084979372.py:3: FutureWarning: Downcasting behavior in `replace` is deprecated and will be removed in a future version. To retain the old behavior, explicitly call `result.infer_objects(copy=False)`. To opt-in to the future behavior, set `pd.set_option('future.no_silent_downcasting', True)`\n",
      "  df['Shape'] = df['Shape'].replace('Square', 2)\n",
      "/var/folders/_8/stmfqx710clbn04z1vg4j8lr0000gn/T/ipykernel_45836/4084979372.py:5: FutureWarning: Downcasting behavior in `replace` is deprecated and will be removed in a future version. To retain the old behavior, explicitly call `result.infer_objects(copy=False)`. To opt-in to the future behavior, set `pd.set_option('future.no_silent_downcasting', True)`\n",
      "  df['Crust'] = df['Crust'].replace('Thin', 1)\n",
      "/var/folders/_8/stmfqx710clbn04z1vg4j8lr0000gn/T/ipykernel_45836/4084979372.py:7: FutureWarning: Downcasting behavior in `replace` is deprecated and will be removed in a future version. To retain the old behavior, explicitly call `result.infer_objects(copy=False)`. To opt-in to the future behavior, set `pd.set_option('future.no_silent_downcasting', True)`\n",
      "  df['Filling'] = df['Filling'].replace('Thin', 1)\n",
      "/var/folders/_8/stmfqx710clbn04z1vg4j8lr0000gn/T/ipykernel_45836/4084979372.py:9: FutureWarning: Downcasting behavior in `replace` is deprecated and will be removed in a future version. To retain the old behavior, explicitly call `result.infer_objects(copy=False)`. To opt-in to the future behavior, set `pd.set_option('future.no_silent_downcasting', True)`\n",
      "  df['Choice'] = df['Choice'].replace('positive', 1)\n"
     ]
    },
    {
     "data": {
      "text/html": [
       "<div>\n",
       "<style scoped>\n",
       "    .dataframe tbody tr th:only-of-type {\n",
       "        vertical-align: middle;\n",
       "    }\n",
       "\n",
       "    .dataframe tbody tr th {\n",
       "        vertical-align: top;\n",
       "    }\n",
       "\n",
       "    .dataframe thead th {\n",
       "        text-align: right;\n",
       "    }\n",
       "</style>\n",
       "<table border=\"1\" class=\"dataframe\">\n",
       "  <thead>\n",
       "    <tr style=\"text-align: right;\">\n",
       "      <th></th>\n",
       "      <th>Shape</th>\n",
       "      <th>Crust</th>\n",
       "      <th>Filling</th>\n",
       "      <th>Choice</th>\n",
       "    </tr>\n",
       "  </thead>\n",
       "  <tbody>\n",
       "    <tr>\n",
       "      <th>0</th>\n",
       "      <td>0</td>\n",
       "      <td>0</td>\n",
       "      <td>0</td>\n",
       "      <td>1</td>\n",
       "    </tr>\n",
       "    <tr>\n",
       "      <th>1</th>\n",
       "      <td>0</td>\n",
       "      <td>0</td>\n",
       "      <td>0</td>\n",
       "      <td>1</td>\n",
       "    </tr>\n",
       "    <tr>\n",
       "      <th>2</th>\n",
       "      <td>1</td>\n",
       "      <td>0</td>\n",
       "      <td>0</td>\n",
       "      <td>1</td>\n",
       "    </tr>\n",
       "    <tr>\n",
       "      <th>3</th>\n",
       "      <td>0</td>\n",
       "      <td>1</td>\n",
       "      <td>1</td>\n",
       "      <td>1</td>\n",
       "    </tr>\n",
       "    <tr>\n",
       "      <th>4</th>\n",
       "      <td>2</td>\n",
       "      <td>0</td>\n",
       "      <td>1</td>\n",
       "      <td>1</td>\n",
       "    </tr>\n",
       "    <tr>\n",
       "      <th>5</th>\n",
       "      <td>0</td>\n",
       "      <td>0</td>\n",
       "      <td>1</td>\n",
       "      <td>1</td>\n",
       "    </tr>\n",
       "    <tr>\n",
       "      <th>6</th>\n",
       "      <td>0</td>\n",
       "      <td>0</td>\n",
       "      <td>0</td>\n",
       "      <td>0</td>\n",
       "    </tr>\n",
       "    <tr>\n",
       "      <th>7</th>\n",
       "      <td>2</td>\n",
       "      <td>0</td>\n",
       "      <td>0</td>\n",
       "      <td>0</td>\n",
       "    </tr>\n",
       "    <tr>\n",
       "      <th>8</th>\n",
       "      <td>1</td>\n",
       "      <td>1</td>\n",
       "      <td>1</td>\n",
       "      <td>0</td>\n",
       "    </tr>\n",
       "    <tr>\n",
       "      <th>9</th>\n",
       "      <td>0</td>\n",
       "      <td>0</td>\n",
       "      <td>0</td>\n",
       "      <td>0</td>\n",
       "    </tr>\n",
       "    <tr>\n",
       "      <th>10</th>\n",
       "      <td>2</td>\n",
       "      <td>0</td>\n",
       "      <td>0</td>\n",
       "      <td>0</td>\n",
       "    </tr>\n",
       "    <tr>\n",
       "      <th>11</th>\n",
       "      <td>1</td>\n",
       "      <td>0</td>\n",
       "      <td>0</td>\n",
       "      <td>0</td>\n",
       "    </tr>\n",
       "  </tbody>\n",
       "</table>\n",
       "</div>"
      ],
      "text/plain": [
       "    Shape  Crust  Filling  Choice\n",
       "0       0      0        0       1\n",
       "1       0      0        0       1\n",
       "2       1      0        0       1\n",
       "3       0      1        1       1\n",
       "4       2      0        1       1\n",
       "5       0      0        1       1\n",
       "6       0      0        0       0\n",
       "7       2      0        0       0\n",
       "8       1      1        1       0\n",
       "9       0      0        0       0\n",
       "10      2      0        0       0\n",
       "11      1      0        0       0"
      ]
     },
     "execution_count": 59,
     "metadata": {},
     "output_type": "execute_result"
    }
   ],
   "source": [
    "df['Shape'] = df['Shape'].replace('Circle', 0)\n",
    "df['Shape'] = df['Shape'].replace('Triangle', 1)\n",
    "df['Shape'] = df['Shape'].replace('Square', 2)\n",
    "df['Crust'] = df['Crust'].replace('Thick', 0)\n",
    "df['Crust'] = df['Crust'].replace('Thin', 1)\n",
    "df['Filling'] = df['Filling'].replace('Thick', 0)\n",
    "df['Filling'] = df['Filling'].replace('Thin', 1)\n",
    "df['Choice'] = df['Choice'].replace('negative', 0)\n",
    "df['Choice'] = df['Choice'].replace('positive', 1)\n",
    "df"
   ]
  },
  {
   "cell_type": "markdown",
   "id": "2cb3ae5c",
   "metadata": {},
   "source": [
    "### c. Implement the model in Python and provide the following:\n",
    "- List the value for all parameters.\n",
    "- Formulate the resulting confusion matrix.\n",
    "- Find accuracy, precision, recall and f1_score."
   ]
  },
  {
   "cell_type": "code",
   "execution_count": 72,
   "id": "64cca7a8",
   "metadata": {},
   "outputs": [
    {
     "data": {
      "text/plain": [
       "(array([0.19727958]), array([[-0.51122687, -0.19351292,  0.65010077]]))"
      ]
     },
     "execution_count": 72,
     "metadata": {},
     "output_type": "execute_result"
    }
   ],
   "source": [
    "from sklearn.linear_model import LogisticRegression\n",
    "\n",
    "target = df['Choice']\n",
    "data = df.drop(columns = ['Choice'])\n",
    "lr = LogisticRegression().fit(data, target)\n",
    "pred = lr.predict(data)\n",
    "lr.intercept_, lr.coef_"
   ]
  },
  {
   "cell_type": "code",
   "execution_count": 73,
   "id": "c4404db8",
   "metadata": {},
   "outputs": [
    {
     "name": "stdout",
     "output_type": "stream",
     "text": [
      "[[3 3]\n",
      " [2 4]]\n"
     ]
    }
   ],
   "source": [
    "print(confusion_matrix(target, pred))"
   ]
  },
  {
   "cell_type": "code",
   "execution_count": 67,
   "id": "a4689508",
   "metadata": {},
   "outputs": [
    {
     "name": "stdout",
     "output_type": "stream",
     "text": [
      "Accuracy: 0.5833333333333334\n",
      "Precision: 0.5714285714285714\n",
      "Recall score: 0.6666666666666666\n",
      "F1 score: 0.6153846153846154\n"
     ]
    }
   ],
   "source": [
    "print(\"Accuracy:\", accuracy_score(target, pred))\n",
    "print(\"Precision:\", precision_score(target, pred))\n",
    "print(\"Recall score:\", recall_score(target, pred))\n",
    "print(\"F1 score:\", f1_score(target, pred))"
   ]
  },
  {
   "cell_type": "markdown",
   "id": "d0414ff9",
   "metadata": {},
   "source": [
    "### Q6. \n",
    "In problem 2 of practice problem set 1, you worked on fish market dataset provided in file D4_Fish_Market_Dataset.csv. You encoded all categorical data into numeric values. Take Weight as target and remaining 6 columns are features."
   ]
  },
  {
   "cell_type": "markdown",
   "id": "0cf3d97c",
   "metadata": {},
   "source": [
    "### a. Implement logistic regression model in Python to predict Species from features. Print the values of all training parameters."
   ]
  },
  {
   "cell_type": "code",
   "execution_count": 69,
   "id": "89803f92",
   "metadata": {},
   "outputs": [
    {
     "data": {
      "text/html": [
       "<div>\n",
       "<style scoped>\n",
       "    .dataframe tbody tr th:only-of-type {\n",
       "        vertical-align: middle;\n",
       "    }\n",
       "\n",
       "    .dataframe tbody tr th {\n",
       "        vertical-align: top;\n",
       "    }\n",
       "\n",
       "    .dataframe thead th {\n",
       "        text-align: right;\n",
       "    }\n",
       "</style>\n",
       "<table border=\"1\" class=\"dataframe\">\n",
       "  <thead>\n",
       "    <tr style=\"text-align: right;\">\n",
       "      <th></th>\n",
       "      <th>Species</th>\n",
       "      <th>Weight</th>\n",
       "      <th>Length1</th>\n",
       "      <th>Length2</th>\n",
       "      <th>Length3</th>\n",
       "      <th>Height</th>\n",
       "      <th>Width</th>\n",
       "    </tr>\n",
       "  </thead>\n",
       "  <tbody>\n",
       "    <tr>\n",
       "      <th>0</th>\n",
       "      <td>1</td>\n",
       "      <td>0.146667</td>\n",
       "      <td>0.304854</td>\n",
       "      <td>0.309091</td>\n",
       "      <td>0.358108</td>\n",
       "      <td>0.568334</td>\n",
       "      <td>0.418978</td>\n",
       "    </tr>\n",
       "    <tr>\n",
       "      <th>1</th>\n",
       "      <td>1</td>\n",
       "      <td>0.175758</td>\n",
       "      <td>0.320388</td>\n",
       "      <td>0.325455</td>\n",
       "      <td>0.378378</td>\n",
       "      <td>0.624055</td>\n",
       "      <td>0.459235</td>\n",
       "    </tr>\n",
       "    <tr>\n",
       "      <th>2</th>\n",
       "      <td>1</td>\n",
       "      <td>0.206061</td>\n",
       "      <td>0.318447</td>\n",
       "      <td>0.329091</td>\n",
       "      <td>0.376689</td>\n",
       "      <td>0.618123</td>\n",
       "      <td>0.514279</td>\n",
       "    </tr>\n",
       "    <tr>\n",
       "      <th>3</th>\n",
       "      <td>1</td>\n",
       "      <td>0.220000</td>\n",
       "      <td>0.365049</td>\n",
       "      <td>0.374545</td>\n",
       "      <td>0.417230</td>\n",
       "      <td>0.638566</td>\n",
       "      <td>0.480365</td>\n",
       "    </tr>\n",
       "    <tr>\n",
       "      <th>4</th>\n",
       "      <td>1</td>\n",
       "      <td>0.260606</td>\n",
       "      <td>0.368932</td>\n",
       "      <td>0.374545</td>\n",
       "      <td>0.425676</td>\n",
       "      <td>0.621966</td>\n",
       "      <td>0.576004</td>\n",
       "    </tr>\n",
       "    <tr>\n",
       "      <th>...</th>\n",
       "      <td>...</td>\n",
       "      <td>...</td>\n",
       "      <td>...</td>\n",
       "      <td>...</td>\n",
       "      <td>...</td>\n",
       "      <td>...</td>\n",
       "      <td>...</td>\n",
       "    </tr>\n",
       "    <tr>\n",
       "      <th>154</th>\n",
       "      <td>7</td>\n",
       "      <td>0.007394</td>\n",
       "      <td>0.077670</td>\n",
       "      <td>0.069091</td>\n",
       "      <td>0.077703</td>\n",
       "      <td>0.021012</td>\n",
       "      <td>0.048771</td>\n",
       "    </tr>\n",
       "    <tr>\n",
       "      <th>155</th>\n",
       "      <td>7</td>\n",
       "      <td>0.008121</td>\n",
       "      <td>0.081553</td>\n",
       "      <td>0.072727</td>\n",
       "      <td>0.079392</td>\n",
       "      <td>0.040723</td>\n",
       "      <td>0.031208</td>\n",
       "    </tr>\n",
       "    <tr>\n",
       "      <th>156</th>\n",
       "      <td>7</td>\n",
       "      <td>0.007394</td>\n",
       "      <td>0.089320</td>\n",
       "      <td>0.083636</td>\n",
       "      <td>0.084459</td>\n",
       "      <td>0.031842</td>\n",
       "      <td>0.029347</td>\n",
       "    </tr>\n",
       "    <tr>\n",
       "      <th>157</th>\n",
       "      <td>7</td>\n",
       "      <td>0.011939</td>\n",
       "      <td>0.110680</td>\n",
       "      <td>0.107273</td>\n",
       "      <td>0.108108</td>\n",
       "      <td>0.066424</td>\n",
       "      <td>0.143719</td>\n",
       "    </tr>\n",
       "    <tr>\n",
       "      <th>158</th>\n",
       "      <td>7</td>\n",
       "      <td>0.012061</td>\n",
       "      <td>0.122330</td>\n",
       "      <td>0.120000</td>\n",
       "      <td>0.125000</td>\n",
       "      <td>0.069872</td>\n",
       "      <td>0.117219</td>\n",
       "    </tr>\n",
       "  </tbody>\n",
       "</table>\n",
       "<p>159 rows × 7 columns</p>\n",
       "</div>"
      ],
      "text/plain": [
       "     Species    Weight   Length1   Length2   Length3    Height     Width\n",
       "0          1  0.146667  0.304854  0.309091  0.358108  0.568334  0.418978\n",
       "1          1  0.175758  0.320388  0.325455  0.378378  0.624055  0.459235\n",
       "2          1  0.206061  0.318447  0.329091  0.376689  0.618123  0.514279\n",
       "3          1  0.220000  0.365049  0.374545  0.417230  0.638566  0.480365\n",
       "4          1  0.260606  0.368932  0.374545  0.425676  0.621966  0.576004\n",
       "..       ...       ...       ...       ...       ...       ...       ...\n",
       "154        7  0.007394  0.077670  0.069091  0.077703  0.021012  0.048771\n",
       "155        7  0.008121  0.081553  0.072727  0.079392  0.040723  0.031208\n",
       "156        7  0.007394  0.089320  0.083636  0.084459  0.031842  0.029347\n",
       "157        7  0.011939  0.110680  0.107273  0.108108  0.066424  0.143719\n",
       "158        7  0.012061  0.122330  0.120000  0.125000  0.069872  0.117219\n",
       "\n",
       "[159 rows x 7 columns]"
      ]
     },
     "execution_count": 69,
     "metadata": {},
     "output_type": "execute_result"
    }
   ],
   "source": [
    "fish_data = pd.read_csv(\"Datasets/Normalized_Fish_Market_dataset.csv\")\n",
    "fish_data"
   ]
  },
  {
   "cell_type": "code",
   "execution_count": 75,
   "id": "957393f7",
   "metadata": {},
   "outputs": [
    {
     "data": {
      "text/plain": [
       "(array([-1.72973228,  1.04445573, -1.48437715,  0.43514293,  1.22620486,\n",
       "        -1.65168302,  2.15998893]),\n",
       " array([[ 0.40693447, -0.08151046,  0.02430067,  0.68707502,  4.4680903 ,\n",
       "          0.10846618],\n",
       "        [-0.84632903, -0.37083384, -0.413896  , -0.23737527, -0.51156284,\n",
       "          0.05533621],\n",
       "        [ 0.43251954,  0.18661426,  0.20459789,  0.2011586 ,  0.22967787,\n",
       "          0.69613576],\n",
       "        [-0.5137824 , -0.61707128, -0.62100853, -0.56775076,  0.90130165,\n",
       "         -0.69847695],\n",
       "        [ 0.62789218, -0.08518746, -0.03683593, -0.80750448, -1.68139408,\n",
       "          2.3999911 ],\n",
       "        [ 0.50513015,  2.14050063,  2.0889882 ,  1.98575668, -1.53299801,\n",
       "         -0.4058352 ],\n",
       "        [-0.61236491, -1.17251185, -1.24614631, -1.26135979, -1.87311489,\n",
       "         -2.1556171 ]]))"
      ]
     },
     "execution_count": 75,
     "metadata": {},
     "output_type": "execute_result"
    }
   ],
   "source": [
    "target_fish = fish_data['Species']\n",
    "data_fish = fish_data.drop(columns = ['Species'])\n",
    "lr1 = LogisticRegression().fit(data_fish, target_fish)\n",
    "pred_fish = lr1.predict(data_fish)\n",
    "lr1.intercept_, lr1.coef_"
   ]
  },
  {
   "cell_type": "markdown",
   "id": "7ce672b3",
   "metadata": {},
   "source": [
    "### b. For the implementation done in part a, print the confusion matrix and find accuracy, precision, recall, and f1_score."
   ]
  },
  {
   "cell_type": "code",
   "execution_count": 76,
   "id": "bb746d61",
   "metadata": {},
   "outputs": [
    {
     "name": "stdout",
     "output_type": "stream",
     "text": [
      "[[35  0  0  0  0  0  0]\n",
      " [ 0  0  0  0 20  0  0]\n",
      " [ 0  0  0  0  6  0  0]\n",
      " [ 0  0  0  0 11  0  0]\n",
      " [ 0  0  0  0 54  0  2]\n",
      " [ 0  0  0  0  6 11  0]\n",
      " [ 0  0  0  0  1  0 13]]\n"
     ]
    }
   ],
   "source": [
    "print(confusion_matrix(target_fish, pred_fish))"
   ]
  },
  {
   "cell_type": "code",
   "execution_count": 83,
   "id": "6e18efb7",
   "metadata": {},
   "outputs": [
    {
     "name": "stdout",
     "output_type": "stream",
     "text": [
      "Accuracy: 0.710691823899371\n",
      "Precision: 0.710691823899371\n",
      "Recall score: 0.710691823899371\n",
      "F1 score: 0.710691823899371\n"
     ]
    }
   ],
   "source": [
    "print(\"Accuracy:\", accuracy_score(target_fish, pred_fish))\n",
    "print(\"Precision:\", precision_score(target_fish, pred_fish, average='micro'))\n",
    "print(\"Recall score:\", recall_score(target_fish, pred_fish, average='micro'))\n",
    "print(\"F1 score:\", f1_score(target_fish, pred_fish, average='micro'))"
   ]
  },
  {
   "cell_type": "code",
   "execution_count": 85,
   "id": "bd0242f2",
   "metadata": {},
   "outputs": [
    {
     "name": "stdout",
     "output_type": "stream",
     "text": [
      "ALL DONE!\n"
     ]
    }
   ],
   "source": [
    "print(\"ALL DONE!\")"
   ]
  }
 ],
 "metadata": {
  "kernelspec": {
   "display_name": ".venv",
   "language": "python",
   "name": "python3"
  },
  "language_info": {
   "codemirror_mode": {
    "name": "ipython",
    "version": 3
   },
   "file_extension": ".py",
   "mimetype": "text/x-python",
   "name": "python",
   "nbconvert_exporter": "python",
   "pygments_lexer": "ipython3",
   "version": "3.13.2"
  }
 },
 "nbformat": 4,
 "nbformat_minor": 5
}
